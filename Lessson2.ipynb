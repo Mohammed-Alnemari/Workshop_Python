{
  "nbformat": 4,
  "nbformat_minor": 0,
  "metadata": {
    "colab": {
      "provenance": [],
      "authorship_tag": "ABX9TyOTqsJ4iucjQqjhuwDVsma7",
      "include_colab_link": true
    },
    "kernelspec": {
      "name": "python3",
      "display_name": "Python 3"
    },
    "language_info": {
      "name": "python"
    }
  },
  "cells": [
    {
      "cell_type": "markdown",
      "metadata": {
        "id": "view-in-github",
        "colab_type": "text"
      },
      "source": [
        "<a href=\"https://colab.research.google.com/github/Mohammed-Alnemari/Workshop_Python/blob/main/Lessson2.ipynb\" target=\"_parent\"><img src=\"https://colab.research.google.com/assets/colab-badge.svg\" alt=\"Open In Colab\"/></a>"
      ]
    },
    {
      "cell_type": "markdown",
      "source": [
        "# Identifier Names and Varaible assignments \n",
        "### Follow the rules \n",
        "\n",
        "*    no space in the names, and we can not start with number \n",
        "*   Start with (_) or letter (a-z) or (A-Z)\n",
        "*   Followed by any number of (_) or letters (a-z,A-Z) or digtit (0-9)\n",
        "*   legal names var, my_var, index1, index_1, _var, __var, ___lt___\n",
        "*   Best practice using PEP8 recomandtion variables are lowercase\n",
        "*   you can not assign your varaibles to reserved names such \n",
        "\n",
        "\n",
        "Reserved worrds  | Type | \n",
        "-------------------|------------------|\n",
        "None, True, False         | Boolean |\n",
        "and, or, not      | Comparsion |\n",
        "if,else,elif           | Condition |\n",
        "for,while           | loops |\n",
        "break,continue,pass           | Loop control |\n",
        "def,lambda,filter           | function in python |\n",
        "global,nonlocal,yield           | varaibel and generator |\n",
        "del,in,is,assert,class           | testing, class, and cheking  |\n",
        "try,except,finally,raise           | handling exception,raise   |\n",
        "import,from,with,as           | modules, and files |\n",
        "\n",
        "\n",
        "\n"
      ],
      "metadata": {
        "id": "Ap3d_LDygF2v"
      }
    },
    {
      "cell_type": "code",
      "execution_count": null,
      "metadata": {
        "colab": {
          "base_uri": "https://localhost:8080/"
        },
        "id": "7x3NKjedgCqA",
        "outputId": "20e0f439-1754-4370-e8d9-5d766aea62c1"
      },
      "outputs": [
        {
          "output_type": "stream",
          "name": "stdout",
          "text": [
            "The name is Ali and the GPA of Ali is 3.75\n"
          ]
        }
      ],
      "source": [
        "# you should call the name of your variable to make sense with code you are writting \n",
        "# Example if you writing a program for a class dataset \n",
        "\n",
        "student_name = \"Ali\"\n",
        "student_gpa = 3.75\n",
        "\n",
        "\n",
        "print (\"The name is {} and the GPA of {} is {}\".format(student_name,student_name,student_gpa))"
      ]
    },
    {
      "cell_type": "code",
      "source": [
        "# mistakes  \n",
        "9m1 = 55 # wrong because var is not starting by number\n",
        "float = 33 # reserved word\n",
        "nonlocal = 334 #reserverd word "
      ],
      "metadata": {
        "colab": {
          "base_uri": "https://localhost:8080/",
          "height": 131
        },
        "id": "M4ARZTCalAQt",
        "outputId": "b8e2b694-4568-41e2-d4de-3c4962ac7ee9"
      },
      "execution_count": null,
      "outputs": [
        {
          "output_type": "error",
          "ename": "SyntaxError",
          "evalue": "ignored",
          "traceback": [
            "\u001b[0;36m  File \u001b[0;32m\"<ipython-input-7-6609669ca871>\"\u001b[0;36m, line \u001b[0;32m2\u001b[0m\n\u001b[0;31m    9m1 = 55 # wrong because var is not starting by number\u001b[0m\n\u001b[0m      ^\u001b[0m\n\u001b[0;31mSyntaxError\u001b[0m\u001b[0;31m:\u001b[0m invalid syntax\n"
          ]
        }
      ]
    },
    {
      "cell_type": "markdown",
      "source": [
        "# Convention for names that we use underscore with "
      ],
      "metadata": {
        "id": "QFbgOvavm4K0"
      }
    },
    {
      "cell_type": "code",
      "source": [
        "# using one underscor in the var imply this var is private, there is no private in python  \n",
        "_myvar = 22"
      ],
      "metadata": {
        "id": "-ZFBkXL_lra7"
      },
      "execution_count": null,
      "outputs": []
    },
    {
      "cell_type": "markdown",
      "source": [
        "# What is the problem with this ? \n",
        "* define your variables with _  if you create your own module and import it \n",
        "* this will not be seen by the editior, you can access but not the easy way \n",
        "* Example create a library called TabukX and you define in it _varx \n",
        "* when you from TabukX import * << will not be able to see _varx "
      ],
      "metadata": {
        "id": "nfsUgtMDnTvK"
      }
    },
    {
      "cell_type": "code",
      "source": [
        "# using two underscore __ in the var imply you are using for inhertence chain \n",
        "__var = 56"
      ],
      "metadata": {
        "id": "zEipp5Valtjc"
      },
      "execution_count": null,
      "outputs": []
    },
    {
      "cell_type": "code",
      "source": [
        "# using two underscroe ___ at the start and at the end imply this for\n",
        "# system defined names that has speicla meant to the interpreter \n",
        "\n",
        "#__init__ # this is in the class initlize the constructors \n",
        "#__repr__\n",
        "\n",
        "#x > y mean x.__gt__(y)   "
      ],
      "metadata": {
        "id": "tITQIYGuoL0d"
      },
      "execution_count": null,
      "outputs": []
    },
    {
      "cell_type": "code",
      "source": [
        "x = 5"
      ],
      "metadata": {
        "id": "BF5WmhiWor-n"
      },
      "execution_count": null,
      "outputs": []
    },
    {
      "cell_type": "code",
      "source": [
        "y = 7"
      ],
      "metadata": {
        "id": "2UvuPMzSoyN-"
      },
      "execution_count": null,
      "outputs": []
    },
    {
      "cell_type": "code",
      "source": [
        "x.__gt__(y)"
      ],
      "metadata": {
        "colab": {
          "base_uri": "https://localhost:8080/"
        },
        "id": "QeUSJRjYo1Va",
        "outputId": "95d8ab60-249d-4369-d0d3-8bc2e2139668"
      },
      "execution_count": null,
      "outputs": [
        {
          "output_type": "execute_result",
          "data": {
            "text/plain": [
              "False"
            ]
          },
          "metadata": {},
          "execution_count": 18
        }
      ]
    },
    {
      "cell_type": "code",
      "source": [
        "x.__lt__(y)"
      ],
      "metadata": {
        "colab": {
          "base_uri": "https://localhost:8080/"
        },
        "id": "0XpVqkXvo6tw",
        "outputId": "06bc8814-b4dd-412b-9ead-84326e9b67b8"
      },
      "execution_count": null,
      "outputs": [
        {
          "output_type": "execute_result",
          "data": {
            "text/plain": [
              "True"
            ]
          },
          "metadata": {},
          "execution_count": 19
        }
      ]
    },
    {
      "cell_type": "code",
      "source": [
        "x+y"
      ],
      "metadata": {
        "colab": {
          "base_uri": "https://localhost:8080/"
        },
        "id": "vj84lpelpAin",
        "outputId": "05f4adf5-dd03-4594-bc18-0b93a5b74acd"
      },
      "execution_count": null,
      "outputs": [
        {
          "output_type": "execute_result",
          "data": {
            "text/plain": [
              "12"
            ]
          },
          "metadata": {},
          "execution_count": 20
        }
      ]
    },
    {
      "cell_type": "code",
      "source": [
        "x.__add__(y)"
      ],
      "metadata": {
        "colab": {
          "base_uri": "https://localhost:8080/"
        },
        "id": "KHaRoIRvpEuw",
        "outputId": "3589c8b1-a376-4186-df1e-6bb6a7d2a105"
      },
      "execution_count": null,
      "outputs": [
        {
          "output_type": "execute_result",
          "data": {
            "text/plain": [
              "12"
            ]
          },
          "metadata": {},
          "execution_count": 21
        }
      ]
    },
    {
      "cell_type": "markdown",
      "source": [
        "Conventions  | PEP8 Style | \n",
        "-------------------|------------------|\n",
        "Pakages \"Short,all-lowercase name, prfer not underscors\"         | torch |\n",
        "Modules  \"Short, all-lowercase name can_have underscore\"    | df_util,dfutil|\n",
        "Classes  \"CapWords (Upper camel Case) Conventions\"          | TabukAccount |\n",
        "Functions \"lowercase, word seprated by underscore\"           | my_func |\n",
        "variables \"lowercase,word seprared by underscore\"          | my_var |\n",
        "Constant   \"all_upper case, words seprated by underscore  \"| MIN_PRICE |\n",
        "\n"
      ],
      "metadata": {
        "id": "0mM0a4J7qFJm"
      }
    },
    {
      "cell_type": "markdown",
      "source": [
        "# Quize for lesson 2\n",
        "* write five illagel names and explain why \n",
        "* write 3 rules from PEP8 about varaibles"
      ],
      "metadata": {
        "id": "8EW3GMxspMNj"
      }
    },
    {
      "cell_type": "code",
      "source": [],
      "metadata": {
        "id": "wUMdO9SLpHk0"
      },
      "execution_count": null,
      "outputs": []
    },
    {
      "cell_type": "code",
      "source": [],
      "metadata": {
        "id": "i2EOMXampoLC"
      },
      "execution_count": null,
      "outputs": []
    },
    {
      "cell_type": "code",
      "source": [],
      "metadata": {
        "id": "k83ODnNEpo4c"
      },
      "execution_count": null,
      "outputs": []
    },
    {
      "cell_type": "markdown",
      "source": [
        "# Depth of variables names \n",
        "* Var and memory references \n",
        "* refernce counting \n",
        "* garbage collection \n",
        "* dynamic vs static typing \n",
        "* variable reassignment \n",
        "* object mutablity \n",
        "* function arguments and mutability \n",
        "*  variable equlity \n",
        "* everyting is in object \n",
        "* dive in python interning \n",
        "\n",
        "if you are interested to learn about these will take between 3-5 hours with practicing. email me mnemari@ut.edu.sa "
      ],
      "metadata": {
        "id": "-v-4lQyHppRM"
      }
    },
    {
      "cell_type": "code",
      "source": [],
      "metadata": {
        "id": "1EAC5w4js7sP"
      },
      "execution_count": null,
      "outputs": []
    }
  ]
}