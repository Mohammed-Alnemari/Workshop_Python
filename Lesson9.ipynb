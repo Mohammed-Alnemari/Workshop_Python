{
  "nbformat": 4,
  "nbformat_minor": 0,
  "metadata": {
    "colab": {
      "provenance": [],
      "authorship_tag": "ABX9TyOw58dhW1rMJzgo/ZXrx78K",
      "include_colab_link": true
    },
    "kernelspec": {
      "name": "python3",
      "display_name": "Python 3"
    },
    "language_info": {
      "name": "python"
    }
  },
  "cells": [
    {
      "cell_type": "markdown",
      "metadata": {
        "id": "view-in-github",
        "colab_type": "text"
      },
      "source": [
        "<a href=\"https://colab.research.google.com/github/Mohammed-Alnemari/Workshop_Python/blob/main/Lesson9.ipynb\" target=\"_parent\"><img src=\"https://colab.research.google.com/assets/colab-badge.svg\" alt=\"Open In Colab\"/></a>"
      ]
    },
    {
      "cell_type": "markdown",
      "source": [
        "# Python Function  \n",
        "* def \n",
        "* (*args,**kwargs)\n",
        "* docstrings\n",
        "* scope & namespace  \n",
        "* anynomys function (lambda,local,nonlocal)\n",
        "* python module\n",
        "* python package \n",
        "\n"
      ],
      "metadata": {
        "id": "XPFbXMFl0xDb"
      }
    },
    {
      "cell_type": "code",
      "execution_count": null,
      "metadata": {
        "id": "PgURtKJK0v9x"
      },
      "outputs": [],
      "source": []
    }
  ]
}