{
  "nbformat": 4,
  "nbformat_minor": 0,
  "metadata": {
    "colab": {
      "provenance": [],
      "authorship_tag": "ABX9TyOIyT14i7Tst0N8u9fzvahu",
      "include_colab_link": true
    },
    "kernelspec": {
      "name": "python3",
      "display_name": "Python 3"
    },
    "language_info": {
      "name": "python"
    }
  },
  "cells": [
    {
      "cell_type": "markdown",
      "metadata": {
        "id": "view-in-github",
        "colab_type": "text"
      },
      "source": [
        "<a href=\"https://colab.research.google.com/github/Mohammed-Alnemari/Workshop_Python/blob/main/Lesson9.ipynb\" target=\"_parent\"><img src=\"https://colab.research.google.com/assets/colab-badge.svg\" alt=\"Open In Colab\"/></a>"
      ]
    },
    {
      "cell_type": "markdown",
      "source": [
        "# Python Function \n",
        "* name space and scope \n",
        "* def \n",
        "* (*args,**kwargs)\n",
        "* docstrings\n",
        "* scope & namespace  \n",
        "* anynomys function (lambda,map,filter)\n",
        "* python module\n",
        "* python package \n",
        "\n"
      ],
      "metadata": {
        "id": "XPFbXMFl0xDb"
      }
    },
    {
      "cell_type": "code",
      "execution_count": 15,
      "metadata": {
        "id": "PgURtKJK0v9x"
      },
      "outputs": [],
      "source": []
    },
    {
      "cell_type": "code",
      "source": [
        "x = 'global'\n",
        "def func():\n",
        "  def func2():\n",
        "    print(x)\n",
        "  func2()"
      ],
      "metadata": {
        "id": "67F2rLfLFLDT"
      },
      "execution_count": 5,
      "outputs": []
    },
    {
      "cell_type": "code",
      "source": [
        "func()"
      ],
      "metadata": {
        "colab": {
          "base_uri": "https://localhost:8080/"
        },
        "id": "aHB_DH5NIpnw",
        "outputId": "b41e5641-e4c6-49d2-90d5-4be224588e5b"
      },
      "execution_count": 6,
      "outputs": [
        {
          "output_type": "stream",
          "name": "stdout",
          "text": [
            "global\n"
          ]
        }
      ]
    },
    {
      "cell_type": "code",
      "source": [
        "x = 'global'\n",
        "def func():\n",
        "  x= 'enclosing'\n",
        "  def func2():\n",
        "    print(x)\n",
        "  func2()"
      ],
      "metadata": {
        "id": "0Z5FGaenIrt3"
      },
      "execution_count": 7,
      "outputs": []
    },
    {
      "cell_type": "code",
      "source": [
        "func()"
      ],
      "metadata": {
        "colab": {
          "base_uri": "https://localhost:8080/"
        },
        "id": "HPXFzWYCI7Ow",
        "outputId": "859c6596-5f0a-4e70-c4ca-cebd2570d8eb"
      },
      "execution_count": 9,
      "outputs": [
        {
          "output_type": "stream",
          "name": "stdout",
          "text": [
            "enclosing\n"
          ]
        }
      ]
    },
    {
      "cell_type": "code",
      "source": [
        "x = 'global'\n",
        "def func():\n",
        "  x= 'enclosing'\n",
        "  def func2():\n",
        "    x= 'local'\n",
        "    print(x)\n",
        "  func2()"
      ],
      "metadata": {
        "id": "eWUG0U-XI8fZ"
      },
      "execution_count": 10,
      "outputs": []
    },
    {
      "cell_type": "code",
      "source": [
        "func()"
      ],
      "metadata": {
        "colab": {
          "base_uri": "https://localhost:8080/"
        },
        "id": "4UHasL6-JDQh",
        "outputId": "38e2eebf-d868-4fdb-fb1e-4896c55e8a00"
      },
      "execution_count": 11,
      "outputs": [
        {
          "output_type": "stream",
          "name": "stdout",
          "text": [
            "local\n"
          ]
        }
      ]
    },
    {
      "cell_type": "code",
      "source": [
        "type(globals())"
      ],
      "metadata": {
        "colab": {
          "base_uri": "https://localhost:8080/"
        },
        "id": "juIUeuOFJEkK",
        "outputId": "b5c8b7da-dbbd-4414-a677-ce2808807c7e"
      },
      "execution_count": 12,
      "outputs": [
        {
          "output_type": "execute_result",
          "data": {
            "text/plain": [
              "dict"
            ]
          },
          "metadata": {},
          "execution_count": 12
        }
      ]
    },
    {
      "cell_type": "code",
      "source": [
        "globals()"
      ],
      "metadata": {
        "colab": {
          "base_uri": "https://localhost:8080/"
        },
        "id": "KZ5Kg1RoJfUi",
        "outputId": "95ba4278-dbed-45a1-a803-2ca6e4ac85f1"
      },
      "execution_count": 13,
      "outputs": [
        {
          "output_type": "execute_result",
          "data": {
            "text/plain": [
              "{'__name__': '__main__',\n",
              " '__doc__': 'Automatically created module for IPython interactive environment',\n",
              " '__package__': None,\n",
              " '__loader__': None,\n",
              " '__spec__': None,\n",
              " '__builtin__': <module 'builtins' (built-in)>,\n",
              " '__builtins__': <module 'builtins' (built-in)>,\n",
              " '_ih': ['',\n",
              "  '# to define function \\ndef function(args):\\n  pass',\n",
              "  \"x = 'global'\\ndef func():\\n  def func2():\\n    print(x)\",\n",
              "  'func()',\n",
              "  'func2()',\n",
              "  \"x = 'global'\\ndef func():\\n  def func2():\\n    print(x)\\n  func2()\",\n",
              "  'func()',\n",
              "  \"x = 'global'\\ndef func():\\n  x= 'enclosing'\\n  def func2():\\n    print(x)\\n  func2()\",\n",
              "  'func',\n",
              "  'func()',\n",
              "  \"x = 'global'\\ndef func():\\n  x= 'enclosing'\\n  def func2():\\n    x= 'local'\\n    print(x)\\n  func2()\",\n",
              "  'func()',\n",
              "  'type(globals())',\n",
              "  'globals()'],\n",
              " '_oh': {8: <function __main__.func()>, 12: dict},\n",
              " '_dh': ['/content'],\n",
              " 'In': ['',\n",
              "  '# to define function \\ndef function(args):\\n  pass',\n",
              "  \"x = 'global'\\ndef func():\\n  def func2():\\n    print(x)\",\n",
              "  'func()',\n",
              "  'func2()',\n",
              "  \"x = 'global'\\ndef func():\\n  def func2():\\n    print(x)\\n  func2()\",\n",
              "  'func()',\n",
              "  \"x = 'global'\\ndef func():\\n  x= 'enclosing'\\n  def func2():\\n    print(x)\\n  func2()\",\n",
              "  'func',\n",
              "  'func()',\n",
              "  \"x = 'global'\\ndef func():\\n  x= 'enclosing'\\n  def func2():\\n    x= 'local'\\n    print(x)\\n  func2()\",\n",
              "  'func()',\n",
              "  'type(globals())',\n",
              "  'globals()'],\n",
              " 'Out': {8: <function __main__.func()>, 12: dict},\n",
              " 'get_ipython': <bound method InteractiveShell.get_ipython of <google.colab._shell.Shell object at 0x7f74b074d4d0>>,\n",
              " 'exit': <IPython.core.autocall.ZMQExitAutocall at 0x7f74ad6fe990>,\n",
              " 'quit': <IPython.core.autocall.ZMQExitAutocall at 0x7f74ad6fe990>,\n",
              " '_': dict,\n",
              " '__': <function __main__.func()>,\n",
              " '___': '',\n",
              " '_i': 'type(globals())',\n",
              " '_ii': 'func()',\n",
              " '_iii': \"x = 'global'\\ndef func():\\n  x= 'enclosing'\\n  def func2():\\n    x= 'local'\\n    print(x)\\n  func2()\",\n",
              " '_i1': '# to define function \\ndef function(args):\\n  pass',\n",
              " 'function': <function __main__.function(args)>,\n",
              " '_i2': \"x = 'global'\\ndef func():\\n  def func2():\\n    print(x)\",\n",
              " 'x': 'global',\n",
              " 'func': <function __main__.func()>,\n",
              " '_i3': 'func()',\n",
              " '_i4': 'func2()',\n",
              " '_i5': \"x = 'global'\\ndef func():\\n  def func2():\\n    print(x)\\n  func2()\",\n",
              " '_i6': 'func()',\n",
              " '_i7': \"x = 'global'\\ndef func():\\n  x= 'enclosing'\\n  def func2():\\n    print(x)\\n  func2()\",\n",
              " '_i8': 'func',\n",
              " '_8': <function __main__.func()>,\n",
              " '_i9': 'func()',\n",
              " '_i10': \"x = 'global'\\ndef func():\\n  x= 'enclosing'\\n  def func2():\\n    x= 'local'\\n    print(x)\\n  func2()\",\n",
              " '_i11': 'func()',\n",
              " '_i12': 'type(globals())',\n",
              " '_12': dict,\n",
              " '_i13': 'globals()'}"
            ]
          },
          "metadata": {},
          "execution_count": 13
        }
      ]
    },
    {
      "cell_type": "code",
      "source": [
        "type(locals())"
      ],
      "metadata": {
        "colab": {
          "base_uri": "https://localhost:8080/"
        },
        "id": "P8OVlyvSJkGJ",
        "outputId": "51c3f0ce-1434-40e2-8dfa-fce419cab900"
      },
      "execution_count": 14,
      "outputs": [
        {
          "output_type": "execute_result",
          "data": {
            "text/plain": [
              "dict"
            ]
          },
          "metadata": {},
          "execution_count": 14
        }
      ]
    },
    {
      "cell_type": "code",
      "source": [
        "locals()"
      ],
      "metadata": {
        "colab": {
          "base_uri": "https://localhost:8080/"
        },
        "id": "XEjwWRskJoYR",
        "outputId": "c88302c1-5bb5-4cc2-b6c3-3fa66d6a1434"
      },
      "execution_count": 15,
      "outputs": [
        {
          "output_type": "execute_result",
          "data": {
            "text/plain": [
              "{'__name__': '__main__',\n",
              " '__doc__': 'Automatically created module for IPython interactive environment',\n",
              " '__package__': None,\n",
              " '__loader__': None,\n",
              " '__spec__': None,\n",
              " '__builtin__': <module 'builtins' (built-in)>,\n",
              " '__builtins__': <module 'builtins' (built-in)>,\n",
              " '_ih': ['',\n",
              "  '# to define function \\ndef function(args):\\n  pass',\n",
              "  \"x = 'global'\\ndef func():\\n  def func2():\\n    print(x)\",\n",
              "  'func()',\n",
              "  'func2()',\n",
              "  \"x = 'global'\\ndef func():\\n  def func2():\\n    print(x)\\n  func2()\",\n",
              "  'func()',\n",
              "  \"x = 'global'\\ndef func():\\n  x= 'enclosing'\\n  def func2():\\n    print(x)\\n  func2()\",\n",
              "  'func',\n",
              "  'func()',\n",
              "  \"x = 'global'\\ndef func():\\n  x= 'enclosing'\\n  def func2():\\n    x= 'local'\\n    print(x)\\n  func2()\",\n",
              "  'func()',\n",
              "  'type(globals())',\n",
              "  'globals()',\n",
              "  'type(locals())',\n",
              "  'locals()'],\n",
              " '_oh': {8: <function __main__.func()>, 12: dict, 13: {...}, 14: dict},\n",
              " '_dh': ['/content'],\n",
              " 'In': ['',\n",
              "  '# to define function \\ndef function(args):\\n  pass',\n",
              "  \"x = 'global'\\ndef func():\\n  def func2():\\n    print(x)\",\n",
              "  'func()',\n",
              "  'func2()',\n",
              "  \"x = 'global'\\ndef func():\\n  def func2():\\n    print(x)\\n  func2()\",\n",
              "  'func()',\n",
              "  \"x = 'global'\\ndef func():\\n  x= 'enclosing'\\n  def func2():\\n    print(x)\\n  func2()\",\n",
              "  'func',\n",
              "  'func()',\n",
              "  \"x = 'global'\\ndef func():\\n  x= 'enclosing'\\n  def func2():\\n    x= 'local'\\n    print(x)\\n  func2()\",\n",
              "  'func()',\n",
              "  'type(globals())',\n",
              "  'globals()',\n",
              "  'type(locals())',\n",
              "  'locals()'],\n",
              " 'Out': {8: <function __main__.func()>, 12: dict, 13: {...}, 14: dict},\n",
              " 'get_ipython': <bound method InteractiveShell.get_ipython of <google.colab._shell.Shell object at 0x7f74b074d4d0>>,\n",
              " 'exit': <IPython.core.autocall.ZMQExitAutocall at 0x7f74ad6fe990>,\n",
              " 'quit': <IPython.core.autocall.ZMQExitAutocall at 0x7f74ad6fe990>,\n",
              " '_': dict,\n",
              " '__': {...},\n",
              " '___': dict,\n",
              " '_i': 'type(locals())',\n",
              " '_ii': 'globals()',\n",
              " '_iii': 'type(globals())',\n",
              " '_i1': '# to define function \\ndef function(args):\\n  pass',\n",
              " 'function': <function __main__.function(args)>,\n",
              " '_i2': \"x = 'global'\\ndef func():\\n  def func2():\\n    print(x)\",\n",
              " 'x': 'global',\n",
              " 'func': <function __main__.func()>,\n",
              " '_i3': 'func()',\n",
              " '_i4': 'func2()',\n",
              " '_i5': \"x = 'global'\\ndef func():\\n  def func2():\\n    print(x)\\n  func2()\",\n",
              " '_i6': 'func()',\n",
              " '_i7': \"x = 'global'\\ndef func():\\n  x= 'enclosing'\\n  def func2():\\n    print(x)\\n  func2()\",\n",
              " '_i8': 'func',\n",
              " '_8': <function __main__.func()>,\n",
              " '_i9': 'func()',\n",
              " '_i10': \"x = 'global'\\ndef func():\\n  x= 'enclosing'\\n  def func2():\\n    x= 'local'\\n    print(x)\\n  func2()\",\n",
              " '_i11': 'func()',\n",
              " '_i12': 'type(globals())',\n",
              " '_12': dict,\n",
              " '_i13': 'globals()',\n",
              " '_13': {...},\n",
              " '_i14': 'type(locals())',\n",
              " '_14': dict,\n",
              " '_i15': 'locals()'}"
            ]
          },
          "metadata": {},
          "execution_count": 15
        }
      ]
    },
    {
      "cell_type": "code",
      "source": [
        "# Python functions takes an argument and return a values\n",
        "def func_add(x,y):\n",
        "  return x+y"
      ],
      "metadata": {
        "id": "OmFiuqw_Jpzz"
      },
      "execution_count": 17,
      "outputs": []
    },
    {
      "cell_type": "code",
      "source": [
        "# function called it creates a nemespace for this function "
      ],
      "metadata": {
        "id": "qlnmoitIKpmq"
      },
      "execution_count": null,
      "outputs": []
    },
    {
      "cell_type": "code",
      "source": [
        "def func(a,b,c=5):\n",
        "  return a+b+c"
      ],
      "metadata": {
        "id": "-QomfVO3MOwX"
      },
      "execution_count": 18,
      "outputs": []
    },
    {
      "cell_type": "code",
      "source": [
        "def ftupe(*args):\n",
        "  print(args)\n",
        "  print(type(args),len(args))\n",
        "  for x in args:\n",
        "    print(x)"
      ],
      "metadata": {
        "id": "HlN9jaYvMVoB"
      },
      "execution_count": 19,
      "outputs": []
    },
    {
      "cell_type": "code",
      "source": [
        "ftupe(1,3,4,5,6)"
      ],
      "metadata": {
        "colab": {
          "base_uri": "https://localhost:8080/"
        },
        "id": "F0pdtcbnNQMk",
        "outputId": "abd5010d-97cd-40c2-9533-ccd6eb87d8c7"
      },
      "execution_count": 20,
      "outputs": [
        {
          "output_type": "stream",
          "name": "stdout",
          "text": [
            "(1, 3, 4, 5, 6)\n",
            "<class 'tuple'> 5\n",
            "1\n",
            "3\n",
            "4\n",
            "5\n",
            "6\n"
          ]
        }
      ]
    },
    {
      "cell_type": "code",
      "source": [
        "def avg(*args):\n",
        "  return sum(args)/len(args)"
      ],
      "metadata": {
        "id": "5iaGE0V3NUTM"
      },
      "execution_count": 21,
      "outputs": []
    },
    {
      "cell_type": "code",
      "source": [
        "avg(1,2,3,4)"
      ],
      "metadata": {
        "colab": {
          "base_uri": "https://localhost:8080/"
        },
        "id": "0hjZ_wahNrdv",
        "outputId": "90c4df03-49db-4c85-f889-effdd2ae92b2"
      },
      "execution_count": 22,
      "outputs": [
        {
          "output_type": "execute_result",
          "data": {
            "text/plain": [
              "2.5"
            ]
          },
          "metadata": {},
          "execution_count": 22
        }
      ]
    },
    {
      "cell_type": "code",
      "source": [
        "def fdict(**kwargs):\n",
        "  print(kwargs)\n",
        "  print(type(kwargs))\n",
        "  for k,val in kwargs.items():\n",
        "    print(k,'->',val)"
      ],
      "metadata": {
        "id": "AOdhwbrKNtX4"
      },
      "execution_count": 25,
      "outputs": []
    },
    {
      "cell_type": "code",
      "source": [
        "fdict(car=2,yacht=3,fridge=4)"
      ],
      "metadata": {
        "colab": {
          "base_uri": "https://localhost:8080/"
        },
        "id": "VLw_hVHGOZYN",
        "outputId": "7c122a3a-8e8d-4371-fc1e-3d44d9a698ad"
      },
      "execution_count": 26,
      "outputs": [
        {
          "output_type": "stream",
          "name": "stdout",
          "text": [
            "{'car': 2, 'yacht': 3, 'fridge': 4}\n",
            "<class 'dict'>\n",
            "car -> 2\n",
            "yacht -> 3\n",
            "fridge -> 4\n"
          ]
        }
      ]
    },
    {
      "cell_type": "code",
      "source": [
        "def f(a, b, *args, **kwargs):\n",
        "  print(F'a = {a}')\n",
        "  print(F'b = {b}')\n",
        "  print(F'args = {args}')\n",
        "  print(F'kwargs = {kwargs}')"
      ],
      "metadata": {
        "id": "oAVZLMmVOiyM"
      },
      "execution_count": 27,
      "outputs": []
    },
    {
      "cell_type": "code",
      "source": [
        "f(1, 2, 'foo', 'bar', 'baz', 'qux', x=100, y=200, z=300)"
      ],
      "metadata": {
        "colab": {
          "base_uri": "https://localhost:8080/"
        },
        "id": "24x3xcfZO7BB",
        "outputId": "d36358a3-a22a-431e-bdf2-47105922526b"
      },
      "execution_count": 28,
      "outputs": [
        {
          "output_type": "stream",
          "name": "stdout",
          "text": [
            "a = 1\n",
            "b = 2\n",
            "args = ('foo', 'bar', 'baz', 'qux')\n",
            "kwargs = {'x': 100, 'y': 200, 'z': 300}\n"
          ]
        }
      ]
    },
    {
      "cell_type": "code",
      "source": [
        "def functiondoc(x:int,y:int) -> int:\n",
        "  '''\n",
        "    Returns the power of two decimal numbers .\n",
        "\n",
        "            Parameters:\n",
        "                    x (int): A decimal integer\n",
        "                    y (int): Another decimal integer\n",
        "\n",
        "            Returns:\n",
        "                    power of a&b (int): Power of x and y\n",
        "    '''\n",
        "  return x**y"
      ],
      "metadata": {
        "id": "LcIsj1DPO8iC"
      },
      "execution_count": 42,
      "outputs": []
    },
    {
      "cell_type": "code",
      "source": [
        "print(functiondoc.__doc__)"
      ],
      "metadata": {
        "colab": {
          "base_uri": "https://localhost:8080/"
        },
        "id": "iIOprzjCPjOW",
        "outputId": "762b64c5-bf21-4b41-a544-0e045fe52374"
      },
      "execution_count": 43,
      "outputs": [
        {
          "output_type": "stream",
          "name": "stdout",
          "text": [
            "\n",
            "    Returns the power of two decimal numbers .\n",
            "\n",
            "            Parameters:\n",
            "                    x (int): A decimal integer\n",
            "                    y (int): Another decimal integer\n",
            "\n",
            "            Returns:\n",
            "                    power of a&b (int): Power of x and y\n",
            "    \n"
          ]
        }
      ]
    },
    {
      "cell_type": "code",
      "source": [
        "# the global and the nonlocal declartion \n",
        "\n",
        "x = 20 \n",
        "def f1():\n",
        "  global x\n",
        "  x = 40\n",
        "  print(x)"
      ],
      "metadata": {
        "id": "fYLnHrycPncJ"
      },
      "execution_count": 35,
      "outputs": []
    },
    {
      "cell_type": "code",
      "source": [
        "f1()"
      ],
      "metadata": {
        "colab": {
          "base_uri": "https://localhost:8080/"
        },
        "id": "kUF3T4RwReGy",
        "outputId": "db8ab46a-1a4d-4d59-fe71-37be5687afb8"
      },
      "execution_count": 37,
      "outputs": [
        {
          "output_type": "stream",
          "name": "stdout",
          "text": [
            "40\n"
          ]
        }
      ]
    },
    {
      "cell_type": "code",
      "source": [
        "x = 20 \n",
        "def f1():\n",
        "  globals() ['x'] = 40\n",
        "  print(x)"
      ],
      "metadata": {
        "id": "IRAXTo-HRe5_"
      },
      "execution_count": 38,
      "outputs": []
    },
    {
      "cell_type": "code",
      "source": [
        "# nonlocal it the on enclosed \n",
        "def f():\n",
        "  x = 300 \n",
        "  def g():\n",
        "    nonlocal x\n",
        "    x = 400\n",
        "  g()\n",
        "  print(x)"
      ],
      "metadata": {
        "id": "bBA2BaRVRpB8"
      },
      "execution_count": 39,
      "outputs": []
    },
    {
      "cell_type": "code",
      "source": [
        "f()"
      ],
      "metadata": {
        "colab": {
          "base_uri": "https://localhost:8080/"
        },
        "id": "9McMtqtMSAid",
        "outputId": "f1fe9cfb-d8ea-45e3-e69d-8534a43b302a"
      },
      "execution_count": 40,
      "outputs": [
        {
          "output_type": "stream",
          "name": "stdout",
          "text": [
            "400\n"
          ]
        }
      ]
    },
    {
      "cell_type": "code",
      "source": [
        "# don't use them excepet if you know really what are doing "
      ],
      "metadata": {
        "id": "8rSw1Qm1SBXV"
      },
      "execution_count": 41,
      "outputs": []
    },
    {
      "cell_type": "markdown",
      "source": [
        "# Function Programming \n",
        "* lambda \"anonymous function\"\n",
        "* map(),filter(),reduce()"
      ],
      "metadata": {
        "id": "HTiJvPLnSjrN"
      }
    },
    {
      "cell_type": "code",
      "source": [
        "lambda x,y:x+y"
      ],
      "metadata": {
        "colab": {
          "base_uri": "https://localhost:8080/"
        },
        "id": "ml1fbujYSi74",
        "outputId": "a789d292-7eb9-44bf-f8f9-173e1b9e4284"
      },
      "execution_count": 44,
      "outputs": [
        {
          "output_type": "execute_result",
          "data": {
            "text/plain": [
              "<function __main__.<lambda>(x, y)>"
            ]
          },
          "metadata": {},
          "execution_count": 44
        }
      ]
    },
    {
      "cell_type": "code",
      "source": [
        "callable(lambda x,y:x+y)"
      ],
      "metadata": {
        "colab": {
          "base_uri": "https://localhost:8080/"
        },
        "id": "oXGe_GySSNwj",
        "outputId": "520b768d-c3c9-4f00-8acb-3e1f5d86629f"
      },
      "execution_count": 45,
      "outputs": [
        {
          "output_type": "execute_result",
          "data": {
            "text/plain": [
              "True"
            ]
          },
          "metadata": {},
          "execution_count": 45
        }
      ]
    },
    {
      "cell_type": "code",
      "source": [
        "add = lambda x,y:x+y"
      ],
      "metadata": {
        "id": "C5xREWpCTZ0j"
      },
      "execution_count": 46,
      "outputs": []
    },
    {
      "cell_type": "code",
      "source": [
        "add(5,4)"
      ],
      "metadata": {
        "colab": {
          "base_uri": "https://localhost:8080/"
        },
        "id": "h9XbX2Z-TivT",
        "outputId": "68f38f26-3822-4738-cdd8-bb0f336ae1fb"
      },
      "execution_count": 47,
      "outputs": [
        {
          "output_type": "execute_result",
          "data": {
            "text/plain": [
              "9"
            ]
          },
          "metadata": {},
          "execution_count": 47
        }
      ]
    },
    {
      "cell_type": "code",
      "source": [
        "# more examples "
      ],
      "metadata": {
        "id": "Do5sQOqWTkwh"
      },
      "execution_count": 48,
      "outputs": []
    },
    {
      "cell_type": "code",
      "source": [
        "#map (function,iterable)\n",
        "\n",
        "def functionx(x):\n",
        "  return x**2"
      ],
      "metadata": {
        "id": "Mg0HBHLiTu1k"
      },
      "execution_count": 49,
      "outputs": []
    },
    {
      "cell_type": "code",
      "source": [
        "map(functionx,[1,2,4,5,6,7])"
      ],
      "metadata": {
        "colab": {
          "base_uri": "https://localhost:8080/"
        },
        "id": "5waT1JgxUPdt",
        "outputId": "973801fc-95d5-4e89-8adf-988ca6f08aad"
      },
      "execution_count": 50,
      "outputs": [
        {
          "output_type": "execute_result",
          "data": {
            "text/plain": [
              "<map at 0x7f7496b9bad0>"
            ]
          },
          "metadata": {},
          "execution_count": 50
        }
      ]
    },
    {
      "cell_type": "code",
      "source": [
        "list(map(functionx,[1,2,4,5,6,7]))"
      ],
      "metadata": {
        "colab": {
          "base_uri": "https://localhost:8080/"
        },
        "id": "xonNfZf5UTNq",
        "outputId": "f4186e97-5d49-43df-fd12-af6ee130e4bd"
      },
      "execution_count": 51,
      "outputs": [
        {
          "output_type": "execute_result",
          "data": {
            "text/plain": [
              "[1, 4, 16, 25, 36, 49]"
            ]
          },
          "metadata": {},
          "execution_count": 51
        }
      ]
    },
    {
      "cell_type": "code",
      "source": [
        "list(map(add,[1,2,35,6],[3,4,5,6]))"
      ],
      "metadata": {
        "colab": {
          "base_uri": "https://localhost:8080/"
        },
        "id": "2CtrTn2yUXFr",
        "outputId": "867e02cc-77df-4477-f2ce-78e41b476eba"
      },
      "execution_count": 53,
      "outputs": [
        {
          "output_type": "execute_result",
          "data": {
            "text/plain": [
              "[4, 6, 40, 12]"
            ]
          },
          "metadata": {},
          "execution_count": 53
        }
      ]
    },
    {
      "cell_type": "code",
      "source": [
        "# more examples "
      ],
      "metadata": {
        "id": "OSBR8HcWUgg4"
      },
      "execution_count": 54,
      "outputs": []
    },
    {
      "cell_type": "code",
      "source": [
        "#filter (fucntion,iteramtl)\n",
        "list(filter(lambda x: x > 100, [1, 111, 2, 222, 3, 333]))"
      ],
      "metadata": {
        "colab": {
          "base_uri": "https://localhost:8080/"
        },
        "id": "J7zddgkzUv8B",
        "outputId": "fec76f0b-6cb0-4b0d-af5d-19d17d30aa9c"
      },
      "execution_count": 57,
      "outputs": [
        {
          "output_type": "execute_result",
          "data": {
            "text/plain": [
              "[111, 222, 333]"
            ]
          },
          "metadata": {},
          "execution_count": 57
        }
      ]
    },
    {
      "cell_type": "code",
      "source": [
        "list(filter(lambda x: x % 2 == 0, range(10)))"
      ],
      "metadata": {
        "colab": {
          "base_uri": "https://localhost:8080/"
        },
        "id": "mqetOB7PVDaC",
        "outputId": "55094b49-dbea-4da3-ca13-8b4369dd91d4"
      },
      "execution_count": 58,
      "outputs": [
        {
          "output_type": "execute_result",
          "data": {
            "text/plain": [
              "[0, 2, 4, 6, 8]"
            ]
          },
          "metadata": {},
          "execution_count": 58
        }
      ]
    },
    {
      "cell_type": "code",
      "source": [],
      "metadata": {
        "id": "vohzhWTxVOX0"
      },
      "execution_count": null,
      "outputs": []
    }
  ]
}