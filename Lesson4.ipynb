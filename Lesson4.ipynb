{
  "nbformat": 4,
  "nbformat_minor": 0,
  "metadata": {
    "colab": {
      "provenance": [],
      "authorship_tag": "ABX9TyOCzvfPD5WPUxBaBr61/Vgx",
      "include_colab_link": true
    },
    "kernelspec": {
      "name": "python3",
      "display_name": "Python 3"
    },
    "language_info": {
      "name": "python"
    }
  },
  "cells": [
    {
      "cell_type": "markdown",
      "metadata": {
        "id": "view-in-github",
        "colab_type": "text"
      },
      "source": [
        "<a href=\"https://colab.research.google.com/github/Mohammed-Alnemari/Workshop_Python/blob/main/Lesson4.ipynb\" target=\"_parent\"><img src=\"https://colab.research.google.com/assets/colab-badge.svg\" alt=\"Open In Colab\"/></a>"
      ]
    },
    {
      "cell_type": "markdown",
      "source": [
        "# Lists  && Tuples in python ... \n",
        "## Lists\n",
        "* List Are oreder \n",
        "* List is an object can contain an arbitraray objects \n",
        "* List Elementss can be accessed using index\n",
        "* List can be Nested \n",
        "* List are mutable \n",
        "* List Are dyanmci \n",
        "## Tuple \n",
        "* defining and using Tuples\n",
        "* Tuple assignment, Packing and unpacking \n",
        "### Depth of lists and tuples"
      ],
      "metadata": {
        "id": "eFy9_qRtmKSZ"
      }
    },
    {
      "cell_type": "code",
      "execution_count": null,
      "metadata": {
        "id": "d_P7vbZPmJCu"
      },
      "outputs": [],
      "source": [
        "a = ['zoo','car','phone','good']\n",
        "b = ['zoo','car','phone','good']"
      ]
    },
    {
      "cell_type": "code",
      "source": [
        "# order of list is important \n",
        "a == b"
      ],
      "metadata": {
        "colab": {
          "base_uri": "https://localhost:8080/"
        },
        "id": "0irx8yzDn_Sq",
        "outputId": "622b8d61-7881-4436-ab54-163e34d76e06"
      },
      "execution_count": null,
      "outputs": [
        {
          "output_type": "execute_result",
          "data": {
            "text/plain": [
              "True"
            ]
          },
          "metadata": {},
          "execution_count": 5
        }
      ]
    },
    {
      "cell_type": "code",
      "source": [
        "a = ['zoo','car','phone','good']\n",
        "b = ['zoo','car','good','phone']"
      ],
      "metadata": {
        "id": "cTjVvPl6oIkm"
      },
      "execution_count": null,
      "outputs": []
    },
    {
      "cell_type": "code",
      "source": [
        "a == b"
      ],
      "metadata": {
        "colab": {
          "base_uri": "https://localhost:8080/"
        },
        "id": "OvCCBXiPoSaz",
        "outputId": "37a0d5d7-85d4-44e0-e6fc-fb9f876533a4"
      },
      "execution_count": null,
      "outputs": [
        {
          "output_type": "execute_result",
          "data": {
            "text/plain": [
              "False"
            ]
          },
          "metadata": {},
          "execution_count": 7
        }
      ]
    },
    {
      "cell_type": "code",
      "source": [
        "# List can be arbirary object \n",
        "xlist = [\"Moammed\",\"22\",False,3.5654,33]"
      ],
      "metadata": {
        "id": "aiWFE-x1oTf3"
      },
      "execution_count": null,
      "outputs": []
    },
    {
      "cell_type": "code",
      "source": [
        "from typing import Any,Union,Callable"
      ],
      "metadata": {
        "id": "Mn2n4xl0olJ4"
      },
      "execution_count": null,
      "outputs": []
    },
    {
      "cell_type": "code",
      "source": [
        "type_list = [Any,Union,Callable]"
      ],
      "metadata": {
        "id": "Pt-jpvl8oufU"
      },
      "execution_count": null,
      "outputs": []
    },
    {
      "cell_type": "code",
      "source": [
        "int"
      ],
      "metadata": {
        "colab": {
          "base_uri": "https://localhost:8080/"
        },
        "id": "41VKkIXgpKXZ",
        "outputId": "f68e5f89-462b-4bce-b5c5-3787361159dc"
      },
      "execution_count": null,
      "outputs": [
        {
          "output_type": "execute_result",
          "data": {
            "text/plain": [
              "int"
            ]
          },
          "metadata": {},
          "execution_count": 13
        }
      ]
    },
    {
      "cell_type": "code",
      "source": [
        "float"
      ],
      "metadata": {
        "colab": {
          "base_uri": "https://localhost:8080/"
        },
        "id": "gWsTv_JipMFc",
        "outputId": "103cd82d-e5a3-44d1-945a-2866aab6a87c"
      },
      "execution_count": null,
      "outputs": [
        {
          "output_type": "execute_result",
          "data": {
            "text/plain": [
              "float"
            ]
          },
          "metadata": {},
          "execution_count": 14
        }
      ]
    },
    {
      "cell_type": "code",
      "source": [
        "import math"
      ],
      "metadata": {
        "id": "JbX1i2H7pNEN"
      },
      "execution_count": null,
      "outputs": []
    },
    {
      "cell_type": "code",
      "source": [
        "weird_list = [int,float,math]"
      ],
      "metadata": {
        "id": "Ou5IlrtgpRg9"
      },
      "execution_count": null,
      "outputs": []
    },
    {
      "cell_type": "code",
      "source": [
        "lista = ['a','b','c','d','e','f'] "
      ],
      "metadata": {
        "id": "dUxUzxzmpVQd"
      },
      "execution_count": null,
      "outputs": []
    },
    {
      "cell_type": "code",
      "source": [
        "lista[0]"
      ],
      "metadata": {
        "colab": {
          "base_uri": "https://localhost:8080/",
          "height": 35
        },
        "id": "nbOBoxTnpl3Q",
        "outputId": "5544455b-39b9-490a-a819-3ed9c295d6e3"
      },
      "execution_count": null,
      "outputs": [
        {
          "output_type": "execute_result",
          "data": {
            "text/plain": [
              "'a'"
            ],
            "application/vnd.google.colaboratory.intrinsic+json": {
              "type": "string"
            }
          },
          "metadata": {},
          "execution_count": 18
        }
      ]
    },
    {
      "cell_type": "code",
      "source": [
        "lista[::-1]"
      ],
      "metadata": {
        "colab": {
          "base_uri": "https://localhost:8080/"
        },
        "id": "gmHM-mBUpnjD",
        "outputId": "9567f617-039b-40bb-a367-88211155b43d"
      },
      "execution_count": null,
      "outputs": [
        {
          "output_type": "execute_result",
          "data": {
            "text/plain": [
              "['f', 'e', 'd', 'c', 'b', 'a']"
            ]
          },
          "metadata": {},
          "execution_count": 20
        }
      ]
    },
    {
      "cell_type": "code",
      "source": [
        "# difference between the string and the list \n",
        "s = \"Mohammed\"\n",
        "s[:]"
      ],
      "metadata": {
        "colab": {
          "base_uri": "https://localhost:8080/",
          "height": 35
        },
        "id": "o_aerkm2pqp4",
        "outputId": "be317811-ca37-4fc4-974a-d2de15b2aae2"
      },
      "execution_count": null,
      "outputs": [
        {
          "output_type": "execute_result",
          "data": {
            "text/plain": [
              "'Mohammed'"
            ],
            "application/vnd.google.colaboratory.intrinsic+json": {
              "type": "string"
            }
          },
          "metadata": {},
          "execution_count": 21
        }
      ]
    },
    {
      "cell_type": "code",
      "source": [
        "s[:] is s"
      ],
      "metadata": {
        "colab": {
          "base_uri": "https://localhost:8080/"
        },
        "id": "bDW8KOtaqHK8",
        "outputId": "d7147d21-6d74-4c34-99f8-da529d72c70a"
      },
      "execution_count": null,
      "outputs": [
        {
          "output_type": "execute_result",
          "data": {
            "text/plain": [
              "True"
            ]
          },
          "metadata": {},
          "execution_count": 22
        }
      ]
    },
    {
      "cell_type": "code",
      "source": [
        "lst = [\"a\",\"b\",\"c\",\"d\"]"
      ],
      "metadata": {
        "id": "WRK9vZ1wqKJ9"
      },
      "execution_count": null,
      "outputs": []
    },
    {
      "cell_type": "code",
      "source": [
        "lst[:] "
      ],
      "metadata": {
        "colab": {
          "base_uri": "https://localhost:8080/"
        },
        "id": "yRW13dZGqU8e",
        "outputId": "a9bb71c2-6a52-4f1c-cfbd-9f71adc3569a"
      },
      "execution_count": null,
      "outputs": [
        {
          "output_type": "execute_result",
          "data": {
            "text/plain": [
              "['a', 'b', 'c', 'd']"
            ]
          },
          "metadata": {},
          "execution_count": 24
        }
      ]
    },
    {
      "cell_type": "code",
      "source": [
        "lst[:] is lst"
      ],
      "metadata": {
        "colab": {
          "base_uri": "https://localhost:8080/"
        },
        "id": "GXWKyhW2qXDu",
        "outputId": "a269ebbb-3be8-4f86-93f0-09a0b669d954"
      },
      "execution_count": null,
      "outputs": [
        {
          "output_type": "execute_result",
          "data": {
            "text/plain": [
              "False"
            ]
          },
          "metadata": {},
          "execution_count": 25
        }
      ]
    },
    {
      "cell_type": "code",
      "source": [
        "# list concatenate another list \n",
        "list(s) + lst"
      ],
      "metadata": {
        "colab": {
          "base_uri": "https://localhost:8080/"
        },
        "id": "FbI3FaynqaCh",
        "outputId": "4065b131-8413-4d22-fa06-c0ba2a58171d"
      },
      "execution_count": null,
      "outputs": [
        {
          "output_type": "execute_result",
          "data": {
            "text/plain": [
              "['M', 'o', 'h', 'a', 'm', 'm', 'e', 'd', 'a', 'b', 'c', 'd']"
            ]
          },
          "metadata": {},
          "execution_count": 26
        }
      ]
    },
    {
      "cell_type": "code",
      "source": [
        "# How to conctenate \"Mohammed\" with [a,b,c,d] ~ hint using join and append "
      ],
      "metadata": {
        "id": "fbtOAcmNrSUo"
      },
      "execution_count": null,
      "outputs": []
    },
    {
      "cell_type": "code",
      "source": [
        "# Nested Lists \n",
        " \n",
        "X = [['a','b'],['d,e'],['f','g']]\n",
        "X1 = ['a',['b,c'],'d',['e','f','g']]"
      ],
      "metadata": {
        "id": "F8k_lQorq2wh"
      },
      "execution_count": null,
      "outputs": []
    },
    {
      "cell_type": "code",
      "source": [
        "len(X)"
      ],
      "metadata": {
        "colab": {
          "base_uri": "https://localhost:8080/"
        },
        "id": "IFGhjpTmrBcj",
        "outputId": "4283b4b4-fbf3-4a6d-90c0-8c866e6c897c"
      },
      "execution_count": null,
      "outputs": [
        {
          "output_type": "execute_result",
          "data": {
            "text/plain": [
              "3"
            ]
          },
          "metadata": {},
          "execution_count": 35
        }
      ]
    },
    {
      "cell_type": "code",
      "source": [
        "len(X1)"
      ],
      "metadata": {
        "colab": {
          "base_uri": "https://localhost:8080/"
        },
        "id": "GO3qca9QrU3x",
        "outputId": "33a41c8b-1acd-416d-9f5e-dbd005d1ba45"
      },
      "execution_count": null,
      "outputs": [
        {
          "output_type": "execute_result",
          "data": {
            "text/plain": [
              "4"
            ]
          },
          "metadata": {},
          "execution_count": 36
        }
      ]
    },
    {
      "cell_type": "code",
      "source": [
        "X1[1]"
      ],
      "metadata": {
        "colab": {
          "base_uri": "https://localhost:8080/"
        },
        "id": "OLp3gMpetjC8",
        "outputId": "2474bdc9-903d-405b-e7be-c5076ffc089a"
      },
      "execution_count": null,
      "outputs": [
        {
          "output_type": "execute_result",
          "data": {
            "text/plain": [
              "['b,c']"
            ]
          },
          "metadata": {},
          "execution_count": 37
        }
      ]
    },
    {
      "cell_type": "code",
      "source": [
        "# do a lot of working here to make them understand it well "
      ],
      "metadata": {
        "id": "H3t1yEU-trNn"
      },
      "execution_count": null,
      "outputs": []
    },
    {
      "cell_type": "markdown",
      "source": [
        "# List is mutable \"You can modify it \"\n"
      ],
      "metadata": {
        "id": "mqyBIcwiuRps"
      }
    },
    {
      "cell_type": "code",
      "source": [
        "# compare between string and list in term of the mutability \n",
        "s = \"foofoomoo\""
      ],
      "metadata": {
        "id": "prrg54ibt3ai"
      },
      "execution_count": null,
      "outputs": []
    },
    {
      "cell_type": "code",
      "source": [
        "s[2] = 'f'"
      ],
      "metadata": {
        "colab": {
          "base_uri": "https://localhost:8080/",
          "height": 166
        },
        "id": "mb_GCK1luwIZ",
        "outputId": "b027a3d2-b20b-455f-86b4-1808616b9178"
      },
      "execution_count": null,
      "outputs": [
        {
          "output_type": "error",
          "ename": "TypeError",
          "evalue": "ignored",
          "traceback": [
            "\u001b[0;31m---------------------------------------------------------------------------\u001b[0m",
            "\u001b[0;31mTypeError\u001b[0m                                 Traceback (most recent call last)",
            "\u001b[0;32m<ipython-input-42-c75073ead7fc>\u001b[0m in \u001b[0;36m<module>\u001b[0;34m\u001b[0m\n\u001b[0;32m----> 1\u001b[0;31m \u001b[0ms\u001b[0m\u001b[0;34m[\u001b[0m\u001b[0;36m2\u001b[0m\u001b[0;34m]\u001b[0m \u001b[0;34m=\u001b[0m \u001b[0;34m'f'\u001b[0m\u001b[0;34m\u001b[0m\u001b[0;34m\u001b[0m\u001b[0m\n\u001b[0m",
            "\u001b[0;31mTypeError\u001b[0m: 'str' object does not support item assignment"
          ]
        }
      ]
    },
    {
      "cell_type": "code",
      "source": [
        "xlist = [1,2,3,4,5,6,7]"
      ],
      "metadata": {
        "id": "QcEniaLCu3Dy"
      },
      "execution_count": null,
      "outputs": []
    },
    {
      "cell_type": "code",
      "source": [
        "xlist[2] = 'M'"
      ],
      "metadata": {
        "id": "fcB-7vyIu_h3"
      },
      "execution_count": null,
      "outputs": []
    },
    {
      "cell_type": "code",
      "source": [
        "xlist"
      ],
      "metadata": {
        "colab": {
          "base_uri": "https://localhost:8080/"
        },
        "id": "wUlVUIQCyHTW",
        "outputId": "90da3118-ed28-4619-9834-4f4db5adc773"
      },
      "execution_count": null,
      "outputs": [
        {
          "output_type": "execute_result",
          "data": {
            "text/plain": [
              "[1, 2, 'M', 4, 5, 6, 7]"
            ]
          },
          "metadata": {},
          "execution_count": 64
        }
      ]
    },
    {
      "cell_type": "code",
      "source": [
        "del xlist[1]"
      ],
      "metadata": {
        "id": "YPh2a-8ByiHO"
      },
      "execution_count": null,
      "outputs": []
    },
    {
      "cell_type": "code",
      "source": [
        "xlist"
      ],
      "metadata": {
        "colab": {
          "base_uri": "https://localhost:8080/"
        },
        "id": "8r_Ufu4NymGb",
        "outputId": "fa9ab1af-87d2-41c4-c8c9-e654624a3ee0"
      },
      "execution_count": null,
      "outputs": [
        {
          "output_type": "execute_result",
          "data": {
            "text/plain": [
              "[1, 'M', 4, 5, 6, 7]"
            ]
          },
          "metadata": {},
          "execution_count": 69
        }
      ]
    },
    {
      "cell_type": "code",
      "source": [
        "# this is the best way to find what is your problem in the code \n",
        "!python -m pydoc list.extend"
      ],
      "metadata": {
        "colab": {
          "base_uri": "https://localhost:8080/"
        },
        "id": "ciQdHlngv1yD",
        "outputId": "3624e522-355d-4121-b1d0-3e75a2dfab77"
      },
      "execution_count": null,
      "outputs": [
        {
          "output_type": "stream",
          "name": "stdout",
          "text": [
            "Help on method_descriptor in list:\n",
            "\n",
            "l\bli\bis\bst\bt.\b.e\bex\bxt\bte\ben\bnd\bd = extend(self, iterable, /)\n",
            "    Extend list by appending elements from the iterable.\n",
            "\n"
          ]
        }
      ]
    },
    {
      "cell_type": "markdown",
      "source": [
        "# Methods for the list "
      ],
      "metadata": {
        "id": "43Ah6ls8umaM"
      }
    },
    {
      "cell_type": "code",
      "source": [
        "# any list you defined is an object from class list \n",
        "a = [1,2,3,4,5,6]"
      ],
      "metadata": {
        "id": "MJXe4BShuCWp"
      },
      "execution_count": null,
      "outputs": []
    },
    {
      "cell_type": "code",
      "source": [
        "type(a)"
      ],
      "metadata": {
        "colab": {
          "base_uri": "https://localhost:8080/"
        },
        "id": "4TOX1pjwuy3c",
        "outputId": "9b965a94-d334-43a9-b091-326fd4e91a25"
      },
      "execution_count": null,
      "outputs": [
        {
          "output_type": "execute_result",
          "data": {
            "text/plain": [
              "list"
            ]
          },
          "metadata": {},
          "execution_count": 13
        }
      ]
    },
    {
      "cell_type": "code",
      "source": [
        "a.__doc__"
      ],
      "metadata": {
        "colab": {
          "base_uri": "https://localhost:8080/",
          "height": 35
        },
        "id": "MNzyOmJ9u5WJ",
        "outputId": "9c010c7f-de54-4c04-d300-4ccb5bc0dd9a"
      },
      "execution_count": null,
      "outputs": [
        {
          "output_type": "execute_result",
          "data": {
            "text/plain": [
              "'Built-in mutable sequence.\\n\\nIf no argument is given, the constructor creates a new empty list.\\nThe argument must be an iterable if specified.'"
            ],
            "application/vnd.google.colaboratory.intrinsic+json": {
              "type": "string"
            }
          },
          "metadata": {},
          "execution_count": 14
        }
      ]
    },
    {
      "cell_type": "code",
      "source": [
        "b = ['a','b','c']"
      ],
      "metadata": {
        "id": "-_tljN-uvB6u"
      },
      "execution_count": null,
      "outputs": []
    },
    {
      "cell_type": "code",
      "source": [
        "a[1:2] = b"
      ],
      "metadata": {
        "id": "N-WwxGMgvTtR"
      },
      "execution_count": null,
      "outputs": []
    },
    {
      "cell_type": "code",
      "source": [
        "a"
      ],
      "metadata": {
        "colab": {
          "base_uri": "https://localhost:8080/"
        },
        "id": "BxGstO38vYcX",
        "outputId": "713f57d3-ef19-4bb3-99a4-626bef8a7347"
      },
      "execution_count": null,
      "outputs": [
        {
          "output_type": "execute_result",
          "data": {
            "text/plain": [
              "[1, 'a', 'b', 'c', 3, 4, 5, 6]"
            ]
          },
          "metadata": {},
          "execution_count": 17
        }
      ]
    },
    {
      "cell_type": "code",
      "source": [
        "# what about remvoing from 3-6\n",
        "# two different ways to do this \n",
        "# first method \n",
        "a[4:] = []"
      ],
      "metadata": {
        "id": "zOHYGu28valP"
      },
      "execution_count": null,
      "outputs": []
    },
    {
      "cell_type": "code",
      "source": [
        "a"
      ],
      "metadata": {
        "colab": {
          "base_uri": "https://localhost:8080/"
        },
        "id": "ajSlUGXNvq3-",
        "outputId": "5ae6a746-2fdb-492c-870f-91375b88fd16"
      },
      "execution_count": null,
      "outputs": [
        {
          "output_type": "execute_result",
          "data": {
            "text/plain": [
              "[1, 'a', 'b', 'c', 3, 4, 5, 6]"
            ]
          },
          "metadata": {},
          "execution_count": 18
        }
      ]
    },
    {
      "cell_type": "code",
      "source": [
        "# second method using del \n",
        "del a[4:] "
      ],
      "metadata": {
        "id": "8Z2Sqa5PvtEF"
      },
      "execution_count": null,
      "outputs": []
    },
    {
      "cell_type": "code",
      "source": [
        "a"
      ],
      "metadata": {
        "colab": {
          "base_uri": "https://localhost:8080/"
        },
        "id": "lXFX8y0pv9G8",
        "outputId": "044945d5-b83d-4833-8b94-55cc5443a600"
      },
      "execution_count": null,
      "outputs": [
        {
          "output_type": "execute_result",
          "data": {
            "text/plain": [
              "[1, 'a', 'b', 'c']"
            ]
          },
          "metadata": {},
          "execution_count": 20
        }
      ]
    },
    {
      "cell_type": "markdown",
      "source": [
        "# Appending item to the list "
      ],
      "metadata": {
        "id": "quUzitJFwAa7"
      }
    },
    {
      "cell_type": "code",
      "source": [
        "a = ['lemon','chicken','berry','blueberry','tea','coffee']"
      ],
      "metadata": {
        "id": "zLNpAbzGv9w4"
      },
      "execution_count": null,
      "outputs": []
    },
    {
      "cell_type": "code",
      "source": [
        "a"
      ],
      "metadata": {
        "colab": {
          "base_uri": "https://localhost:8080/"
        },
        "id": "a85E7FpfwM8c",
        "outputId": "ad01aea8-709b-4a93-8dba-e6b852bbdf89"
      },
      "execution_count": null,
      "outputs": [
        {
          "output_type": "execute_result",
          "data": {
            "text/plain": [
              "['lemon', 'chicken', 'berry', 'blueberry', 'tea', 'coffee']"
            ]
          },
          "metadata": {},
          "execution_count": 23
        }
      ]
    },
    {
      "cell_type": "code",
      "source": [
        "a + ['mango','sugar']"
      ],
      "metadata": {
        "colab": {
          "base_uri": "https://localhost:8080/"
        },
        "id": "JMVfmdOhwPwr",
        "outputId": "dd17053d-8b0e-48e5-917c-3ee045fb5f42"
      },
      "execution_count": null,
      "outputs": [
        {
          "output_type": "execute_result",
          "data": {
            "text/plain": [
              "['lemon', 'chicken', 'berry', 'blueberry', 'tea', 'coffee', 'mango', 'sugar']"
            ]
          },
          "metadata": {},
          "execution_count": 25
        }
      ]
    },
    {
      "cell_type": "code",
      "source": [
        "a += ['mango','sugar']"
      ],
      "metadata": {
        "id": "_dKzkYkRwV97"
      },
      "execution_count": null,
      "outputs": []
    },
    {
      "cell_type": "code",
      "source": [
        "a"
      ],
      "metadata": {
        "colab": {
          "base_uri": "https://localhost:8080/"
        },
        "id": "2Fis1nLawaCH",
        "outputId": "1a05a230-e641-46c6-ea40-64e12a301a37"
      },
      "execution_count": null,
      "outputs": [
        {
          "output_type": "execute_result",
          "data": {
            "text/plain": [
              "['lemon', 'chicken', 'berry', 'blueberry', 'tea', 'coffee', 'mango', 'sugar']"
            ]
          },
          "metadata": {},
          "execution_count": 28
        }
      ]
    },
    {
      "cell_type": "code",
      "source": [
        "a.append(1111)"
      ],
      "metadata": {
        "id": "yOC6R7Z0wfg_"
      },
      "execution_count": null,
      "outputs": []
    },
    {
      "cell_type": "code",
      "source": [
        "a"
      ],
      "metadata": {
        "colab": {
          "base_uri": "https://localhost:8080/"
        },
        "id": "EGjSHhYnwp4Q",
        "outputId": "4f5d84af-cb54-4f4f-f608-189b7b9268d3"
      },
      "execution_count": null,
      "outputs": [
        {
          "output_type": "execute_result",
          "data": {
            "text/plain": [
              "['lemon',\n",
              " 'chicken',\n",
              " 'berry',\n",
              " 'blueberry',\n",
              " 'tea',\n",
              " 'coffee',\n",
              " 'mango',\n",
              " 'sugar',\n",
              " 1111]"
            ]
          },
          "metadata": {},
          "execution_count": 30
        }
      ]
    },
    {
      "cell_type": "code",
      "source": [
        "a.append(33,32)"
      ],
      "metadata": {
        "colab": {
          "base_uri": "https://localhost:8080/",
          "height": 166
        },
        "id": "pbEEAS8TwqoZ",
        "outputId": "5f0b82b3-82b5-423d-990a-e0219db08348"
      },
      "execution_count": null,
      "outputs": [
        {
          "output_type": "error",
          "ename": "TypeError",
          "evalue": "ignored",
          "traceback": [
            "\u001b[0;31m---------------------------------------------------------------------------\u001b[0m",
            "\u001b[0;31mTypeError\u001b[0m                                 Traceback (most recent call last)",
            "\u001b[0;32m<ipython-input-33-a2d3a2057422>\u001b[0m in \u001b[0;36m<module>\u001b[0;34m\u001b[0m\n\u001b[0;32m----> 1\u001b[0;31m \u001b[0ma\u001b[0m\u001b[0;34m.\u001b[0m\u001b[0mappend\u001b[0m\u001b[0;34m(\u001b[0m\u001b[0;36m33\u001b[0m\u001b[0;34m,\u001b[0m\u001b[0;36m32\u001b[0m\u001b[0;34m)\u001b[0m\u001b[0;34m\u001b[0m\u001b[0;34m\u001b[0m\u001b[0m\n\u001b[0m",
            "\u001b[0;31mTypeError\u001b[0m: append() takes exactly one argument (2 given)"
          ]
        }
      ]
    },
    {
      "cell_type": "code",
      "source": [
        "# difference between append and + "
      ],
      "metadata": {
        "colab": {
          "base_uri": "https://localhost:8080/"
        },
        "id": "rVwyk2nCwuwj",
        "outputId": "0562a9d7-026a-49dd-a1e9-e103c768938d"
      },
      "execution_count": null,
      "outputs": [
        {
          "output_type": "execute_result",
          "data": {
            "text/plain": [
              "['lemon',\n",
              " 'chicken',\n",
              " 'berry',\n",
              " 'blueberry',\n",
              " 'tea',\n",
              " 'coffee',\n",
              " 'mango',\n",
              " 'sugar',\n",
              " 1111,\n",
              " [33, 32]]"
            ]
          },
          "metadata": {},
          "execution_count": 32
        }
      ]
    },
    {
      "cell_type": "code",
      "source": [
        "# what is the method that can do that for us without treating them as an object \n",
        "pomx = ['CEO','CTO','Founder']"
      ],
      "metadata": {
        "id": "xIVbPjREwvf4"
      },
      "execution_count": null,
      "outputs": []
    },
    {
      "cell_type": "code",
      "source": [
        "Xtensor = ['Budget','Revenue']"
      ],
      "metadata": {
        "id": "jrZooqk7xXs7"
      },
      "execution_count": null,
      "outputs": []
    },
    {
      "cell_type": "code",
      "source": [
        "pomx.append(Xtensor)"
      ],
      "metadata": {
        "id": "R1rGe8UExh0x"
      },
      "execution_count": null,
      "outputs": []
    },
    {
      "cell_type": "code",
      "source": [
        "pomx"
      ],
      "metadata": {
        "colab": {
          "base_uri": "https://localhost:8080/"
        },
        "id": "NbRF7lRuxlkG",
        "outputId": "f0422d62-5be0-4d48-fd0a-a567a606a439"
      },
      "execution_count": null,
      "outputs": [
        {
          "output_type": "execute_result",
          "data": {
            "text/plain": [
              "['CEO', 'CTO', 'Founder', ['Budget', 'Revenue']]"
            ]
          },
          "metadata": {},
          "execution_count": 37
        }
      ]
    },
    {
      "cell_type": "code",
      "source": [
        "pomx.extend(Xtensor)"
      ],
      "metadata": {
        "id": "94RWNxanxmlE"
      },
      "execution_count": null,
      "outputs": []
    },
    {
      "cell_type": "code",
      "source": [
        "pomx"
      ],
      "metadata": {
        "colab": {
          "base_uri": "https://localhost:8080/"
        },
        "id": "6NefW6HvxtXV",
        "outputId": "e317f90a-d8aa-4b88-a84d-56c72be8b35a"
      },
      "execution_count": null,
      "outputs": [
        {
          "output_type": "execute_result",
          "data": {
            "text/plain": [
              "['CEO', 'CTO', 'Founder', ['Budget', 'Revenue'], 'Budget', 'Revenue']"
            ]
          },
          "metadata": {},
          "execution_count": 39
        }
      ]
    },
    {
      "cell_type": "code",
      "source": [
        "pomx.insert(0,'Real')"
      ],
      "metadata": {
        "id": "U5iVPzpHxuNH"
      },
      "execution_count": null,
      "outputs": []
    },
    {
      "cell_type": "code",
      "source": [
        "pomx"
      ],
      "metadata": {
        "colab": {
          "base_uri": "https://localhost:8080/"
        },
        "id": "Tp65BMj1y3YS",
        "outputId": "97b93c8f-927e-4ed3-eb24-2221e9c7e209"
      },
      "execution_count": null,
      "outputs": [
        {
          "output_type": "execute_result",
          "data": {
            "text/plain": [
              "['Real',\n",
              " ['Real'],\n",
              " 'CEO',\n",
              " 'CTO',\n",
              " 'Founder',\n",
              " ['Budget', 'Revenue'],\n",
              " 'Budget',\n",
              " 'Revenue']"
            ]
          },
          "metadata": {},
          "execution_count": 43
        }
      ]
    },
    {
      "cell_type": "code",
      "source": [
        "pomx.remove(['Real'])"
      ],
      "metadata": {
        "id": "fWnKF0Puy4YD"
      },
      "execution_count": null,
      "outputs": []
    },
    {
      "cell_type": "code",
      "source": [
        "pomx"
      ],
      "metadata": {
        "colab": {
          "base_uri": "https://localhost:8080/"
        },
        "id": "Xgu0SjCezHRf",
        "outputId": "bcb70bda-f5b5-4c8e-a1f9-0ba866728ff5"
      },
      "execution_count": null,
      "outputs": [
        {
          "output_type": "execute_result",
          "data": {
            "text/plain": [
              "['Real', 'CEO', 'CTO', 'Founder', ['Budget', 'Revenue'], 'Budget', 'Revenue']"
            ]
          },
          "metadata": {},
          "execution_count": 45
        }
      ]
    },
    {
      "cell_type": "code",
      "source": [
        "pomx.pop(5)"
      ],
      "metadata": {
        "colab": {
          "base_uri": "https://localhost:8080/",
          "height": 35
        },
        "id": "eGdHUzdrzIJp",
        "outputId": "6c079291-4cf3-45be-a558-77e2d405b51b"
      },
      "execution_count": null,
      "outputs": [
        {
          "output_type": "execute_result",
          "data": {
            "text/plain": [
              "'Budget'"
            ],
            "application/vnd.google.colaboratory.intrinsic+json": {
              "type": "string"
            }
          },
          "metadata": {},
          "execution_count": 46
        }
      ]
    },
    {
      "cell_type": "code",
      "source": [
        "pomx"
      ],
      "metadata": {
        "colab": {
          "base_uri": "https://localhost:8080/"
        },
        "id": "GE8kcmGRzRCP",
        "outputId": "cddd2794-41dd-41eb-8773-f9ce4da5ebd8"
      },
      "execution_count": null,
      "outputs": [
        {
          "output_type": "execute_result",
          "data": {
            "text/plain": [
              "['Real', 'CEO', 'CTO', 'Founder', ['Budget', 'Revenue'], 'Revenue']"
            ]
          },
          "metadata": {},
          "execution_count": 47
        }
      ]
    },
    {
      "cell_type": "code",
      "source": [
        "# list are dynamic --> grows as needed "
      ],
      "metadata": {
        "id": "9XOojjO-zS9Q"
      },
      "execution_count": null,
      "outputs": []
    },
    {
      "cell_type": "markdown",
      "source": [
        "# Quiz for list \"Test your understanding\" ~ 2 mins\n",
        "\n",
        "You have been hired by a company to assist with the launch of a new project. In order to launch the new project as quickly as possible, you must remove Kth item from your to-do list?\n",
        "\n",
        "\n"
      ],
      "metadata": {
        "id": "-oSYFyuO1NZv"
      }
    },
    {
      "cell_type": "code",
      "source": [
        "'''\n",
        "\n",
        "Write a python code using the list and your list skills \n",
        "to help them launch their project ? \n",
        "\n",
        "\n",
        "For k = 3 , to_do_list = ['Meeting_1','Review_1','Meeting_CEO_POMX_Company',\n",
        "'Meeting_CTO_Xnor_Company','Seminars_Tensors','Meeting_2','Review_2',\n",
        "'Meeting_3','Review_3','Seminars_Torch','Meeting_Dean_University_Tabuk']\n",
        "\n",
        "\n",
        "to_do_list = ['Meeting_1','Review_1','Meeting_CTO_Xnor_Company',\n",
        "'Seminars_Tensors','Review_2','Meeting_3',\n",
        "'Seminars_Torch','Meeting_Dean_University_Tabuk']\n",
        "\n",
        "\n",
        "'''\n",
        "def func_help(k,to_do_list):\n",
        "  \"\"\"\n",
        "  Your Answers are here\n",
        "  \"\"\" \n",
        "\n",
        "  return to_do_list"
      ],
      "metadata": {
        "id": "2FMBPjtt5M44"
      },
      "execution_count": null,
      "outputs": []
    },
    {
      "cell_type": "code",
      "source": [
        "# you this list \n",
        "x = [10, [3.141, 20, [30, 'jaz', 2.718]], 'floor']\n",
        "\n",
        "# what is the expression that return 'z' in jaz ? "
      ],
      "metadata": {
        "id": "3GaIbgqnAlNN"
      },
      "execution_count": null,
      "outputs": []
    },
    {
      "cell_type": "markdown",
      "source": [
        "# Python Tuples\n",
        " * to define a tuble we use ()\n",
        " * tuple are immutable \"not change\"\n"
      ],
      "metadata": {
        "id": "iZmMK_JFzjUk"
      }
    },
    {
      "cell_type": "code",
      "source": [
        "tuplex = ('tabuk','taif','irvine','jeddah','los_angeles')"
      ],
      "metadata": {
        "id": "qcFrA0MQ53w3"
      },
      "execution_count": null,
      "outputs": []
    },
    {
      "cell_type": "code",
      "source": [
        "tuplex"
      ],
      "metadata": {
        "colab": {
          "base_uri": "https://localhost:8080/"
        },
        "id": "Kbpi3u1G6FJE",
        "outputId": "fba1345e-1e21-462a-ce58-d98be1fc7c68"
      },
      "execution_count": null,
      "outputs": [
        {
          "output_type": "execute_result",
          "data": {
            "text/plain": [
              "('tabuk', 'taif', 'irvine', 'jeddah', 'los_angeles')"
            ]
          },
          "metadata": {},
          "execution_count": 52
        }
      ]
    },
    {
      "cell_type": "code",
      "source": [
        "tuplex[0]"
      ],
      "metadata": {
        "colab": {
          "base_uri": "https://localhost:8080/",
          "height": 35
        },
        "id": "rwNzn42O6GjC",
        "outputId": "3c40e80c-4847-4ea8-d25e-72f39d9ac1f1"
      },
      "execution_count": null,
      "outputs": [
        {
          "output_type": "execute_result",
          "data": {
            "text/plain": [
              "'tabuk'"
            ],
            "application/vnd.google.colaboratory.intrinsic+json": {
              "type": "string"
            }
          },
          "metadata": {},
          "execution_count": 53
        }
      ]
    },
    {
      "cell_type": "code",
      "source": [
        "tuplex[1] = 'Makkah'"
      ],
      "metadata": {
        "colab": {
          "base_uri": "https://localhost:8080/",
          "height": 166
        },
        "id": "iiz9wR6z6LiM",
        "outputId": "016794ad-0129-43ed-f3a2-70dcfae67a8e"
      },
      "execution_count": null,
      "outputs": [
        {
          "output_type": "error",
          "ename": "TypeError",
          "evalue": "ignored",
          "traceback": [
            "\u001b[0;31m---------------------------------------------------------------------------\u001b[0m",
            "\u001b[0;31mTypeError\u001b[0m                                 Traceback (most recent call last)",
            "\u001b[0;32m<ipython-input-55-47d2375334a1>\u001b[0m in \u001b[0;36m<module>\u001b[0;34m\u001b[0m\n\u001b[0;32m----> 1\u001b[0;31m \u001b[0mtuplex\u001b[0m\u001b[0;34m[\u001b[0m\u001b[0;36m1\u001b[0m\u001b[0;34m]\u001b[0m \u001b[0;34m=\u001b[0m \u001b[0;34m'Makkah'\u001b[0m\u001b[0;34m\u001b[0m\u001b[0;34m\u001b[0m\u001b[0m\n\u001b[0m",
            "\u001b[0;31mTypeError\u001b[0m: 'tuple' object does not support item assignment"
          ]
        }
      ]
    },
    {
      "cell_type": "markdown",
      "source": [
        "### Why use a tuple instead of a list?\n",
        "\n",
        "* Program execution is faster when manipulating a tuple than it is for the equivalent list. (This is probably not going to be noticeable when the list or tuple is small.)\n",
        "\n",
        "* Sometimes you don’t want data to be modified. If the values in the collection are meant to remain constant for the life of the program, using a tuple instead of a list guards against accidental modification."
      ],
      "metadata": {
        "id": "qZhiwg417qev"
      }
    },
    {
      "cell_type": "code",
      "source": [
        "# tuple assignment, Packing, Unpacking \n",
        "tt = ('cake','coffee','tea','water','juice')"
      ],
      "metadata": {
        "id": "Euaqnefz7QvA"
      },
      "execution_count": null,
      "outputs": []
    },
    {
      "cell_type": "code",
      "source": [
        "tt"
      ],
      "metadata": {
        "colab": {
          "base_uri": "https://localhost:8080/"
        },
        "id": "SffwOq8k9uRX",
        "outputId": "68d3ef59-2a61-4e6b-e743-e8f0fbbaf894"
      },
      "execution_count": null,
      "outputs": [
        {
          "output_type": "execute_result",
          "data": {
            "text/plain": [
              "('cake', 'coffee', 'tea', 'water', 'juice')"
            ]
          },
          "metadata": {},
          "execution_count": 57
        }
      ]
    },
    {
      "cell_type": "code",
      "source": [
        "(s1,s2,s3,s4,s5) = tt"
      ],
      "metadata": {
        "id": "55FwNFQG9vXR"
      },
      "execution_count": null,
      "outputs": []
    },
    {
      "cell_type": "code",
      "source": [
        "s2"
      ],
      "metadata": {
        "colab": {
          "base_uri": "https://localhost:8080/",
          "height": 35
        },
        "id": "MqbHXSbc90b0",
        "outputId": "a00719cb-d77b-4781-f833-a1b57f6b61c0"
      },
      "execution_count": null,
      "outputs": [
        {
          "output_type": "execute_result",
          "data": {
            "text/plain": [
              "'coffee'"
            ],
            "application/vnd.google.colaboratory.intrinsic+json": {
              "type": "string"
            }
          },
          "metadata": {},
          "execution_count": 62
        }
      ]
    },
    {
      "cell_type": "code",
      "source": [
        "# this is we can use it for swap operation \n",
        "a = 'Apple'\n",
        "b = 'orange'\n",
        "a,b"
      ],
      "metadata": {
        "colab": {
          "base_uri": "https://localhost:8080/"
        },
        "id": "oujpQllt-Ca-",
        "outputId": "325da4ca-6c0b-46e8-ab06-ead071ba842a"
      },
      "execution_count": null,
      "outputs": [
        {
          "output_type": "execute_result",
          "data": {
            "text/plain": [
              "('Apple', 'orange')"
            ]
          },
          "metadata": {},
          "execution_count": 69
        }
      ]
    },
    {
      "cell_type": "code",
      "source": [],
      "metadata": {
        "id": "Wsa0w-ow-0VP"
      },
      "execution_count": null,
      "outputs": []
    },
    {
      "cell_type": "code",
      "source": [
        "a,b = b,a"
      ],
      "metadata": {
        "id": "HETqGroX-3j5"
      },
      "execution_count": null,
      "outputs": []
    },
    {
      "cell_type": "code",
      "source": [],
      "metadata": {
        "id": "eR68Ua_J-6vN"
      },
      "execution_count": null,
      "outputs": []
    },
    {
      "cell_type": "code",
      "source": [
        "a,b"
      ],
      "metadata": {
        "colab": {
          "base_uri": "https://localhost:8080/"
        },
        "id": "oCvK0s39-8Zs",
        "outputId": "09117874-1461-4a6a-c93e-3482590d105d"
      },
      "execution_count": null,
      "outputs": [
        {
          "output_type": "execute_result",
          "data": {
            "text/plain": [
              "('orange', 'Apple')"
            ]
          },
          "metadata": {},
          "execution_count": 71
        }
      ]
    },
    {
      "cell_type": "markdown",
      "source": [
        "# Quiz Tuple \n",
        "* define tuple with a string \"hello\" ? \n",
        "* use unpacking to select the fourth number of tuple for 4 vars tuple from 1 - 10  ? \n",
        "\n"
      ],
      "metadata": {
        "id": "OdH7AMFwQkuI"
      }
    },
    {
      "cell_type": "code",
      "source": [
        "(1,2,3,4,5,6,7,8,9,10)[1::2]"
      ],
      "metadata": {
        "colab": {
          "base_uri": "https://localhost:8080/"
        },
        "id": "C7wCsB2b_ADA",
        "outputId": "48ee3437-e420-45ac-ae21-53c0c132d191"
      },
      "execution_count": null,
      "outputs": [
        {
          "output_type": "execute_result",
          "data": {
            "text/plain": [
              "(2, 4, 6, 8, 10)"
            ]
          },
          "metadata": {},
          "execution_count": 110
        }
      ]
    },
    {
      "cell_type": "code",
      "source": [],
      "metadata": {
        "colab": {
          "base_uri": "https://localhost:8080/",
          "height": 35
        },
        "id": "UvG7Mx8HAWLK",
        "outputId": "70f8a100-b655-4f8b-a210-fc215f2e1334"
      },
      "execution_count": null,
      "outputs": [
        {
          "output_type": "execute_result",
          "data": {
            "text/plain": [
              "'z'"
            ],
            "application/vnd.google.colaboratory.intrinsic+json": {
              "type": "string"
            }
          },
          "metadata": {},
          "execution_count": 77
        }
      ]
    },
    {
      "cell_type": "code",
      "source": [],
      "metadata": {
        "colab": {
          "base_uri": "https://localhost:8080/"
        },
        "id": "6-CuaGkLAZgo",
        "outputId": "55521393-4aa1-4b00-8781-82008d752a76"
      },
      "execution_count": null,
      "outputs": [
        {
          "output_type": "execute_result",
          "data": {
            "text/plain": [
              "(4, -4)"
            ]
          },
          "metadata": {},
          "execution_count": 111
        }
      ]
    },
    {
      "cell_type": "code",
      "source": [],
      "metadata": {
        "id": "V_tADsiaBKoe"
      },
      "execution_count": null,
      "outputs": []
    },
    {
      "cell_type": "code",
      "source": [],
      "metadata": {
        "id": "wFFNbV0rB2B6"
      },
      "execution_count": null,
      "outputs": []
    },
    {
      "cell_type": "code",
      "source": [],
      "metadata": {
        "colab": {
          "base_uri": "https://localhost:8080/"
        },
        "id": "NDbkmCmnB35e",
        "outputId": "08696a54-02b6-4012-d6a9-0adc1d3d4943"
      },
      "execution_count": null,
      "outputs": [
        {
          "output_type": "execute_result",
          "data": {
            "text/plain": [
              "['a', 'b', 'd', 'e']"
            ]
          },
          "metadata": {},
          "execution_count": 84
        }
      ]
    },
    {
      "cell_type": "code",
      "source": [],
      "metadata": {
        "id": "KomOXtnFB68W"
      },
      "execution_count": null,
      "outputs": []
    },
    {
      "cell_type": "code",
      "source": [],
      "metadata": {
        "colab": {
          "base_uri": "https://localhost:8080/"
        },
        "id": "b_0kdtQ2CADn",
        "outputId": "6c868b0e-ec7f-4660-d8b6-7e272f149c51"
      },
      "execution_count": null,
      "outputs": [
        {
          "output_type": "execute_result",
          "data": {
            "text/plain": [
              "['a', 'b', 'd', 'e', 'f', 'f', 'k', 'l']"
            ]
          },
          "metadata": {},
          "execution_count": 89
        }
      ]
    },
    {
      "cell_type": "code",
      "source": [],
      "metadata": {
        "id": "EuK6bkEYCDJv"
      },
      "execution_count": null,
      "outputs": []
    },
    {
      "cell_type": "code",
      "source": [],
      "metadata": {
        "colab": {
          "base_uri": "https://localhost:8080/"
        },
        "id": "qsN7Mw79CQLq",
        "outputId": "e363185c-218a-4544-b3c5-824dca0f90cf"
      },
      "execution_count": null,
      "outputs": [
        {
          "output_type": "execute_result",
          "data": {
            "text/plain": [
              "['a', 'b', 'd', 'e', 'f', 'f', 'k', 'l', 'rr', 'ss']"
            ]
          },
          "metadata": {},
          "execution_count": 92
        }
      ]
    },
    {
      "cell_type": "code",
      "source": [],
      "metadata": {
        "id": "0FpPiYsVCUfc"
      },
      "execution_count": null,
      "outputs": []
    },
    {
      "cell_type": "code",
      "source": [],
      "metadata": {
        "id": "uGSx-NCBDQ37"
      },
      "execution_count": null,
      "outputs": []
    },
    {
      "cell_type": "code",
      "source": [],
      "metadata": {
        "colab": {
          "base_uri": "https://localhost:8080/"
        },
        "id": "mJ5l9y88Pjp3",
        "outputId": "9674265b-e802-4782-bfbc-77a1e63445f2"
      },
      "execution_count": null,
      "outputs": [
        {
          "output_type": "execute_result",
          "data": {
            "text/plain": [
              "[1, 2, 3, 4, 5, 6, 7, 8]"
            ]
          },
          "metadata": {},
          "execution_count": 105
        }
      ]
    },
    {
      "cell_type": "code",
      "source": [],
      "metadata": {
        "id": "uKG8fK6BPpV_"
      },
      "execution_count": null,
      "outputs": []
    },
    {
      "cell_type": "code",
      "source": [],
      "metadata": {
        "colab": {
          "base_uri": "https://localhost:8080/"
        },
        "id": "2NkJP7U0P4qQ",
        "outputId": "0bb29c49-e9b0-4b40-d22c-d9ff905ed185"
      },
      "execution_count": null,
      "outputs": [
        {
          "output_type": "execute_result",
          "data": {
            "text/plain": [
              "[1, 2, 3, 4, 5, 6, 7, 8]"
            ]
          },
          "metadata": {},
          "execution_count": 109
        }
      ]
    },
    {
      "cell_type": "code",
      "source": [],
      "metadata": {
        "id": "tPpbBZCXQHV3"
      },
      "execution_count": null,
      "outputs": []
    }
  ]
}