{
  "nbformat": 4,
  "nbformat_minor": 0,
  "metadata": {
    "colab": {
      "provenance": [],
      "authorship_tag": "ABX9TyOZfQiKMYXwcFi9vgjo8lgw",
      "include_colab_link": true
    },
    "kernelspec": {
      "name": "python3",
      "display_name": "Python 3"
    },
    "language_info": {
      "name": "python"
    }
  },
  "cells": [
    {
      "cell_type": "markdown",
      "metadata": {
        "id": "view-in-github",
        "colab_type": "text"
      },
      "source": [
        "<a href=\"https://colab.research.google.com/github/Mohammed-Alnemari/Workshop_Python/blob/main/Game_Dice.ipynb\" target=\"_parent\"><img src=\"https://colab.research.google.com/assets/colab-badge.svg\" alt=\"Open In Colab\"/></a>"
      ]
    },
    {
      "cell_type": "markdown",
      "source": [
        "#Dice Game ... \n",
        "## Rules \n",
        "* The game should have two players: a human player and a computer player. Both shouldhave the same functionality.\n",
        "* Both players will start with a counter of 10.\n",
        "* Each player will have a particular die during the entire game.\n",
        "* Both players will roll their corresponding die (once per round).\n",
        "* The values of the dice will be compared to determine who wins the round. The player with thehighest value wins the round.\n",
        "* If the two values are equal, then there is a tie and there is no winner for that round. Thecounters are not modified.\n",
        "* The counter of the player whowinsa round will bedecrementedby 1.\n",
        "* The counter of the player wholosesa round will beincrementedby 1.\n",
        "* The counter will determine who wins the game. The player whose counter reaches thevalue 0 first wins the game\n",
        "\n"
      ],
      "metadata": {
        "id": "aTNlHJdBxO1T"
      }
    },
    {
      "cell_type": "markdown",
      "source": [
        "## Specific \n",
        "Specific Requirements\n",
        "* Interactivity\n",
        "  * Before the human player rolls the die, he/she should be prompted to press anykey to start the round.\n",
        "* Rollingthedice\n",
        "  * When a player rolls the dice, the result should be a random integer between 1and 6 (inclusive).\n",
        "* Messages\n",
        "  * The game should show a descriptive message:\n",
        "    * When the game starts.\n",
        "    * When a new round starts.\n",
        "    * When the game ends. This message should mention who won the game.\n",
        "  * The game should display messages to:\n",
        "    * Show the value of each die after the players roll the dice.\n",
        "    * Mention the winner of the round or if there was a tie.\n",
        "    * Show both counters when a round ends.\n"
      ],
      "metadata": {
        "id": "qPwAFJifzBf5"
      }
    },
    {
      "cell_type": "markdown",
      "source": [
        "## Die\n",
        "* Each die should have:\n",
        "  * A value.\n",
        "    * This value should be either None (if the die has not been rolled yet)    or arandom integer between 1 and 6 (inclusive).\n",
        "    * This attribute should not be changed outside the class. The change should be handled internally.\n",
        "* Each die should be able to:\n",
        " * Roll\n",
        "   * Generate a random integer between 1 and 6 (inclusive) and assign it tothe value attribute.\n",
        "   \n",
        "   \n",
        "## Player\n",
        "* Each player should have the following attributes:\n",
        "  * A Die instance.\n",
        "  * A Boolean value (True/False) to indicate if the player is a human or the computer.\n",
        "  * A counter. The initial value should be 10.\n",
        "* Each player should be able to:\n",
        "  * Increment the value of the counter by 1.\n",
        "  * Decrement the value of the counter by 1.\n",
        "  * Roll the die.\n"
      ],
      "metadata": {
        "id": "7hdgmagXz4fh"
      }
    },
    {
      "cell_type": "markdown",
      "source": [
        "# DiceGame\n",
        "* This class will represent a dice game.\n",
        "* Each instance of the game should have the following attributes:\n",
        "  * A human player instance.\n",
        "  * A computer player instance.\n",
        "      * This will create a relationship between these classes. A DiceGame “hasa” human player and a computer player.\n",
        "* Each instance of the game should be able to:\n",
        "  * Start the game (play)\n",
        "    * This method will start the game logic. It should show a welcome messageand create the endless loop that will continue the game until a counterhas reached the value 0.\n",
        "  * Start a round (play round)\n",
        "    * This method should handle the main round logic. It should welcome theplayer to the round, roll the dice, determine the winner and loser of theround, update the counters accordingly, and show the values of thecounters.\n",
        "* Determine when the game is over and stop the game.\n",
        "  * The game should end when the counter of either one of the players hasreached the value 0.\n",
        "  * A descriptive message should be printed before the game ends."
      ],
      "metadata": {
        "id": "spjEL0VZ0-5M"
      }
    },
    {
      "cell_type": "code",
      "execution_count": null,
      "metadata": {
        "id": "e_WW57gBrWaH"
      },
      "outputs": [],
      "source": [
        "import random\n",
        " \n",
        "class Die:\n",
        " \n",
        "    def __init__(self, value=None):\n",
        "      pass\n",
        " \n",
        "    @property\n",
        "    def value(self):\n",
        "      pass\n",
        "\n",
        " \n",
        "    def roll(self):\n",
        "      pass\n",
        "\n",
        "class Player:\n",
        " \n",
        "    def __init__(self, die, is_computer=False):\n",
        "      pass\n",
        " \n",
        "    @property\n",
        "    def is_computer(self):\n",
        "        pass\n",
        " \n",
        "    @property\n",
        "    def die(self):\n",
        "        pass\n",
        " \n",
        "    @property\n",
        "    def counter(self):\n",
        "        pass\n",
        " \n",
        "    def increment_counter(self):\n",
        "        pass\n",
        " \n",
        "    def decrement_counter(self):\n",
        "        pass\n",
        " \n",
        "    def roll_die(self):\n",
        "        pass\n",
        " \n",
        "class DiceGame:\n",
        " \n",
        "    def __init__(self, player, computer):\n",
        "      pass\n",
        " \n",
        "    def play(self):\n",
        "        print(\"=============================\")\n",
        "        print(\"🎲 Welcome to Roll the Dice!\")\n",
        "        print(\"=============================\")\n",
        "\n",
        "    def play_round(self):\n",
        "        # Welcome the player to the round.\n",
        "        self.print_welcome()\n",
        " \n",
        "        # Roll the dice (player and computer).\n",
        "        player_value = self.player.roll_die()\n",
        "        computer_value = self.computer.roll_die()\n",
        " \n",
        "        # Show the values of the dice.\n",
        "        self.show_dice(player_value, computer_value)\n",
        " \n",
        "        # Determine winner or loser\n",
        "        if player_value > computer_value:\n",
        "            print(\"You won this round! 🎉\")\n",
        "            self.update_counters(winner=self.player, loser=self.computer)\n",
        "        elif computer_value > player_value:\n",
        "            print(\"The computer won this round. 😥 Try again.\")\n",
        "            self.update_counters(winner=self.computer, loser=self.player)\n",
        "        else:\n",
        "            print(\"It's a tie! 😎\")\n",
        " \n",
        "        # Show the counters of the players\n",
        "        self.show_counters()\n",
        " \n",
        "    def print_welcome(self):\n",
        "      pass\n",
        "\n",
        " \n",
        "    def show_dice(self, player_value, computer_value):\n",
        "      pass\n",
        " \n",
        "    def show_counters(self):\n",
        "      pass\n",
        " \n",
        "    def update_counters(self, winner, loser):\n",
        "      pass\n",
        " \n",
        "    def check_game_over(self):\n",
        "      pass\n",
        " \n",
        "    def show_game_over(self, winner):\n",
        "        if winner.is_computer:\n",
        "            print(\"\\n=======================\")\n",
        "            print(\" G A M E   O V E R ✨\")\n",
        "            print(\"=======================\")\n",
        "            print(\"The computer won the game. Sorry...\")\n",
        "            print(\"=================================\")\n",
        "        else:\n",
        "            print(\"\\n=====================\")\n",
        "            print(\" G A M E   O V E R ✨\")\n",
        "            print(\"=====================\")\n",
        "            print(\"You won the game! Congratulations\")\n",
        "            print(\"=================================\")\n",
        " \n"
      ]
    },
    {
      "cell_type": "markdown",
      "source": [],
      "metadata": {
        "id": "QMQ6kLjNz30L"
      }
    },
    {
      "cell_type": "markdown",
      "source": [],
      "metadata": {
        "id": "YX9LFAZkxNuG"
      }
    }
  ]
}