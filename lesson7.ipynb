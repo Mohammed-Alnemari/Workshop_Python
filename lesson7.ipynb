{
  "nbformat": 4,
  "nbformat_minor": 0,
  "metadata": {
    "colab": {
      "provenance": [],
      "authorship_tag": "ABX9TyNTNgc3JilIKrErf5ESAYPa",
      "include_colab_link": true
    },
    "kernelspec": {
      "name": "python3",
      "display_name": "Python 3"
    },
    "language_info": {
      "name": "python"
    }
  },
  "cells": [
    {
      "cell_type": "markdown",
      "metadata": {
        "id": "view-in-github",
        "colab_type": "text"
      },
      "source": [
        "<a href=\"https://colab.research.google.com/github/Mohammed-Alnemari/Workshop_Python/blob/main/lesson7.ipynb\" target=\"_parent\"><img src=\"https://colab.research.google.com/assets/colab-badge.svg\" alt=\"Open In Colab\"/></a>"
      ]
    },
    {
      "cell_type": "markdown",
      "source": [
        "# Conditional Statements \n",
        "# \n",
        "```\n",
        "# This is formatted as code\n",
        "if <state>\n",
        "  print(\"Hello\")\n",
        "\n",
        "```\n",
        "\n",
        "```\n",
        "# This is formatted as code\n",
        "if <state>\n",
        "  print(\"Hello\")\n",
        "else:\n",
        "  print(\"Good bye\")\n",
        "\n",
        "```\n",
        "\n",
        "\n",
        "```\n",
        "# This is formatted as code\n",
        "if <state>\n",
        "  print(\"Hello\")\n",
        "elif <state2>:\n",
        "  print(\"Hello 2\")\n",
        "\n",
        "elif <state2>:\n",
        "  print(\"Hello 3\")\n",
        "\n",
        "else:\n",
        "  print(\"Good bye\")\n",
        "```"
      ],
      "metadata": {
        "id": "SqVWy00HU_Ui"
      }
    },
    {
      "cell_type": "code",
      "execution_count": null,
      "metadata": {
        "colab": {
          "base_uri": "https://localhost:8080/"
        },
        "id": "nrA1VEKwEfhT",
        "outputId": "9961da9f-274e-4471-d243-375cbbde6d8f"
      },
      "outputs": [
        {
          "output_type": "stream",
          "name": "stdout",
          "text": [
            "3 is a positive number.\n",
            "This is always printed.\n"
          ]
        }
      ],
      "source": [
        "num = 3\n",
        "if num > 0:\n",
        "    print(num, \"is a positive number.\")\n",
        "print(\"This is always printed.\")"
      ]
    },
    {
      "cell_type": "code",
      "source": [
        "num = -1\n",
        "if num > 0:\n",
        "    print(num, \"is a positive number.\")\n",
        "print(\"This is also always printed.\")"
      ],
      "metadata": {
        "colab": {
          "base_uri": "https://localhost:8080/"
        },
        "id": "beDAB4BiWFUz",
        "outputId": "f8a5a451-b096-40f2-d7d9-413e8c5412b6"
      },
      "execution_count": null,
      "outputs": [
        {
          "output_type": "stream",
          "name": "stdout",
          "text": [
            "This is also always printed.\n"
          ]
        }
      ]
    },
    {
      "cell_type": "markdown",
      "source": [
        "# If --- else"
      ],
      "metadata": {
        "id": "IiVseWiXWOmI"
      }
    },
    {
      "cell_type": "code",
      "source": [
        "num = 3\n",
        "\n",
        "# Try these two variations as well. \n",
        "# num = -5\n",
        "# num = 0\n",
        "\n",
        "if num >= 0:\n",
        "    print(\"Positive or Zero\")\n",
        "else:\n",
        "    print(\"Negative number\")"
      ],
      "metadata": {
        "colab": {
          "base_uri": "https://localhost:8080/"
        },
        "id": "5EkbZU9oWSmw",
        "outputId": "aee52d9a-3c2f-465d-b26e-3173f3fa60ea"
      },
      "execution_count": null,
      "outputs": [
        {
          "output_type": "stream",
          "name": "stdout",
          "text": [
            "Positive or Zero\n"
          ]
        }
      ]
    },
    {
      "cell_type": "markdown",
      "source": [
        "# If --- elif -- else "
      ],
      "metadata": {
        "id": "1ncgptNWU-RC"
      }
    },
    {
      "cell_type": "code",
      "source": [
        "'''In this program, \n",
        "we check if the number is positive or\n",
        "negative or zero and \n",
        "display an appropriate message'''\n",
        "\n",
        "num = 3.4\n",
        "\n",
        "# Try these two variations as well:\n",
        "# num = 0\n",
        "# num = -4.5\n",
        "\n",
        "if num > 0:\n",
        "    print(\"Positive number\")\n",
        "elif num == 0:\n",
        "    print(\"Zero\")\n",
        "else:\n",
        "    print(\"Negative number\")"
      ],
      "metadata": {
        "colab": {
          "base_uri": "https://localhost:8080/"
        },
        "id": "SCT5XwWdWbZe",
        "outputId": "6e7cc8c1-2671-4f8d-f283-14ec45d11316"
      },
      "execution_count": null,
      "outputs": [
        {
          "output_type": "stream",
          "name": "stdout",
          "text": [
            "Positive number\n"
          ]
        }
      ]
    },
    {
      "cell_type": "markdown",
      "source": [
        "# Nested if "
      ],
      "metadata": {
        "id": "S9t3l5RSWisK"
      }
    },
    {
      "cell_type": "code",
      "source": [
        "num = float(input(\"Enter a number: \"))\n",
        "if num >= 0:\n",
        "    if num == 0:\n",
        "        print(\"Zero\")\n",
        "    else:\n",
        "        print(\"Positive number\")\n",
        "else:\n",
        "    print(\"Negative number\")"
      ],
      "metadata": {
        "colab": {
          "base_uri": "https://localhost:8080/"
        },
        "id": "4x39yHI9Wc47",
        "outputId": "4cebbed8-f805-4681-81a7-dc9160785ab8"
      },
      "execution_count": null,
      "outputs": [
        {
          "output_type": "stream",
          "name": "stdout",
          "text": [
            "Enter a number: 54.55\n",
            "Positive number\n"
          ]
        }
      ]
    },
    {
      "cell_type": "markdown",
      "source": [
        "# Conditional Expressions (Python’s Ternary Operator)\n",
        "\n",
        "```\n",
        "<expr1> if <conditional_expr> else <expr2>\n",
        "```"
      ],
      "metadata": {
        "id": "rfYKZXDWW4h3"
      }
    },
    {
      "cell_type": "code",
      "source": [
        "a = 5\n",
        "b = 3"
      ],
      "metadata": {
        "id": "qAVvXpmaXLav"
      },
      "execution_count": null,
      "outputs": []
    },
    {
      "cell_type": "code",
      "source": [
        "if a > b:\n",
        "  m = a\n",
        "else:\n",
        "  m = b"
      ],
      "metadata": {
        "id": "-Rcv9Nz-Wl1a"
      },
      "execution_count": null,
      "outputs": []
    },
    {
      "cell_type": "code",
      "source": [
        "m"
      ],
      "metadata": {
        "colab": {
          "base_uri": "https://localhost:8080/"
        },
        "id": "ZZWHraOuXPP7",
        "outputId": "18740a88-d509-4eaf-9a9d-c47eac8e1d72"
      },
      "execution_count": null,
      "outputs": [
        {
          "output_type": "execute_result",
          "data": {
            "text/plain": [
              "5"
            ]
          },
          "metadata": {},
          "execution_count": 9
        }
      ]
    },
    {
      "cell_type": "code",
      "source": [
        "m = a if a > b else b"
      ],
      "metadata": {
        "id": "1qqzS6hiXQ8i"
      },
      "execution_count": null,
      "outputs": []
    },
    {
      "cell_type": "code",
      "source": [
        "m"
      ],
      "metadata": {
        "colab": {
          "base_uri": "https://localhost:8080/"
        },
        "id": "v59lvu-dXUb0",
        "outputId": "578cb286-b682-4b83-d57a-51a7174e6716"
      },
      "execution_count": null,
      "outputs": [
        {
          "output_type": "execute_result",
          "data": {
            "text/plain": [
              "5"
            ]
          },
          "metadata": {},
          "execution_count": 11
        }
      ]
    },
    {
      "cell_type": "markdown",
      "source": [
        "# Pass Keword \n",
        "* a placeholder for where you will eventually put a block of code that you haven’t implemented yet."
      ],
      "metadata": {
        "id": "oH6uBfIMXiwS"
      }
    },
    {
      "cell_type": "code",
      "source": [
        "def func(a,b):\n",
        "  if a > b:\n",
        "    pass\n",
        "  elif b > a:\n",
        "    pass\n",
        "  "
      ],
      "metadata": {
        "id": "MC-trhJDXiCd"
      },
      "execution_count": null,
      "outputs": []
    },
    {
      "cell_type": "markdown",
      "source": [
        "#Quiz : TBD "
      ],
      "metadata": {
        "id": "TmuqByvmZMDD"
      }
    },
    {
      "cell_type": "code",
      "source": [],
      "metadata": {
        "id": "7ydAZiv_XVOS"
      },
      "execution_count": null,
      "outputs": []
    }
  ]
}