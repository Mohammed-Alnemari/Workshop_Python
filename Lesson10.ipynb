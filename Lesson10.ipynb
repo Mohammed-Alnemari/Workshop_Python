{
  "nbformat": 4,
  "nbformat_minor": 0,
  "metadata": {
    "colab": {
      "provenance": [],
      "authorship_tag": "ABX9TyNYKNtSFVrhS/kayq5vNgd4",
      "include_colab_link": true
    },
    "kernelspec": {
      "name": "python3",
      "display_name": "Python 3"
    },
    "language_info": {
      "name": "python"
    }
  },
  "cells": [
    {
      "cell_type": "markdown",
      "metadata": {
        "id": "view-in-github",
        "colab_type": "text"
      },
      "source": [
        "<a href=\"https://colab.research.google.com/github/Mohammed-Alnemari/Workshop_Python/blob/main/Lesson10.ipynb\" target=\"_parent\"><img src=\"https://colab.research.google.com/assets/colab-badge.svg\" alt=\"Open In Colab\"/></a>"
      ]
    },
    {
      "cell_type": "markdown",
      "source": [
        "# Python OOPs \n",
        "* keyword class\n",
        "* object \n",
        "* inhertence (single,mutli,chain ) \n",
        "* Polymorphism \n",
        "* encapsulation \n",
        "* operator overload\n",
        "* super()"
      ],
      "metadata": {
        "id": "jE95qmjF1rDy"
      }
    },
    {
      "cell_type": "code",
      "execution_count": null,
      "metadata": {
        "id": "NyFfpfVO1ovt"
      },
      "outputs": [],
      "source": []
    },
    {
      "cell_type": "code",
      "source": [],
      "metadata": {
        "id": "85IJf4-y1qHY"
      },
      "execution_count": null,
      "outputs": []
    }
  ]
}