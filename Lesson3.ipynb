{
  "nbformat": 4,
  "nbformat_minor": 0,
  "metadata": {
    "colab": {
      "provenance": [],
      "authorship_tag": "ABX9TyNtUfRakAfq4lN8fAPYWheO",
      "include_colab_link": true
    },
    "kernelspec": {
      "name": "python3",
      "display_name": "Python 3"
    },
    "language_info": {
      "name": "python"
    }
  },
  "cells": [
    {
      "cell_type": "markdown",
      "metadata": {
        "id": "view-in-github",
        "colab_type": "text"
      },
      "source": [
        "<a href=\"https://colab.research.google.com/github/Mohammed-Alnemari/Workshop_Python/blob/main/Lesson3.ipynb\" target=\"_parent\"><img src=\"https://colab.research.google.com/assets/colab-badge.svg\" alt=\"Open In Colab\"/></a>"
      ]
    },
    {
      "cell_type": "markdown",
      "source": [
        "# Sequence (String, Tuple, List)\n",
        "## String --> python understand \"Hello\" as sequnece of letters in specific order. \n",
        "## With String we can use indexing. \n",
        "* Creating String \n",
        "* printing String \n",
        "* string indexing and slicing \n",
        "* string properties\n",
        "* sttring method \n",
        "* print formatting "
      ],
      "metadata": {
        "id": "hjxE7g12KQQI"
      }
    },
    {
      "cell_type": "code",
      "execution_count": null,
      "metadata": {
        "id": "b-j3mEyMtdMV"
      },
      "outputs": [],
      "source": [
        "x = \"Hello World\""
      ]
    },
    {
      "cell_type": "code",
      "source": [
        "x"
      ],
      "metadata": {
        "colab": {
          "base_uri": "https://localhost:8080/",
          "height": 35
        },
        "id": "WWwC877PL2Cx",
        "outputId": "e3b573fe-1c86-4460-aa31-7be9e3f4d5c2"
      },
      "execution_count": null,
      "outputs": [
        {
          "output_type": "execute_result",
          "data": {
            "text/plain": [
              "'Hello World'"
            ],
            "application/vnd.google.colaboratory.intrinsic+json": {
              "type": "string"
            }
          },
          "metadata": {},
          "execution_count": 3
        }
      ]
    },
    {
      "cell_type": "code",
      "source": [
        "# what about of writing a long string \n",
        "xling = \"\"\"\n",
        "Life is beautiful, but not always. It has lots of problems you have to face \n",
        "everyday.Don't worry though! All these problems make you strong,\n",
        " it gives you courage to stand alone in future. \n",
        " Life is full of moments of joy, pleasure, success and comfort \n",
        " punctuated by misery, defeat, failures and problems. \n",
        " There is no human being on Earth, strong, powerful, wise or rich, \n",
        " who has not experienced, struggle, suffering or failure. \n",
        " You have to work hard to reach to the highest position. \n",
        " Life is full of paths, you just have to choose the right one.\n",
        " Life is interesting and amazing like the stars up in the skies.\n",
        "\"\"\""
      ],
      "metadata": {
        "id": "6genabnKL2eT"
      },
      "execution_count": null,
      "outputs": []
    },
    {
      "cell_type": "code",
      "source": [
        "# what about if you we have in the text ' \n",
        "x_s = I'm mohammed alnemari, working at tabuk university"
      ],
      "metadata": {
        "colab": {
          "base_uri": "https://localhost:8080/",
          "height": 131
        },
        "id": "ixe9Ct1qMW5E",
        "outputId": "c8dac2d4-7087-47be-f298-da6b478a19b0"
      },
      "execution_count": null,
      "outputs": [
        {
          "output_type": "error",
          "ename": "SyntaxError",
          "evalue": "ignored",
          "traceback": [
            "\u001b[0;36m  File \u001b[0;32m\"<ipython-input-5-44832380d68b>\"\u001b[0;36m, line \u001b[0;32m2\u001b[0m\n\u001b[0;31m    x_s = I'm mohammed alnemari, working at tabuk university\u001b[0m\n\u001b[0m                                                            ^\u001b[0m\n\u001b[0;31mSyntaxError\u001b[0m\u001b[0;31m:\u001b[0m EOL while scanning string literal\n"
          ]
        }
      ]
    },
    {
      "cell_type": "code",
      "source": [
        "x_s = \"I'm mohammed alnemari, working at tabuk university\""
      ],
      "metadata": {
        "id": "C4eKhmAIMpNn"
      },
      "execution_count": null,
      "outputs": []
    },
    {
      "cell_type": "code",
      "source": [
        "x_s"
      ],
      "metadata": {
        "colab": {
          "base_uri": "https://localhost:8080/",
          "height": 35
        },
        "id": "GehDhwhYMvlo",
        "outputId": "6558138e-c290-4fd8-d142-7696cfa2a41f"
      },
      "execution_count": null,
      "outputs": [
        {
          "output_type": "execute_result",
          "data": {
            "text/plain": [
              "\"I'm mohammed alnemari, working at tabuk university\""
            ],
            "application/vnd.google.colaboratory.intrinsic+json": {
              "type": "string"
            }
          },
          "metadata": {},
          "execution_count": 7
        }
      ]
    },
    {
      "cell_type": "code",
      "source": [
        "print (x)"
      ],
      "metadata": {
        "colab": {
          "base_uri": "https://localhost:8080/"
        },
        "id": "tR_fbD18Mwk5",
        "outputId": "5b0d5e6d-4330-4ff4-f6a8-624e20cea829"
      },
      "execution_count": null,
      "outputs": [
        {
          "output_type": "stream",
          "name": "stdout",
          "text": [
            "Hello World\n"
          ]
        }
      ]
    },
    {
      "cell_type": "code",
      "source": [
        "print ('to use new line \\n {}'.format(x))"
      ],
      "metadata": {
        "colab": {
          "base_uri": "https://localhost:8080/"
        },
        "id": "O-uMtkUEM2MX",
        "outputId": "a19eab97-eea6-4313-e211-f03f7103200a"
      },
      "execution_count": null,
      "outputs": [
        {
          "output_type": "stream",
          "name": "stdout",
          "text": [
            "to use new line \n",
            " Hello World\n"
          ]
        }
      ]
    },
    {
      "cell_type": "code",
      "source": [
        "# in python everything is an object of a class --> we will dig in this when we \n",
        "# go to the depth of python \"Advanced python\"\n",
        "\n",
        "s = \"Hello Tabuk\""
      ],
      "metadata": {
        "id": "VqEtSvS1NC4l"
      },
      "execution_count": null,
      "outputs": []
    },
    {
      "cell_type": "code",
      "source": [
        "s"
      ],
      "metadata": {
        "colab": {
          "base_uri": "https://localhost:8080/",
          "height": 35
        },
        "id": "-ggC8TQ6NarF",
        "outputId": "0025ebec-6054-49dd-a092-f8cc590dd60b"
      },
      "execution_count": null,
      "outputs": [
        {
          "output_type": "execute_result",
          "data": {
            "text/plain": [
              "'Hello Tabuk'"
            ],
            "application/vnd.google.colaboratory.intrinsic+json": {
              "type": "string"
            }
          },
          "metadata": {},
          "execution_count": 15
        }
      ]
    },
    {
      "cell_type": "code",
      "source": [
        "# to find the length of string \n",
        "len(s)"
      ],
      "metadata": {
        "colab": {
          "base_uri": "https://localhost:8080/"
        },
        "id": "UgsDyyMINb4c",
        "outputId": "62d6a1a9-bd37-41f1-8cba-424ce0ea3107"
      },
      "execution_count": null,
      "outputs": [
        {
          "output_type": "execute_result",
          "data": {
            "text/plain": [
              "11"
            ]
          },
          "metadata": {},
          "execution_count": 16
        }
      ]
    },
    {
      "cell_type": "code",
      "source": [
        "ds = \"12345\" * 5\n",
        "\n",
        "# print only '11111'\n",
        "# print only  '55555'"
      ],
      "metadata": {
        "id": "8h4NMOMnVjrI"
      },
      "execution_count": null,
      "outputs": []
    },
    {
      "cell_type": "code",
      "source": [
        "s[0]"
      ],
      "metadata": {
        "colab": {
          "base_uri": "https://localhost:8080/",
          "height": 35
        },
        "id": "UZjWaPRxNc-m",
        "outputId": "22128a19-ad65-4e16-8d2c-b66bd198f767"
      },
      "execution_count": null,
      "outputs": [
        {
          "output_type": "execute_result",
          "data": {
            "text/plain": [
              "'H'"
            ],
            "application/vnd.google.colaboratory.intrinsic+json": {
              "type": "string"
            }
          },
          "metadata": {},
          "execution_count": 17
        }
      ]
    },
    {
      "cell_type": "code",
      "source": [
        "s[:-1]"
      ],
      "metadata": {
        "colab": {
          "base_uri": "https://localhost:8080/",
          "height": 35
        },
        "id": "vzEL-PYONozB",
        "outputId": "fa0c9631-e2a2-43c2-afd0-309ebc7d530a"
      },
      "execution_count": null,
      "outputs": [
        {
          "output_type": "execute_result",
          "data": {
            "text/plain": [
              "'Hello Tabu'"
            ],
            "application/vnd.google.colaboratory.intrinsic+json": {
              "type": "string"
            }
          },
          "metadata": {},
          "execution_count": 18
        }
      ]
    },
    {
      "cell_type": "code",
      "source": [
        "s[::1]"
      ],
      "metadata": {
        "colab": {
          "base_uri": "https://localhost:8080/",
          "height": 35
        },
        "id": "8Oq3tuJ3NrCa",
        "outputId": "002cbb32-11c8-4a61-a26f-8245a789ca51"
      },
      "execution_count": null,
      "outputs": [
        {
          "output_type": "execute_result",
          "data": {
            "text/plain": [
              "'Hello Tabuk'"
            ],
            "application/vnd.google.colaboratory.intrinsic+json": {
              "type": "string"
            }
          },
          "metadata": {},
          "execution_count": 19
        }
      ]
    },
    {
      "cell_type": "code",
      "source": [
        "s[::2]"
      ],
      "metadata": {
        "colab": {
          "base_uri": "https://localhost:8080/",
          "height": 35
        },
        "id": "7zkBZ3CMNtZ4",
        "outputId": "d35edc90-0183-4175-f3f3-cb89a2935b0e"
      },
      "execution_count": null,
      "outputs": [
        {
          "output_type": "execute_result",
          "data": {
            "text/plain": [
              "'HloTbk'"
            ],
            "application/vnd.google.colaboratory.intrinsic+json": {
              "type": "string"
            }
          },
          "metadata": {},
          "execution_count": 20
        }
      ]
    },
    {
      "cell_type": "code",
      "source": [
        "s[::-2]"
      ],
      "metadata": {
        "colab": {
          "base_uri": "https://localhost:8080/",
          "height": 35
        },
        "id": "539AWlxPNvC1",
        "outputId": "052a3519-2567-43aa-e930-afae2d99e99a"
      },
      "execution_count": null,
      "outputs": [
        {
          "output_type": "execute_result",
          "data": {
            "text/plain": [
              "'kbTolH'"
            ],
            "application/vnd.google.colaboratory.intrinsic+json": {
              "type": "string"
            }
          },
          "metadata": {},
          "execution_count": 21
        }
      ]
    },
    {
      "cell_type": "code",
      "source": [
        "ds1 = \"Hello my name is Mohammed and I am a professor in tabuk university \"\n",
        "# reverse this how "
      ],
      "metadata": {
        "id": "FzKWOjR-V64h"
      },
      "execution_count": null,
      "outputs": []
    },
    {
      "cell_type": "code",
      "source": [
        "s[-2]"
      ],
      "metadata": {
        "colab": {
          "base_uri": "https://localhost:8080/",
          "height": 35
        },
        "id": "FVRIPgGiNyuy",
        "outputId": "f637a305-173c-4566-d9da-3b04247d1758"
      },
      "execution_count": null,
      "outputs": [
        {
          "output_type": "execute_result",
          "data": {
            "text/plain": [
              "'u'"
            ],
            "application/vnd.google.colaboratory.intrinsic+json": {
              "type": "string"
            }
          },
          "metadata": {},
          "execution_count": 22
        }
      ]
    },
    {
      "cell_type": "code",
      "source": [
        "word = \"Foxworld\" ## change w capital \n",
        " "
      ],
      "metadata": {
        "id": "0nsOZl7wWP7q"
      },
      "execution_count": null,
      "outputs": []
    },
    {
      "cell_type": "code",
      "source": [],
      "metadata": {
        "colab": {
          "base_uri": "https://localhost:8080/",
          "height": 35
        },
        "id": "fVRwIUoUWsDx",
        "outputId": "14bb9db6-fcd6-49a2-f299-e0f70de5ee61"
      },
      "execution_count": null,
      "outputs": [
        {
          "output_type": "execute_result",
          "data": {
            "text/plain": [
              "'FoxWorld'"
            ],
            "application/vnd.google.colaboratory.intrinsic+json": {
              "type": "string"
            }
          },
          "metadata": {},
          "execution_count": 45
        }
      ]
    },
    {
      "cell_type": "markdown",
      "source": [
        "#String property "
      ],
      "metadata": {
        "id": "RJ9DK7SRN-I3"
      }
    },
    {
      "cell_type": "code",
      "source": [
        "s + \" I can add something to the string {string+string} no problem\""
      ],
      "metadata": {
        "colab": {
          "base_uri": "https://localhost:8080/",
          "height": 35
        },
        "id": "kOrCPuG3N4qj",
        "outputId": "563ee391-f068-4012-a720-9cf06f9d6f35"
      },
      "execution_count": null,
      "outputs": [
        {
          "output_type": "execute_result",
          "data": {
            "text/plain": [
              "'Hello Tabuk I can add something to the string {string+string} no problem'"
            ],
            "application/vnd.google.colaboratory.intrinsic+json": {
              "type": "string"
            }
          },
          "metadata": {},
          "execution_count": 25
        }
      ]
    },
    {
      "cell_type": "code",
      "source": [
        "z = \"Mohammed\""
      ],
      "metadata": {
        "id": "2GfYxaqvOOer"
      },
      "execution_count": null,
      "outputs": []
    },
    {
      "cell_type": "code",
      "source": [
        "z * 10"
      ],
      "metadata": {
        "colab": {
          "base_uri": "https://localhost:8080/",
          "height": 35
        },
        "id": "Ee_2u1tMOYpV",
        "outputId": "6e556eab-4c50-4ae2-8ffe-63faa8186fd9"
      },
      "execution_count": null,
      "outputs": [
        {
          "output_type": "execute_result",
          "data": {
            "text/plain": [
              "'MohammedMohammedMohammedMohammedMohammedMohammedMohammedMohammedMohammedMohammed'"
            ],
            "application/vnd.google.colaboratory.intrinsic+json": {
              "type": "string"
            }
          },
          "metadata": {},
          "execution_count": 28
        }
      ]
    },
    {
      "cell_type": "code",
      "source": [
        "z+\"\\n\""
      ],
      "metadata": {
        "colab": {
          "base_uri": "https://localhost:8080/",
          "height": 35
        },
        "id": "ArMVNZ9hOaRt",
        "outputId": "42a0fe20-61bb-4c66-95e0-55b8a89c1d9b"
      },
      "execution_count": null,
      "outputs": [
        {
          "output_type": "execute_result",
          "data": {
            "text/plain": [
              "'Mohammed\\n'"
            ],
            "application/vnd.google.colaboratory.intrinsic+json": {
              "type": "string"
            }
          },
          "metadata": {},
          "execution_count": 29
        }
      ]
    },
    {
      "cell_type": "markdown",
      "source": [
        "# Basic Built-in String methods \n",
        "* method means functiong that defined inside an object or a class more about the later when we explain oops"
      ],
      "metadata": {
        "id": "aXEhTVnlOurH"
      }
    },
    {
      "cell_type": "code",
      "source": [
        "z"
      ],
      "metadata": {
        "colab": {
          "base_uri": "https://localhost:8080/",
          "height": 35
        },
        "id": "7uPh4_QrOkvr",
        "outputId": "aedce1c0-4cba-41ac-c777-991135021bd7"
      },
      "execution_count": null,
      "outputs": [
        {
          "output_type": "execute_result",
          "data": {
            "text/plain": [
              "'Mohammed'"
            ],
            "application/vnd.google.colaboratory.intrinsic+json": {
              "type": "string"
            }
          },
          "metadata": {},
          "execution_count": 30
        }
      ]
    },
    {
      "cell_type": "code",
      "source": [
        "z.upper()"
      ],
      "metadata": {
        "colab": {
          "base_uri": "https://localhost:8080/",
          "height": 35
        },
        "id": "0xlaGFIkPDtD",
        "outputId": "3df3ac5b-04a9-4949-900f-73a40e41a34b"
      },
      "execution_count": null,
      "outputs": [
        {
          "output_type": "execute_result",
          "data": {
            "text/plain": [
              "'MOHAMMED'"
            ],
            "application/vnd.google.colaboratory.intrinsic+json": {
              "type": "string"
            }
          },
          "metadata": {},
          "execution_count": 31
        }
      ]
    },
    {
      "cell_type": "code",
      "source": [
        "z.lower()"
      ],
      "metadata": {
        "colab": {
          "base_uri": "https://localhost:8080/",
          "height": 35
        },
        "id": "2SDL5Xk-PJfd",
        "outputId": "66a1b8b1-685f-4fe4-f5cd-fea87d26ff2b"
      },
      "execution_count": null,
      "outputs": [
        {
          "output_type": "execute_result",
          "data": {
            "text/plain": [
              "'mohammed'"
            ],
            "application/vnd.google.colaboratory.intrinsic+json": {
              "type": "string"
            }
          },
          "metadata": {},
          "execution_count": 32
        }
      ]
    },
    {
      "cell_type": "code",
      "source": [
        "z.split()"
      ],
      "metadata": {
        "colab": {
          "base_uri": "https://localhost:8080/"
        },
        "id": "GFd9KTD0PMgj",
        "outputId": "34b37f57-3c90-4a99-c9ce-fec4752ca752"
      },
      "execution_count": null,
      "outputs": [
        {
          "output_type": "execute_result",
          "data": {
            "text/plain": [
              "['Mohammed']"
            ]
          },
          "metadata": {},
          "execution_count": 33
        }
      ]
    },
    {
      "cell_type": "code",
      "source": [
        "z = \"Hi My name is Mohammed and I am From Saudi Arabia\""
      ],
      "metadata": {
        "id": "wqxxYGxoPN2-"
      },
      "execution_count": null,
      "outputs": []
    },
    {
      "cell_type": "code",
      "source": [
        "z.split()"
      ],
      "metadata": {
        "colab": {
          "base_uri": "https://localhost:8080/"
        },
        "id": "BzAvVxjHPWZP",
        "outputId": "fec0a74f-6728-40af-b09c-fd6d47967a36"
      },
      "execution_count": null,
      "outputs": [
        {
          "output_type": "execute_result",
          "data": {
            "text/plain": [
              "['Hi',\n",
              " 'My',\n",
              " 'name',\n",
              " 'is',\n",
              " 'Mohammed',\n",
              " 'and',\n",
              " 'I',\n",
              " 'am',\n",
              " 'From',\n",
              " 'Saudi',\n",
              " 'Arabia']"
            ]
          },
          "metadata": {},
          "execution_count": 35
        }
      ]
    },
    {
      "cell_type": "code",
      "source": [
        "z.strip()"
      ],
      "metadata": {
        "colab": {
          "base_uri": "https://localhost:8080/",
          "height": 35
        },
        "id": "W-gNprY9PYr5",
        "outputId": "e7005888-5032-492a-b108-6706ea73b6d3"
      },
      "execution_count": null,
      "outputs": [
        {
          "output_type": "execute_result",
          "data": {
            "text/plain": [
              "'Hi My name is Mohammed and I am From Saudi Arabia'"
            ],
            "application/vnd.google.colaboratory.intrinsic+json": {
              "type": "string"
            }
          },
          "metadata": {},
          "execution_count": 36
        }
      ]
    },
    {
      "cell_type": "code",
      "source": [
        "# to print the string we can use the format \n",
        "print(\"My name is {}\".format('Mohammed'))"
      ],
      "metadata": {
        "colab": {
          "base_uri": "https://localhost:8080/"
        },
        "id": "_1T5_j1-Pbhv",
        "outputId": "9f9fd242-d972-4468-d861-6c38fbd408db"
      },
      "execution_count": null,
      "outputs": [
        {
          "output_type": "stream",
          "name": "stdout",
          "text": [
            "My name is Mohammed\n"
          ]
        }
      ]
    },
    {
      "cell_type": "markdown",
      "source": [
        "Lesson 3.A Quiz \n",
        "you are given a string check which are not correct and explain why .. \n",
        " 1. s = 'tabuk university'\n",
        " 2. s = \"tabuk university\"\n",
        " 3. s = ''tabuk university''\n",
        " 4. s = \"\"tabuk university\"\"\n",
        " 5. s = ''' tabuk univeristy'''\n",
        " 6. s = \"\"\" tabuk university \"\"\""
      ],
      "metadata": {
        "id": "-yKY84pGQFjh"
      }
    },
    {
      "cell_type": "code",
      "source": [
        "'''\n",
        "Your Answer and explaning is here \n",
        "\n",
        "'''"
      ],
      "metadata": {
        "colab": {
          "base_uri": "https://localhost:8080/",
          "height": 35
        },
        "id": "n8lfeHGBPsuV",
        "outputId": "eef8475a-9024-4fac-fab9-e3b848a6e110"
      },
      "execution_count": null,
      "outputs": [
        {
          "output_type": "execute_result",
          "data": {
            "text/plain": [
              "'\\nYour Answer and explaning is here \\n\\n'"
            ],
            "application/vnd.google.colaboratory.intrinsic+json": {
              "type": "string"
            }
          },
          "metadata": {},
          "execution_count": 40
        }
      ]
    },
    {
      "cell_type": "markdown",
      "source": [
        "Your Friend always chat with you through whatsapp, unforuntely your friend has is not good at writing and make a lot of style mistake in the writing. \n",
        "\n",
        "message from your friend like this \"hi my FRIEND, never think You will Not Invite ME to your DInner, SO ANgry !! \"\n",
        "\n",
        "fix his message and the output should be like that \"Hi my friend, never think you will not invite me to your dinner, so angry!!\" \n",
        "\n",
        "\n",
        "You should use only string methods \"hint one line of code\""
      ],
      "metadata": {
        "id": "RsvH81pmSYkH"
      }
    },
    {
      "cell_type": "code",
      "source": [
        "'''\n",
        "Your Answer and explaning is here \n",
        "\n",
        "'''"
      ],
      "metadata": {
        "id": "uJ89enQBRULz"
      },
      "execution_count": null,
      "outputs": []
    },
    {
      "cell_type": "markdown",
      "source": [
        "Depth of the String: \n",
        "* index and rindex \n",
        "* find and rfind \n",
        "* replace and join \n",
        "* loop and string \n",
        "* The in operator \n",
        "* the ord and unicode\n",
        "* char () ---> by unicode number \n",
        "* count method \n",
        "* startwith , endwith \n",
        "* list to string using join \n",
        "\n",
        "\n",
        "Working with string is one of the most difficult aspects of any programming language , particularly when working with a long string comes from web page.\n",
        "\n",
        "For depth treatment for this subject email me mnemrari@ut.edu.sa \n",
        "Expeceted time to master this topic: 5-12 hours of practice"
      ],
      "metadata": {
        "id": "C_xB8ReATwCC"
      }
    },
    {
      "cell_type": "markdown",
      "source": [
        "# Printing String Formmating \n",
        "* % and format keyword  \n",
        "* f'string' "
      ],
      "metadata": {
        "id": "7y4w6EUiZF31"
      }
    },
    {
      "cell_type": "code",
      "source": [
        "# to print a string using module terms you should use the keyword %s \n",
        "print (\"I am going to tell you now my name, my name is %s.\" %'Mohammed')"
      ],
      "metadata": {
        "colab": {
          "base_uri": "https://localhost:8080/"
        },
        "id": "tVWes9ftRcu4",
        "outputId": "4bb82c21-0bf4-4925-b9b2-0d40adcb6116"
      },
      "execution_count": null,
      "outputs": [
        {
          "output_type": "stream",
          "name": "stdout",
          "text": [
            "I am going to tell you now my name, my name is Mohammed.\n"
          ]
        }
      ]
    },
    {
      "cell_type": "code",
      "source": [
        "# using format method \n",
        "print (\"I am going to tell my name is now, my nams is {}\".format(\"Mohammed\"))"
      ],
      "metadata": {
        "colab": {
          "base_uri": "https://localhost:8080/"
        },
        "id": "94vjBmoWaBfF",
        "outputId": "c0455527-5baa-4433-ad2d-06cf6dcdb496"
      },
      "execution_count": null,
      "outputs": [
        {
          "output_type": "stream",
          "name": "stdout",
          "text": [
            "I am going to tell my name is now, my nams is Mohammed\n"
          ]
        }
      ]
    },
    {
      "cell_type": "code",
      "source": [
        "# different between %s and %r \n",
        "print(\"I am from the best country in the world which is %s\"%'Saudi Arabia')\n",
        "print(\"I am form the best country in the world whihc is %r\"%'Saudi Arabia')"
      ],
      "metadata": {
        "colab": {
          "base_uri": "https://localhost:8080/"
        },
        "id": "0WEBLsu1aUY4",
        "outputId": "ea3e41b1-325d-4b38-b3b0-de4a71226f2b"
      },
      "execution_count": null,
      "outputs": [
        {
          "output_type": "stream",
          "name": "stdout",
          "text": [
            "I am from the best country in the world which is \tSaudi Arabia\n",
            "I am form the best country in the world whihc is '\\tSaudi Arabia'\n"
          ]
        }
      ]
    },
    {
      "cell_type": "code",
      "source": [
        "# more depth \n"
      ],
      "metadata": {
        "id": "AC2VGb2-akZv"
      },
      "execution_count": null,
      "outputs": []
    },
    {
      "cell_type": "code",
      "source": [
        "# difference between %d --> decimal and %s \n",
        "print(\"I have to pay my this amout of %s saudi riylas\"%61000.250)"
      ],
      "metadata": {
        "colab": {
          "base_uri": "https://localhost:8080/"
        },
        "id": "bbCF9Q-Qct00",
        "outputId": "fa3a383c-3df2-41c4-f7bd-6f96011009f2"
      },
      "execution_count": null,
      "outputs": [
        {
          "output_type": "stream",
          "name": "stdout",
          "text": [
            "I have to pay my this amout of 61000.25 saudi riylas\n"
          ]
        }
      ]
    },
    {
      "cell_type": "code",
      "source": [
        "print (\"I have to pay this amount of %d\"%61000.250)"
      ],
      "metadata": {
        "colab": {
          "base_uri": "https://localhost:8080/"
        },
        "id": "4jDh0Mj-dTe5",
        "outputId": "7c0c862c-b69e-4672-c95a-87f17bf73a98"
      },
      "execution_count": null,
      "outputs": [
        {
          "output_type": "stream",
          "name": "stdout",
          "text": [
            "I have to pay this amount of 61000\n"
          ]
        }
      ]
    },
    {
      "cell_type": "code",
      "source": [
        "# using format \n",
        "print(\"I have to pay this amount of {} saudi riylas\".format(61000.250))"
      ],
      "metadata": {
        "colab": {
          "base_uri": "https://localhost:8080/"
        },
        "id": "gcern6KodfYU",
        "outputId": "08cdd7e6-f5b1-4134-87b8-c5b5f540645f"
      },
      "execution_count": null,
      "outputs": [
        {
          "output_type": "stream",
          "name": "stdout",
          "text": [
            "I have to pay this amount of 61000.25 saudi riylas\n"
          ]
        }
      ]
    },
    {
      "cell_type": "code",
      "source": [
        "# let use the floating number you can do this by using %f\n",
        "print (\"the floating number is %7.2f\" %(522.258))"
      ],
      "metadata": {
        "colab": {
          "base_uri": "https://localhost:8080/"
        },
        "id": "_4snERixd9p6",
        "outputId": "8755ad5a-03d3-4326-db1e-894a16185d71"
      },
      "execution_count": null,
      "outputs": [
        {
          "output_type": "stream",
          "name": "stdout",
          "text": [
            "the floating number is  522.26\n"
          ]
        }
      ]
    },
    {
      "cell_type": "code",
      "source": [
        "# the format methos using the index \n",
        "print (\"the name of the animals that live in tabuk region is {1} {0} {2}\".format('horse','falcon','camel'))"
      ],
      "metadata": {
        "colab": {
          "base_uri": "https://localhost:8080/"
        },
        "id": "uWM59bpjhAdC",
        "outputId": "feb0a41c-b6e1-462a-cc42-e216eb11b551"
      },
      "execution_count": null,
      "outputs": [
        {
          "output_type": "stream",
          "name": "stdout",
          "text": [
            "the name of the animals that live in tabuk region is falcon horse camel\n"
          ]
        }
      ]
    },
    {
      "cell_type": "code",
      "source": [
        "print (\"the name of the animals that live in tabuk region is {a} {b} {c}\".format(b='horse',a='falcon',c='camel'))"
      ],
      "metadata": {
        "colab": {
          "base_uri": "https://localhost:8080/"
        },
        "id": "KvAVx8z5i_AH",
        "outputId": "9471de11-d133-4d4c-b61d-b07b858402ea"
      },
      "execution_count": null,
      "outputs": [
        {
          "output_type": "stream",
          "name": "stdout",
          "text": [
            "the name of the animals that live in tabuk region is falcon horse camel\n"
          ]
        }
      ]
    },
    {
      "cell_type": "code",
      "source": [
        "print('{0:12} | {1:5}'.format('Animal', 'Speed'))\n",
        "print('{0:12} | {1:5}'.format('Horse', 90))\n",
        "print('{0:12} | {1:5}'.format('Falcon', 120))"
      ],
      "metadata": {
        "colab": {
          "base_uri": "https://localhost:8080/"
        },
        "id": "YqWJLk6JjPjc",
        "outputId": "37c46ad8-f8b2-471c-bc9e-a265143138f9"
      },
      "execution_count": null,
      "outputs": [
        {
          "output_type": "stream",
          "name": "stdout",
          "text": [
            "Animal       | Speed\n",
            "Horse        |    90\n",
            "Falcon       |   120\n"
          ]
        }
      ]
    },
    {
      "cell_type": "code",
      "source": [
        "print('{0:<8} | {1:^8} | {2:>8}'.format('Left','Center','Right'))\n",
        "print('{0:<8} | {1:^8} | {2:>8}'.format(11,22,33))"
      ],
      "metadata": {
        "colab": {
          "base_uri": "https://localhost:8080/"
        },
        "id": "8cR86XcljqkL",
        "outputId": "08194fd0-8b3b-4b78-97ee-b8c12637a0d8"
      },
      "execution_count": null,
      "outputs": [
        {
          "output_type": "stream",
          "name": "stdout",
          "text": [
            "Left     |  Center  |    Right\n",
            "11       |    22    |       33\n"
          ]
        }
      ]
    },
    {
      "cell_type": "code",
      "source": [
        "# Using Fstring to print \n",
        "name = \"Mohammed\"\n",
        "print(f\"he saying his name is {name},\")"
      ],
      "metadata": {
        "colab": {
          "base_uri": "https://localhost:8080/"
        },
        "id": "qZCbrOKBkIbu",
        "outputId": "f46f9d52-a267-441e-862d-84fc81299b8d"
      },
      "execution_count": null,
      "outputs": [
        {
          "output_type": "stream",
          "name": "stdout",
          "text": [
            "he saying his name is Mohammed,\n"
          ]
        }
      ]
    },
    {
      "cell_type": "code",
      "source": [
        "print(f\"he saying his name is {name!r}\")"
      ],
      "metadata": {
        "colab": {
          "base_uri": "https://localhost:8080/"
        },
        "id": "XJZRORxQlgjK",
        "outputId": "4930fc53-cb3d-44df-988d-be9783d24f37"
      },
      "execution_count": null,
      "outputs": [
        {
          "output_type": "stream",
          "name": "stdout",
          "text": [
            "he saying his name is 'Mohammed'\n"
          ]
        }
      ]
    },
    {
      "cell_type": "code",
      "source": [],
      "metadata": {
        "id": "rPqGC1Hhlzy7"
      },
      "execution_count": null,
      "outputs": []
    }
  ]
}