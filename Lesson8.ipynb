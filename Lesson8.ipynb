{
  "nbformat": 4,
  "nbformat_minor": 0,
  "metadata": {
    "colab": {
      "provenance": [],
      "authorship_tag": "ABX9TyPnT8PAy7BFJmmZ4yZLdIW3",
      "include_colab_link": true
    },
    "kernelspec": {
      "name": "python3",
      "display_name": "Python 3"
    },
    "language_info": {
      "name": "python"
    }
  },
  "cells": [
    {
      "cell_type": "markdown",
      "metadata": {
        "id": "view-in-github",
        "colab_type": "text"
      },
      "source": [
        "<a href=\"https://colab.research.google.com/github/Mohammed-Alnemari/Workshop_Python/blob/main/Lesson8.ipynb\" target=\"_parent\"><img src=\"https://colab.research.google.com/assets/colab-badge.svg\" alt=\"Open In Colab\"/></a>"
      ]
    },
    {
      "cell_type": "markdown",
      "source": [
        "#Loops\n",
        "* For loop \n",
        "* While loop\n",
        "* list comprehnsion \n",
        "* itertools \n"
      ],
      "metadata": {
        "id": "qvIq2SttZZuW"
      }
    },
    {
      "cell_type": "code",
      "execution_count": null,
      "metadata": {
        "colab": {
          "base_uri": "https://localhost:8080/"
        },
        "id": "m8VR83iJZTqC",
        "outputId": "1ad71348-8c87-430a-f18a-1ddd9ac2f26a"
      },
      "outputs": [
        {
          "output_type": "stream",
          "name": "stdout",
          "text": [
            "The sum is 48\n"
          ]
        }
      ],
      "source": [
        "# Program to find the sum of all numbers stored in a list\n",
        "\n",
        "# List of numbers\n",
        "numbers = [6, 5, 3, 8, 4, 2, 5, 4, 11]\n",
        "\n",
        "# variable to store the sum\n",
        "sum = 0\n",
        "\n",
        "# iterate over the list\n",
        "for val in numbers:\n",
        "    sum = sum+val\n",
        "\n",
        "print(\"The sum is\", sum)"
      ]
    },
    {
      "cell_type": "code",
      "source": [
        "print(range(10))\n",
        "\n",
        "print(list(range(10)))\n",
        "\n",
        "print(list(range(2, 8)))\n",
        "\n",
        "print(list(range(2, 20, 3)))"
      ],
      "metadata": {
        "colab": {
          "base_uri": "https://localhost:8080/"
        },
        "id": "y3sNXlvCav2l",
        "outputId": "dab96eb7-5bb6-44b7-bf02-2ba8e61e26df"
      },
      "execution_count": null,
      "outputs": [
        {
          "output_type": "stream",
          "name": "stdout",
          "text": [
            "range(0, 10)\n",
            "[0, 1, 2, 3, 4, 5, 6, 7, 8, 9]\n",
            "[2, 3, 4, 5, 6, 7]\n",
            "[2, 5, 8, 11, 14, 17]\n"
          ]
        }
      ]
    },
    {
      "cell_type": "code",
      "source": [
        "# Program to iterate through a list using indexing\n",
        "\n",
        "genre = ['pop', 'rock', 'jazz']\n",
        "\n",
        "# iterate over the list using index\n",
        "for i in range(len(genre)):\n",
        "    print(\"I like\", genre[i])"
      ],
      "metadata": {
        "colab": {
          "base_uri": "https://localhost:8080/"
        },
        "id": "NUqye7pHazpr",
        "outputId": "aab952d5-7030-4cfd-cef9-9ee3972f610c"
      },
      "execution_count": null,
      "outputs": [
        {
          "output_type": "stream",
          "name": "stdout",
          "text": [
            "I like pop\n",
            "I like rock\n",
            "I like jazz\n"
          ]
        }
      ]
    },
    {
      "cell_type": "code",
      "source": [
        "digits = [0, 1, 5]\n",
        "\n",
        "for i in digits:\n",
        "    print(i)\n",
        "else:\n",
        "    print(\"No items left.\")"
      ],
      "metadata": {
        "colab": {
          "base_uri": "https://localhost:8080/"
        },
        "id": "cS7E3xiga2cd",
        "outputId": "3046d4e0-a611-4d91-cf65-655db07bca77"
      },
      "execution_count": null,
      "outputs": [
        {
          "output_type": "stream",
          "name": "stdout",
          "text": [
            "0\n",
            "1\n",
            "5\n",
            "No items left.\n"
          ]
        }
      ]
    },
    {
      "cell_type": "code",
      "source": [
        "# program to display student's marks from record\n",
        "student_name = 'Ali'\n",
        "\n",
        "marks = {'James': 90, 'Jules': 55, 'Arthur': 77}\n",
        "\n",
        "for student in marks:\n",
        "    if student == student_name:\n",
        "        print(marks[student])\n",
        "        break\n",
        "else:\n",
        "    print('No entry with that name found.')"
      ],
      "metadata": {
        "colab": {
          "base_uri": "https://localhost:8080/"
        },
        "id": "IlKAcs-qa8IK",
        "outputId": "178eb3a8-9ee9-4430-f1e5-f99205ebdc7d"
      },
      "execution_count": null,
      "outputs": [
        {
          "output_type": "stream",
          "name": "stdout",
          "text": [
            "No entry with that name found.\n"
          ]
        }
      ]
    },
    {
      "cell_type": "markdown",
      "source": [
        "# C For Loop \n",
        "\n",
        "```\n",
        "for (i = 1; i <= 10; i++)\n",
        "    <loop body>\n",
        "\n",
        "```\n",
        "\n",
        "\n",
        "\n",
        "# Python For loop  \n",
        "\n",
        "```\n",
        "for <var> in <iterable>:\n",
        "    <statement(s)>\n",
        "```"
      ],
      "metadata": {
        "id": "fP0fZPqAfREu"
      }
    },
    {
      "cell_type": "code",
      "source": [
        "# we can use iter "
      ],
      "metadata": {
        "id": "X1bzSyzZbDmq"
      },
      "execution_count": null,
      "outputs": []
    },
    {
      "cell_type": "code",
      "source": [
        "iter(\"Mohammed\")"
      ],
      "metadata": {
        "colab": {
          "base_uri": "https://localhost:8080/"
        },
        "id": "cQ7t50ivjqU5",
        "outputId": "4fbeebbc-434a-4190-ac43-f55866646185"
      },
      "execution_count": null,
      "outputs": [
        {
          "output_type": "execute_result",
          "data": {
            "text/plain": [
              "<str_iterator at 0x7fa32e2bc250>"
            ]
          },
          "metadata": {},
          "execution_count": 7
        }
      ]
    },
    {
      "cell_type": "code",
      "source": [
        "iter(['foo', 'bar', 'baz'])    "
      ],
      "metadata": {
        "colab": {
          "base_uri": "https://localhost:8080/"
        },
        "id": "LYFRRVKojs6F",
        "outputId": "27342dbd-acd0-4c33-9122-13daf490ddcc"
      },
      "execution_count": null,
      "outputs": [
        {
          "output_type": "execute_result",
          "data": {
            "text/plain": [
              "<list_iterator at 0x7fa32e2b6cd0>"
            ]
          },
          "metadata": {},
          "execution_count": 8
        }
      ]
    },
    {
      "cell_type": "code",
      "source": [
        " iter(('foo', 'bar', 'baz'))"
      ],
      "metadata": {
        "colab": {
          "base_uri": "https://localhost:8080/"
        },
        "id": "STbrPpsmjxJS",
        "outputId": "03463bf5-3bda-48d5-84e0-bb0c887a56c9"
      },
      "execution_count": null,
      "outputs": [
        {
          "output_type": "execute_result",
          "data": {
            "text/plain": [
              "<tuple_iterator at 0x7fa32e2427d0>"
            ]
          },
          "metadata": {},
          "execution_count": 9
        }
      ]
    },
    {
      "cell_type": "code",
      "source": [
        "iter({'foo', 'bar', 'baz'})"
      ],
      "metadata": {
        "colab": {
          "base_uri": "https://localhost:8080/"
        },
        "id": "JtXe8WHkjzze",
        "outputId": "2912b379-e18c-4796-e38a-56d79d01b891"
      },
      "execution_count": null,
      "outputs": [
        {
          "output_type": "execute_result",
          "data": {
            "text/plain": [
              "<set_iterator at 0x7fa32e246190>"
            ]
          },
          "metadata": {},
          "execution_count": 10
        }
      ]
    },
    {
      "cell_type": "code",
      "source": [
        "a = ['cool','hot','warm']"
      ],
      "metadata": {
        "id": "FtEV-S9_j4x9"
      },
      "execution_count": null,
      "outputs": []
    },
    {
      "cell_type": "code",
      "source": [
        "itr = iter(a)"
      ],
      "metadata": {
        "id": "K7WYLZ4gkSUe"
      },
      "execution_count": null,
      "outputs": []
    },
    {
      "cell_type": "code",
      "source": [
        "itr"
      ],
      "metadata": {
        "colab": {
          "base_uri": "https://localhost:8080/"
        },
        "id": "gM_Ffs4ZkUi7",
        "outputId": "4bf4a93d-8b1d-4487-b4a1-80f539b040e8"
      },
      "execution_count": null,
      "outputs": [
        {
          "output_type": "execute_result",
          "data": {
            "text/plain": [
              "<list_iterator at 0x7fa32e76ae90>"
            ]
          },
          "metadata": {},
          "execution_count": 13
        }
      ]
    },
    {
      "cell_type": "code",
      "source": [
        "next(itr)"
      ],
      "metadata": {
        "colab": {
          "base_uri": "https://localhost:8080/",
          "height": 35
        },
        "id": "LuDgUhPCkWES",
        "outputId": "2451bf30-27d6-4937-ffbf-fd006a428e09"
      },
      "execution_count": null,
      "outputs": [
        {
          "output_type": "execute_result",
          "data": {
            "text/plain": [
              "'cool'"
            ],
            "application/vnd.google.colaboratory.intrinsic+json": {
              "type": "string"
            }
          },
          "metadata": {},
          "execution_count": 14
        }
      ]
    },
    {
      "cell_type": "code",
      "source": [
        "next(itr)"
      ],
      "metadata": {
        "colab": {
          "base_uri": "https://localhost:8080/",
          "height": 35
        },
        "id": "qOx45-TBkXzF",
        "outputId": "e621f3c2-119c-4f30-9377-f23b50956da0"
      },
      "execution_count": null,
      "outputs": [
        {
          "output_type": "execute_result",
          "data": {
            "text/plain": [
              "'hot'"
            ],
            "application/vnd.google.colaboratory.intrinsic+json": {
              "type": "string"
            }
          },
          "metadata": {},
          "execution_count": 15
        }
      ]
    },
    {
      "cell_type": "code",
      "source": [
        "next(itr)"
      ],
      "metadata": {
        "colab": {
          "base_uri": "https://localhost:8080/",
          "height": 35
        },
        "id": "Zw-RAm1_kZOL",
        "outputId": "cc0b3ee7-0557-4ec8-9831-1e04cb5fb1c6"
      },
      "execution_count": null,
      "outputs": [
        {
          "output_type": "execute_result",
          "data": {
            "text/plain": [
              "'warm'"
            ],
            "application/vnd.google.colaboratory.intrinsic+json": {
              "type": "string"
            }
          },
          "metadata": {},
          "execution_count": 16
        }
      ]
    },
    {
      "cell_type": "code",
      "source": [
        "next(itr)"
      ],
      "metadata": {
        "colab": {
          "base_uri": "https://localhost:8080/",
          "height": 166
        },
        "id": "r9V28vHPkatt",
        "outputId": "87121bde-0987-464e-eb43-a0b911050ce5"
      },
      "execution_count": null,
      "outputs": [
        {
          "output_type": "error",
          "ename": "StopIteration",
          "evalue": "ignored",
          "traceback": [
            "\u001b[0;31m---------------------------------------------------------------------------\u001b[0m",
            "\u001b[0;31mStopIteration\u001b[0m                             Traceback (most recent call last)",
            "\u001b[0;32m<ipython-input-17-6693cc261707>\u001b[0m in \u001b[0;36m<module>\u001b[0;34m\u001b[0m\n\u001b[0;32m----> 1\u001b[0;31m \u001b[0mnext\u001b[0m\u001b[0;34m(\u001b[0m\u001b[0mitr\u001b[0m\u001b[0;34m)\u001b[0m\u001b[0;34m\u001b[0m\u001b[0;34m\u001b[0m\u001b[0m\n\u001b[0m",
            "\u001b[0;31mStopIteration\u001b[0m: "
          ]
        }
      ]
    },
    {
      "cell_type": "markdown",
      "source": [
        "# Iteration \n",
        "* iterate through list.\n",
        "* iterate through dictionary. \n",
        "* iterate through set.\n",
        "* nested loop "
      ],
      "metadata": {
        "id": "brqKmAGylBR1"
      }
    },
    {
      "cell_type": "code",
      "source": [],
      "metadata": {
        "id": "2FY0ICP-kg4_"
      },
      "execution_count": null,
      "outputs": []
    },
    {
      "cell_type": "code",
      "source": [],
      "metadata": {
        "id": "rqALzSGKluKu"
      },
      "execution_count": null,
      "outputs": []
    },
    {
      "cell_type": "code",
      "source": [],
      "metadata": {
        "id": "6wKwyuY7lt7D"
      },
      "execution_count": null,
      "outputs": []
    },
    {
      "cell_type": "code",
      "source": [],
      "metadata": {
        "id": "e026R0qWltf6"
      },
      "execution_count": null,
      "outputs": []
    },
    {
      "cell_type": "code",
      "source": [],
      "metadata": {
        "id": "6P1TO_jPltQl"
      },
      "execution_count": null,
      "outputs": []
    },
    {
      "cell_type": "code",
      "source": [
        "# \n",
        "\n",
        "\n",
        "X = [[1,2,3],  \n",
        "       [4,5,6],  \n",
        "       [7,8,9]]  \n",
        " \n",
        "Y = [[10,11,12],  \n",
        "      [13,14,15],  \n",
        "      [16,17,18]]  \n",
        " \n",
        "result = [[0,0,0],  \n",
        "               [0,0,0],  \n",
        "              [0,0,0]]  \n",
        " \n",
        "# iterate through rows of X  \n",
        "for i in range(len(X)):  \n",
        "   for j in range(len(Y[0])):  \n",
        "       for k in range(len(Y)):  \n",
        "           result[i][j] += X[i][k] * Y[k][j]  \n",
        "for r in result:  \n",
        "   print(r)  "
      ],
      "metadata": {
        "id": "Z13JDO4lltLu"
      },
      "execution_count": null,
      "outputs": []
    },
    {
      "cell_type": "markdown",
      "source": [
        "# Quiz For loop ..\n"
      ],
      "metadata": {
        "id": "PBdngGafnJfQ"
      }
    },
    {
      "cell_type": "code",
      "source": [
        "# While loop terminate when the condition of the loop is wrong\n",
        "x=10\n",
        "while x > 5:\n",
        "  x -=1\n",
        "  print(x)\n"
      ],
      "metadata": {
        "id": "0SNAfpGanIGw",
        "colab": {
          "base_uri": "https://localhost:8080/"
        },
        "outputId": "92b4ab5b-3ccb-422a-9d2a-5f2a04afef40"
      },
      "execution_count": 18,
      "outputs": [
        {
          "output_type": "stream",
          "name": "stdout",
          "text": [
            "9\n",
            "8\n",
            "7\n",
            "6\n",
            "5\n"
          ]
        }
      ]
    },
    {
      "cell_type": "code",
      "source": [
        "x = 10 \n",
        "while x > 5:\n",
        "  x -=1\n",
        "  if x == 7:\n",
        "    break\n",
        "  print(x)"
      ],
      "metadata": {
        "colab": {
          "base_uri": "https://localhost:8080/"
        },
        "id": "hHWBhp2kusiy",
        "outputId": "3c9d03e2-d621-4730-9c23-f29b3e2ac414"
      },
      "execution_count": 31,
      "outputs": [
        {
          "output_type": "stream",
          "name": "stdout",
          "text": [
            "9\n",
            "8\n"
          ]
        }
      ]
    },
    {
      "cell_type": "code",
      "source": [
        "x = 10 \n",
        "while x > 5:\n",
        "  x -=1\n",
        "  if x == 7 :\n",
        "    continue\n",
        "  print(x)\n"
      ],
      "metadata": {
        "colab": {
          "base_uri": "https://localhost:8080/"
        },
        "id": "vKiPxHAGu_U1",
        "outputId": "ec0fbc0b-0761-4a38-83c5-768975663ea3"
      },
      "execution_count": 32,
      "outputs": [
        {
          "output_type": "stream",
          "name": "stdout",
          "text": [
            "9\n",
            "8\n",
            "6\n",
            "5\n"
          ]
        }
      ]
    },
    {
      "cell_type": "code",
      "source": [
        "# List comprehension"
      ],
      "metadata": {
        "id": "xyiApxdOvSSJ"
      },
      "execution_count": null,
      "outputs": []
    }
  ]
}