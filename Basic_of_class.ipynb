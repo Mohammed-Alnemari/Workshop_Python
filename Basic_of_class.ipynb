{
  "nbformat": 4,
  "nbformat_minor": 0,
  "metadata": {
    "colab": {
      "provenance": [],
      "authorship_tag": "ABX9TyPJ6oXJXdbOzhyZ22QlGU/g",
      "include_colab_link": true
    },
    "kernelspec": {
      "name": "python3",
      "display_name": "Python 3"
    },
    "language_info": {
      "name": "python"
    }
  },
  "cells": [
    {
      "cell_type": "markdown",
      "metadata": {
        "id": "view-in-github",
        "colab_type": "text"
      },
      "source": [
        "<a href=\"https://colab.research.google.com/github/Mohammed-Alnemari/Workshop_Python/blob/main/Basic_of_class.ipynb\" target=\"_parent\"><img src=\"https://colab.research.google.com/assets/colab-badge.svg\" alt=\"Open In Colab\"/></a>"
      ]
    },
    {
      "cell_type": "markdown",
      "source": [
        "# Define the class \n",
        "* all python objects are subclass of a common paranet. \n",
        "* how init() works \n",
        "* desgin --> init to use a fatctory function , push init() to each indidual subclass\n",
        "* staclass object --> no sophistacted init\n"
      ],
      "metadata": {
        "id": "U4a3vSwFGp9O"
      }
    },
    {
      "cell_type": "code",
      "source": [
        "class X:\n",
        "  pass"
      ],
      "metadata": {
        "id": "KAk3S9Nno7_1"
      },
      "execution_count": null,
      "outputs": []
    },
    {
      "cell_type": "code",
      "source": [
        "X.__class__"
      ],
      "metadata": {
        "colab": {
          "base_uri": "https://localhost:8080/"
        },
        "id": "lobqIIBEo-yA",
        "outputId": "4e5ef18c-813c-464c-b3ea-4580070d51eb"
      },
      "execution_count": null,
      "outputs": [
        {
          "output_type": "execute_result",
          "data": {
            "text/plain": [
              "type"
            ]
          },
          "metadata": {},
          "execution_count": 20
        }
      ]
    },
    {
      "cell_type": "code",
      "source": [
        "X.__class__.__base__"
      ],
      "metadata": {
        "colab": {
          "base_uri": "https://localhost:8080/"
        },
        "id": "FMIelTcUo_Bx",
        "outputId": "2e491d0b-6dc8-4db9-85e5-835ca8e403a4"
      },
      "execution_count": null,
      "outputs": [
        {
          "output_type": "execute_result",
          "data": {
            "text/plain": [
              "object"
            ]
          },
          "metadata": {},
          "execution_count": 21
        }
      ]
    },
    {
      "cell_type": "markdown",
      "source": [
        "# OBject >> Creation , Initalization, Destruction \n"
      ],
      "metadata": {
        "id": "9t-lRXmmpVtz"
      }
    },
    {
      "cell_type": "code",
      "source": [
        "class Rectangle:\n",
        "  def area(self) -> float:\n",
        "    return self.height * self.width"
      ],
      "metadata": {
        "id": "ONXYMnkFo_Fv"
      },
      "execution_count": null,
      "outputs": []
    },
    {
      "cell_type": "code",
      "source": [
        "r1 = Rectangle()"
      ],
      "metadata": {
        "id": "FZBjMOUWo_Jo"
      },
      "execution_count": null,
      "outputs": []
    },
    {
      "cell_type": "code",
      "source": [
        "r1.height , r1.width = 5,3"
      ],
      "metadata": {
        "id": "3j1qUq-4o_Mc"
      },
      "execution_count": null,
      "outputs": []
    },
    {
      "cell_type": "code",
      "source": [
        "r1.area()"
      ],
      "metadata": {
        "colab": {
          "base_uri": "https://localhost:8080/"
        },
        "id": "-wBfSoh5o_PA",
        "outputId": "4e5f4988-51ef-4a20-91c4-24c0a9bfc75f"
      },
      "execution_count": null,
      "outputs": [
        {
          "output_type": "execute_result",
          "data": {
            "text/plain": [
              "15"
            ]
          },
          "metadata": {},
          "execution_count": 32
        }
      ]
    },
    {
      "cell_type": "markdown",
      "source": [
        "# implementing ___init__() method. \n",
        "* Object created ---> Python creates an empty obkect and call __init__() to\n",
        "set the state of new object . "
      ],
      "metadata": {
        "id": "FPMp_PVSqmXE"
      }
    },
    {
      "cell_type": "code",
      "source": [
        "from typing import Tuple\n",
        "\n",
        "class Card:\n",
        "  def __init__(self,rank:str,suit:str)-> None:\n",
        "    self.suit = suit\n",
        "    self.rank = rank \n",
        "  def __points(self) -> Tuple[int,int]:\n",
        "    return int(self.rank),int(self.rank)\n",
        "\n",
        "\n",
        "class FaceCard(Card):\n",
        "  def __points(self) -> Tuple[int,int]:\n",
        "    return 1,11\n",
        "class AceCard(Card):\n",
        "  def __point(self) -> Tuple[int,int]:\n",
        "    return 10,10"
      ],
      "metadata": {
        "id": "sbTLAChJo_SR"
      },
      "execution_count": null,
      "outputs": []
    },
    {
      "cell_type": "code",
      "source": [
        "from enum import Enum\n",
        "class Suit(str,Enum):\n",
        "  Club = \"\"\n",
        "  Diamond = \"\"\n",
        "  Heart = \"\"\n",
        "  Spade = \"\"\n"
      ],
      "metadata": {
        "id": "3_5v9uTfo_VR"
      },
      "execution_count": null,
      "outputs": []
    },
    {
      "cell_type": "code",
      "source": [],
      "metadata": {
        "id": "769JLhbnuL9r"
      },
      "execution_count": null,
      "outputs": []
    },
    {
      "cell_type": "code",
      "source": [
        "Suit.Heart.value"
      ],
      "metadata": {
        "colab": {
          "base_uri": "https://localhost:8080/",
          "height": 35
        },
        "id": "_PPwG1kio_Yd",
        "outputId": "2e9bdc10-5328-4853-ad9e-0cd4944e04ce"
      },
      "execution_count": null,
      "outputs": [
        {
          "output_type": "execute_result",
          "data": {
            "text/plain": [
              "''"
            ],
            "application/vnd.google.colaboratory.intrinsic+json": {
              "type": "string"
            }
          },
          "metadata": {},
          "execution_count": 37
        }
      ]
    },
    {
      "cell_type": "code",
      "execution_count": null,
      "metadata": {
        "id": "Zbl92sbPF-Xt"
      },
      "outputs": [],
      "source": [
        "class Empolyee():\n",
        "  pass"
      ]
    },
    {
      "cell_type": "markdown",
      "source": [
        "# Define the Object of Class"
      ],
      "metadata": {
        "id": "p6xcXUdvGuf8"
      }
    },
    {
      "cell_type": "code",
      "source": [
        "emp1 = Empolyee()\n",
        "emp2 = Empolyee()"
      ],
      "metadata": {
        "id": "Jl0kIc3eGaFc"
      },
      "execution_count": null,
      "outputs": []
    },
    {
      "cell_type": "code",
      "source": [
        "print(emp1)\n",
        "print(emp2)"
      ],
      "metadata": {
        "colab": {
          "base_uri": "https://localhost:8080/"
        },
        "id": "piMItsWPGgVD",
        "outputId": "79dc6548-a206-4544-db26-b108bb7c2da3"
      },
      "execution_count": null,
      "outputs": [
        {
          "output_type": "stream",
          "name": "stdout",
          "text": [
            "<__main__.Empolyee object at 0x7f5e803b9bd0>\n",
            "<__main__.Empolyee object at 0x7f5e8041ce50>\n"
          ]
        }
      ]
    },
    {
      "cell_type": "code",
      "source": [
        "emp1.first_name = \"Mohammed\"\n",
        "emp1.last_name = \"Alnemri\"\n",
        "emp1.email = \"X@pomx.com\"\n",
        "emp1.pay = 4000"
      ],
      "metadata": {
        "id": "wl7qrvi0GiNq"
      },
      "execution_count": null,
      "outputs": []
    },
    {
      "cell_type": "code",
      "source": [
        "emp2.first_name = \"Test\"\n",
        "emp2.last_name = \"User\"\n",
        "emp2.email = \"test@pomx.com\"\n",
        "emp2.pay = 5000"
      ],
      "metadata": {
        "id": "V8u1z7gnHWA7"
      },
      "execution_count": null,
      "outputs": []
    },
    {
      "cell_type": "code",
      "source": [
        "print(emp1.first_name)\n",
        "print(emp2.last_name)"
      ],
      "metadata": {
        "colab": {
          "base_uri": "https://localhost:8080/"
        },
        "id": "PTZhkK2XHdWz",
        "outputId": "d0159d45-ab8c-46a2-c47d-e88e27191a0b"
      },
      "execution_count": null,
      "outputs": [
        {
          "output_type": "stream",
          "name": "stdout",
          "text": [
            "Mohammed\n",
            "User\n"
          ]
        }
      ]
    },
    {
      "cell_type": "code",
      "source": [
        "class Empolyee():\n",
        "  def __init__(self,first_name,last_name,pay):\n",
        "    self.first_name = first_name\n",
        "    self.last_name = last_name \n",
        "    self.pay = pay \n",
        "    self.email = first_name+\"_\"+last_name+ '@pomx.com'"
      ],
      "metadata": {
        "id": "osQ-WMKGH1YL"
      },
      "execution_count": null,
      "outputs": []
    },
    {
      "cell_type": "code",
      "source": [
        "emp1 = Empolyee(\"Mohammed\",\"Alneamri\",500)"
      ],
      "metadata": {
        "id": "1vLJUxHcdK-6"
      },
      "execution_count": null,
      "outputs": []
    },
    {
      "cell_type": "code",
      "source": [
        "emp1.email"
      ],
      "metadata": {
        "colab": {
          "base_uri": "https://localhost:8080/",
          "height": 35
        },
        "id": "2rh-AbgFdioB",
        "outputId": "ae8d2e01-36e0-4774-d5a7-8dc2a2192577"
      },
      "execution_count": null,
      "outputs": [
        {
          "output_type": "execute_result",
          "data": {
            "text/plain": [
              "'Mohammed_Alneamri@pomx.com'"
            ],
            "application/vnd.google.colaboratory.intrinsic+json": {
              "type": "string"
            }
          },
          "metadata": {},
          "execution_count": 4
        }
      ]
    },
    {
      "cell_type": "code",
      "source": [
        "print('{} {}'.format(emp1.first_name,emp1.last_name))"
      ],
      "metadata": {
        "colab": {
          "base_uri": "https://localhost:8080/"
        },
        "id": "UsYKkvnodkw-",
        "outputId": "86ba23ac-bc93-45a0-d087-769a51dc4dd0"
      },
      "execution_count": null,
      "outputs": [
        {
          "output_type": "stream",
          "name": "stdout",
          "text": [
            "Mohammed Alneamri\n"
          ]
        }
      ]
    },
    {
      "cell_type": "code",
      "source": [
        "class Empolyee():\n",
        "  def __init__(self,first_name,last_name,pay):\n",
        "    self.first_name = first_name\n",
        "    self.last_name = last_name \n",
        "    self.pay = pay \n",
        "    self.email = first_name+\"_\"+last_name+ '@pomx.com'\n",
        "\n",
        "  def fullname():\n",
        "    return ('{} {}'.format(emp1.first_name,emp1.last_name))"
      ],
      "metadata": {
        "id": "cpmeJYntd2Hp"
      },
      "execution_count": null,
      "outputs": []
    },
    {
      "cell_type": "code",
      "source": [
        "emp2 = Empolyee(\"USER\",\"X\",9000)"
      ],
      "metadata": {
        "id": "2mZma6lxeNVI"
      },
      "execution_count": null,
      "outputs": []
    },
    {
      "cell_type": "code",
      "source": [
        "emp2.fullname"
      ],
      "metadata": {
        "colab": {
          "base_uri": "https://localhost:8080/"
        },
        "id": "TIgQG7cueUJk",
        "outputId": "290f39fd-5717-4725-db5e-85abec1dc77c"
      },
      "execution_count": null,
      "outputs": [
        {
          "output_type": "execute_result",
          "data": {
            "text/plain": [
              "<bound method Empolyee.fullname of <__main__.Empolyee object at 0x7f72ebed50d0>>"
            ]
          },
          "metadata": {},
          "execution_count": 11
        }
      ]
    },
    {
      "cell_type": "code",
      "source": [
        "emp2.fullname()"
      ],
      "metadata": {
        "colab": {
          "base_uri": "https://localhost:8080/",
          "height": 166
        },
        "id": "yZgI3iQ2eWRD",
        "outputId": "310253ab-9ffc-4a99-ac91-7ed4344e768c"
      },
      "execution_count": null,
      "outputs": [
        {
          "output_type": "error",
          "ename": "TypeError",
          "evalue": "ignored",
          "traceback": [
            "\u001b[0;31m---------------------------------------------------------------------------\u001b[0m",
            "\u001b[0;31mTypeError\u001b[0m                                 Traceback (most recent call last)",
            "\u001b[0;32m<ipython-input-12-9faac26cbd62>\u001b[0m in \u001b[0;36m<module>\u001b[0;34m\u001b[0m\n\u001b[0;32m----> 1\u001b[0;31m \u001b[0memp2\u001b[0m\u001b[0;34m.\u001b[0m\u001b[0mfullname\u001b[0m\u001b[0;34m(\u001b[0m\u001b[0;34m)\u001b[0m\u001b[0;34m\u001b[0m\u001b[0;34m\u001b[0m\u001b[0m\n\u001b[0m",
            "\u001b[0;31mTypeError\u001b[0m: fullname() takes 0 positional arguments but 1 was given"
          ]
        }
      ]
    },
    {
      "cell_type": "code",
      "source": [
        "class Empolyee():\n",
        "  def __init__(self,first_name,last_name,pay):\n",
        "    self.first_name = first_name\n",
        "    self.last_name = last_name \n",
        "    self.pay = pay \n",
        "    self.email = first_name+\"_\"+last_name+ '@pomx.com'\n",
        "\n",
        "  def fullname(self):\n",
        "    return ('{} {}'.format(self.first_name,self.last_name))"
      ],
      "metadata": {
        "id": "Z3up1ec6eY0R"
      },
      "execution_count": null,
      "outputs": []
    },
    {
      "cell_type": "code",
      "source": [
        "emp2 = Empolyee(\"USER\",\"X\",9000)"
      ],
      "metadata": {
        "id": "2frP_DdMeoZ_"
      },
      "execution_count": null,
      "outputs": []
    },
    {
      "cell_type": "code",
      "source": [
        "emp2.fullname()"
      ],
      "metadata": {
        "colab": {
          "base_uri": "https://localhost:8080/",
          "height": 35
        },
        "id": "bg74h7d1ej5B",
        "outputId": "9e430e00-ad6d-4e2b-bc30-dec30de38659"
      },
      "execution_count": null,
      "outputs": [
        {
          "output_type": "execute_result",
          "data": {
            "text/plain": [
              "'USER X'"
            ],
            "application/vnd.google.colaboratory.intrinsic+json": {
              "type": "string"
            }
          },
          "metadata": {},
          "execution_count": 16
        }
      ]
    },
    {
      "cell_type": "code",
      "source": [
        "Empolyee.fullname(emp2)"
      ],
      "metadata": {
        "colab": {
          "base_uri": "https://localhost:8080/",
          "height": 35
        },
        "id": "gNOcDrGbel3J",
        "outputId": "5b2a2095-91d7-4582-b8bf-c8fc35f5ab24"
      },
      "execution_count": null,
      "outputs": [
        {
          "output_type": "execute_result",
          "data": {
            "text/plain": [
              "'USER X'"
            ],
            "application/vnd.google.colaboratory.intrinsic+json": {
              "type": "string"
            }
          },
          "metadata": {},
          "execution_count": 18
        }
      ]
    },
    {
      "cell_type": "markdown",
      "source": [
        "# Class Variables\n",
        "* share between all object of a class \n"
      ],
      "metadata": {
        "id": "F0gfohIpvFNk"
      }
    },
    {
      "cell_type": "code",
      "source": [
        "# Class var defined outside of  a calsss \n",
        "# raise for example --> can be different for different  \n",
        "class Empolyee():\n",
        "  def __init__(self,first_name,last_name,pay):\n",
        "    self.first_name = first_name\n",
        "    self.last_name = last_name \n",
        "    self.pay = pay \n",
        "    self.email = first_name+\"_\"+last_name+ '@pomx.com'\n",
        "\n",
        "  def fullname(self):\n",
        "    return ('{} {}'.format(self.first_name,self.last_name))\n",
        "\n",
        "  def raise_amount(self):\n",
        "    return self.pay * 1.05"
      ],
      "metadata": {
        "id": "2rPfFj8ve-AH"
      },
      "execution_count": null,
      "outputs": []
    },
    {
      "cell_type": "code",
      "source": [
        "emp3 = Empolyee(\"Mohammed\",\"Fooa\",6500)"
      ],
      "metadata": {
        "id": "NDt_bXHqzFrp"
      },
      "execution_count": null,
      "outputs": []
    },
    {
      "cell_type": "code",
      "source": [
        "emp3.raise_amount()"
      ],
      "metadata": {
        "colab": {
          "base_uri": "https://localhost:8080/"
        },
        "id": "UVffIl7zzL91",
        "outputId": "88291653-b135-48f4-d3cb-c4cffcd21252"
      },
      "execution_count": null,
      "outputs": [
        {
          "output_type": "execute_result",
          "data": {
            "text/plain": [
              "6825.0"
            ]
          },
          "metadata": {},
          "execution_count": 45
        }
      ]
    },
    {
      "cell_type": "code",
      "source": [
        "class Empolyee():\n",
        "  Amount = 1.05\n",
        "  def __init__(self,first_name,last_name,pay):\n",
        "    self.first_name = first_name\n",
        "    self.last_name = last_name \n",
        "    self.pay = pay \n",
        "    self.email = first_name+\"_\"+last_name+ '@pomx.com'\n",
        "\n",
        "  def fullname(self):\n",
        "    return ('{} {}'.format(self.first_name,self.last_name))\n",
        "\n",
        "  def raise_amount(self):\n",
        "    return self.pay * Empolyee.Amount"
      ],
      "metadata": {
        "id": "gr4X8wWYzPQw"
      },
      "execution_count": null,
      "outputs": []
    },
    {
      "cell_type": "code",
      "source": [
        "emp1 = Empolyee(\"Alaa\",\"Jason\",5000)\n",
        "emp2 = Empolyee(\"Abduall\",\"Khaled\",4000)\n",
        "emp3 = Empolyee(\"Mohammed\",\"Fooa\",6500)"
      ],
      "metadata": {
        "id": "onA5l9mozgnb"
      },
      "execution_count": null,
      "outputs": []
    },
    {
      "cell_type": "code",
      "source": [
        "print(emp1.__dict__)"
      ],
      "metadata": {
        "colab": {
          "base_uri": "https://localhost:8080/"
        },
        "id": "K2ejZ-j7ztiu",
        "outputId": "26d23501-e1c3-4310-b753-978fc8354740"
      },
      "execution_count": null,
      "outputs": [
        {
          "output_type": "stream",
          "name": "stdout",
          "text": [
            "{'first_name': 'Alaa', 'last_name': 'Jason', 'pay': 5000, 'email': 'Alaa_Jason@pomx.com'}\n"
          ]
        }
      ]
    },
    {
      "cell_type": "code",
      "source": [
        "emp1.raise_amount()"
      ],
      "metadata": {
        "colab": {
          "base_uri": "https://localhost:8080/"
        },
        "id": "bUmXoC32zyF6",
        "outputId": "3dbe401b-afef-4d42-f013-3df57895b873"
      },
      "execution_count": null,
      "outputs": [
        {
          "output_type": "execute_result",
          "data": {
            "text/plain": [
              "5250.0"
            ]
          },
          "metadata": {},
          "execution_count": 52
        }
      ]
    },
    {
      "cell_type": "code",
      "source": [
        "print(emp1.__dict__)"
      ],
      "metadata": {
        "colab": {
          "base_uri": "https://localhost:8080/"
        },
        "id": "FTrTRLr7z2Y4",
        "outputId": "6e2f8202-bc35-46b5-e2bc-60a63850bce8"
      },
      "execution_count": null,
      "outputs": [
        {
          "output_type": "stream",
          "name": "stdout",
          "text": [
            "{'first_name': 'Alaa', 'last_name': 'Jason', 'pay': 5000, 'email': 'Alaa_Jason@pomx.com'}\n"
          ]
        }
      ]
    },
    {
      "cell_type": "code",
      "source": [
        "print(Empolyee.__dict__)"
      ],
      "metadata": {
        "colab": {
          "base_uri": "https://localhost:8080/"
        },
        "id": "2x64s9SX0KBA",
        "outputId": "d6d031ce-68f9-481a-d2ee-75fdced13f20"
      },
      "execution_count": null,
      "outputs": [
        {
          "output_type": "stream",
          "name": "stdout",
          "text": [
            "{'__module__': '__main__', 'Amount': 1.05, '__init__': <function Empolyee.__init__ at 0x7f72e467b710>, 'fullname': <function Empolyee.fullname at 0x7f72e467b320>, 'raise_amount': <function Empolyee.raise_amount at 0x7f72e467b7a0>, '__dict__': <attribute '__dict__' of 'Empolyee' objects>, '__weakref__': <attribute '__weakref__' of 'Empolyee' objects>, '__doc__': None}\n"
          ]
        }
      ]
    },
    {
      "cell_type": "code",
      "source": [
        "print(emp1.Amount)"
      ],
      "metadata": {
        "colab": {
          "base_uri": "https://localhost:8080/"
        },
        "id": "SF7m2Ux00ONV",
        "outputId": "eead3616-634e-49a2-c154-2e806b24ae2c"
      },
      "execution_count": null,
      "outputs": [
        {
          "output_type": "stream",
          "name": "stdout",
          "text": [
            "1.05\n"
          ]
        }
      ]
    },
    {
      "cell_type": "code",
      "source": [
        "print(emp2.Amount)"
      ],
      "metadata": {
        "colab": {
          "base_uri": "https://localhost:8080/"
        },
        "id": "3LvwJBDy0ahY",
        "outputId": "818a33b1-6789-48a5-fa86-20e25e113cf4"
      },
      "execution_count": null,
      "outputs": [
        {
          "output_type": "stream",
          "name": "stdout",
          "text": [
            "1.05\n"
          ]
        }
      ]
    },
    {
      "cell_type": "code",
      "source": [
        "print(emp3.Amount)"
      ],
      "metadata": {
        "colab": {
          "base_uri": "https://localhost:8080/"
        },
        "id": "Kf-S0Wvn0dZ0",
        "outputId": "84a5b1bc-bdd1-4302-e376-6b7a07794f4d"
      },
      "execution_count": null,
      "outputs": [
        {
          "output_type": "stream",
          "name": "stdout",
          "text": [
            "1.05\n"
          ]
        }
      ]
    },
    {
      "cell_type": "code",
      "source": [
        "emp1.Amount = 1.09"
      ],
      "metadata": {
        "id": "Dr9OksNH0gWg"
      },
      "execution_count": null,
      "outputs": []
    },
    {
      "cell_type": "code",
      "source": [
        "print(emp1.Amount)"
      ],
      "metadata": {
        "colab": {
          "base_uri": "https://localhost:8080/"
        },
        "id": "sV9CjR6-0lD4",
        "outputId": "11581cb6-4064-4ff4-9dac-90ff3cf9bb8a"
      },
      "execution_count": null,
      "outputs": [
        {
          "output_type": "stream",
          "name": "stdout",
          "text": [
            "1.09\n"
          ]
        }
      ]
    },
    {
      "cell_type": "code",
      "source": [
        "print(emp1.raise_amount())"
      ],
      "metadata": {
        "colab": {
          "base_uri": "https://localhost:8080/"
        },
        "id": "W-3sygAm0nRf",
        "outputId": "cdc9021a-313b-4b61-990e-f682ef0da1f9"
      },
      "execution_count": null,
      "outputs": [
        {
          "output_type": "stream",
          "name": "stdout",
          "text": [
            "5250.0\n"
          ]
        }
      ]
    },
    {
      "cell_type": "code",
      "source": [
        "class Empolyee():\n",
        "  AMOUNT = 1.05\n",
        "  def __init__(self,first_name,last_name,pay):\n",
        "    self.first_name = first_name\n",
        "    self.last_name = last_name \n",
        "    self.pay = pay \n",
        "    self.email = first_name+\"_\"+last_name+ '@pomx.com'\n",
        "\n",
        "  def fullname(self):\n",
        "    return ('{} {}'.format(self.first_name,self.last_name))\n",
        "\n",
        "  def raise_amount(self):\n",
        "    return self.pay * self.AMOUNT"
      ],
      "metadata": {
        "id": "yYAXPvkO0rPY"
      },
      "execution_count": null,
      "outputs": []
    },
    {
      "cell_type": "code",
      "source": [
        "emp1 = Empolyee(\"Alaa\",\"Jason\",5000)\n",
        "emp2 = Empolyee(\"Abduall\",\"Khaled\",4000)\n",
        "emp3 = Empolyee(\"Mohammed\",\"Fooa\",6500)"
      ],
      "metadata": {
        "id": "m99DvCjt1CWg"
      },
      "execution_count": null,
      "outputs": []
    },
    {
      "cell_type": "code",
      "source": [
        "print(emp1.Amount)\n",
        "print(emp2.Amount)\n",
        "print(emp3.Amount)"
      ],
      "metadata": {
        "colab": {
          "base_uri": "https://localhost:8080/"
        },
        "id": "bJlB_4jQ029e",
        "outputId": "ea3f8137-07a7-4275-cef5-055793bf46d3"
      },
      "execution_count": null,
      "outputs": [
        {
          "output_type": "stream",
          "name": "stdout",
          "text": [
            "1.05\n",
            "1.05\n",
            "1.05\n"
          ]
        }
      ]
    },
    {
      "cell_type": "code",
      "source": [
        "print(emp1.raise_amount())\n",
        "print(emp2.raise_amount())\n",
        "print(emp3.raise_amount())"
      ],
      "metadata": {
        "colab": {
          "base_uri": "https://localhost:8080/"
        },
        "id": "Oe4zMv371Agn",
        "outputId": "9c8dcbd9-2912-4a9b-c994-6e39d7aa98d0"
      },
      "execution_count": null,
      "outputs": [
        {
          "output_type": "stream",
          "name": "stdout",
          "text": [
            "5250.0\n",
            "4200.0\n",
            "6825.0\n"
          ]
        }
      ]
    },
    {
      "cell_type": "code",
      "source": [
        "emp1.Amount = 1.09"
      ],
      "metadata": {
        "id": "W4zJHrbs1MjF"
      },
      "execution_count": null,
      "outputs": []
    },
    {
      "cell_type": "code",
      "source": [
        "print(emp1.raise_amount())\n",
        "print(emp2.raise_amount())\n",
        "print(emp3.raise_amount())"
      ],
      "metadata": {
        "colab": {
          "base_uri": "https://localhost:8080/"
        },
        "id": "pEmjhtXq1c74",
        "outputId": "e4b0d9d0-078f-4960-fdf6-2f76e1e796e4"
      },
      "execution_count": null,
      "outputs": [
        {
          "output_type": "stream",
          "name": "stdout",
          "text": [
            "5450.0\n",
            "4200.0\n",
            "6825.0\n"
          ]
        }
      ]
    },
    {
      "cell_type": "code",
      "source": [
        "class Empolyee():\n",
        "  AMOUNT = 1.05\n",
        "  EMPOLYEE_NUMBER = 0\n",
        "  def __init__(self,first_name,last_name,pay):\n",
        "    self.first_name = first_name\n",
        "    self.last_name = last_name \n",
        "    self.pay = pay \n",
        "    self.email = first_name+\"_\"+last_name+ '@pomx.com'\n",
        "    Empolyee.EMPOLYEE_NUMBER += 1 \n",
        "\n",
        "  def fullname(self):\n",
        "    return ('{} {}'.format(self.first_name,self.last_name))\n",
        "\n",
        "  def raise_amount(self):\n",
        "    self.pay = int(self.pay * self.AMOUNT)"
      ],
      "metadata": {
        "id": "IYEfBG8O1edG"
      },
      "execution_count": null,
      "outputs": []
    },
    {
      "cell_type": "code",
      "source": [
        "print(Empolyee.EMPOLYEE_NUMBER)\n",
        "emp1 = Empolyee(\"Alaa\",\"Jason\",5000)\n",
        "emp2 = Empolyee(\"Abduall\",\"Khaled\",4000)\n",
        "emp3 = Empolyee(\"Mohammed\",\"Fooa\",6500)\n",
        "print(Empolyee.EMPOLYEE_NUMBER)\n"
      ],
      "metadata": {
        "colab": {
          "base_uri": "https://localhost:8080/"
        },
        "id": "UAJUSYjh2Kyj",
        "outputId": "454a3257-15ad-4a40-b7c8-5b1c14e66a23"
      },
      "execution_count": null,
      "outputs": [
        {
          "output_type": "stream",
          "name": "stdout",
          "text": [
            "0\n",
            "3\n"
          ]
        }
      ]
    },
    {
      "cell_type": "markdown",
      "source": [
        "# InstanceMethod vs ClassMethod VS StaticMethod\n",
        "* what is the instanceMethod (Regular Method.) \n",
        "* what is the classmethod .\n",
        "* what is the staticmethod .\n",
        "* what is the decorator."
      ],
      "metadata": {
        "id": "TzyA804l2k0l"
      }
    },
    {
      "cell_type": "code",
      "source": [
        "class Empolyee():\n",
        "  AMOUNT = 1.05\n",
        "  EMPOLYEE_NUMBER = 0\n",
        "  def __init__(self,first_name,last_name,pay):\n",
        "    self.first_name = first_name\n",
        "    self.last_name = last_name \n",
        "    self.pay = pay \n",
        "    self.email = first_name+\"_\"+last_name+ '@pomx.com'\n",
        "\n",
        "\n",
        "    Empolyee.EMPOLYEE_NUMBER += 1 \n",
        "\n",
        "  def fullname(self):\n",
        "    return ('{} {}'.format(self.first_name,self.last_name))\n",
        "\n",
        "  def raise_amount(self):\n",
        "    self.pay = int(self.pay * self.AMOUNT)\n",
        "  \n",
        "  @classmethod\n",
        "  def set_raise_amount(cls,amount):\n",
        "    pass\n"
      ],
      "metadata": {
        "id": "chd9HEP72kAP"
      },
      "execution_count": null,
      "outputs": []
    },
    {
      "cell_type": "code",
      "source": [
        "emp1 = Empolyee(\"Alaa\",\"Jason\",5000)\n",
        "emp2 = Empolyee(\"Abduall\",\"Khaled\",4000)\n",
        "emp3 = Empolyee(\"Mohammed\",\"Fooa\",6500)"
      ],
      "metadata": {
        "id": "umWgccoI2afJ"
      },
      "execution_count": null,
      "outputs": []
    },
    {
      "cell_type": "code",
      "source": [
        "print(Empolyee.AMOUNT)\n",
        "print(emp1.AMOUNT)\n",
        "print(emp2.AMOUNT)"
      ],
      "metadata": {
        "colab": {
          "base_uri": "https://localhost:8080/"
        },
        "id": "4voCdYTBeGUC",
        "outputId": "fed7180f-289c-4070-a0b4-a8884b3354d1"
      },
      "execution_count": null,
      "outputs": [
        {
          "output_type": "stream",
          "name": "stdout",
          "text": [
            "1.05\n",
            "1.05\n",
            "1.05\n"
          ]
        }
      ]
    },
    {
      "cell_type": "code",
      "source": [
        "Empolyee.set_raise_amount(1.09)"
      ],
      "metadata": {
        "id": "8CshN1o3ePSD"
      },
      "execution_count": null,
      "outputs": []
    },
    {
      "cell_type": "code",
      "source": [
        "print(Empolyee.AMOUNT)\n",
        "print(emp1.AMOUNT)\n",
        "print(emp2.AMOUNT)"
      ],
      "metadata": {
        "colab": {
          "base_uri": "https://localhost:8080/"
        },
        "id": "X62TKRhIfqXr",
        "outputId": "ef1ffac3-2d55-4c8d-e342-1a014fab97b2"
      },
      "execution_count": null,
      "outputs": [
        {
          "output_type": "stream",
          "name": "stdout",
          "text": [
            "1.05\n",
            "1.05\n",
            "1.05\n"
          ]
        }
      ]
    },
    {
      "cell_type": "code",
      "source": [
        "class Empolyee():\n",
        "  AMOUNT = 1.05\n",
        "  EMPOLYEE_NUMBER = 0\n",
        "  def __init__(self,first_name,last_name,pay):\n",
        "    self.first_name = first_name\n",
        "    self.last_name = last_name \n",
        "    self.pay = pay \n",
        "    self.email = first_name+\"_\"+last_name+ '@pomx.com'\n",
        "\n",
        "\n",
        "    Empolyee.EMPOLYEE_NUMBER += 1 \n",
        "\n",
        "  def fullname(self):\n",
        "    return ('{} {}'.format(self.first_name,self.last_name))\n",
        "\n",
        "  def raise_amount(self):\n",
        "    self.pay = int(self.pay * self.AMOUNT)\n",
        "  \n",
        "  @classmethod\n",
        "  def set_raise_amount(cls,amount):\n",
        "    cls.AMOUNT = amount"
      ],
      "metadata": {
        "id": "kh8qBcnxftX9"
      },
      "execution_count": null,
      "outputs": []
    },
    {
      "cell_type": "code",
      "source": [
        "emp1 = Empolyee(\"Alaa\",\"Jason\",5000)\n",
        "emp2 = Empolyee(\"Abduall\",\"Khaled\",4000)\n",
        "emp3 = Empolyee(\"Mohammed\",\"Fooa\",6500)"
      ],
      "metadata": {
        "id": "VZmJ_yYOgBsb"
      },
      "execution_count": null,
      "outputs": []
    },
    {
      "cell_type": "code",
      "source": [
        "print(Empolyee.AMOUNT)\n",
        "print(emp1.AMOUNT)\n",
        "print(emp2.AMOUNT)"
      ],
      "metadata": {
        "colab": {
          "base_uri": "https://localhost:8080/"
        },
        "id": "-hkYh8nrgD8b",
        "outputId": "582e2d78-7b04-43e9-a162-e8f9b3950ef1"
      },
      "execution_count": null,
      "outputs": [
        {
          "output_type": "stream",
          "name": "stdout",
          "text": [
            "1.05\n",
            "1.05\n",
            "1.05\n"
          ]
        }
      ]
    },
    {
      "cell_type": "code",
      "source": [
        "Empolyee.set_raise_amount(1.09)"
      ],
      "metadata": {
        "id": "_sTRe4WLgGaZ"
      },
      "execution_count": null,
      "outputs": []
    },
    {
      "cell_type": "code",
      "source": [
        "print(Empolyee.AMOUNT)\n",
        "print(emp1.AMOUNT)\n",
        "print(emp2.AMOUNT)"
      ],
      "metadata": {
        "colab": {
          "base_uri": "https://localhost:8080/"
        },
        "id": "wSmq-5P5gJDS",
        "outputId": "90505576-bec2-4bfe-ffdd-ae2757cc1bfe"
      },
      "execution_count": null,
      "outputs": [
        {
          "output_type": "stream",
          "name": "stdout",
          "text": [
            "1.09\n",
            "1.09\n",
            "1.09\n"
          ]
        }
      ]
    },
    {
      "cell_type": "code",
      "source": [
        "# similar to what \n",
        "Empolyee.AMOUNT = 1.08"
      ],
      "metadata": {
        "id": "vXhtJ2FvgKq_"
      },
      "execution_count": null,
      "outputs": []
    },
    {
      "cell_type": "code",
      "source": [
        "print(Empolyee.AMOUNT)\n",
        "print(emp1.AMOUNT)\n",
        "print(emp2.AMOUNT)"
      ],
      "metadata": {
        "colab": {
          "base_uri": "https://localhost:8080/"
        },
        "id": "Fbaf5ufggV_o",
        "outputId": "37315c41-75d5-430d-a677-e9b087306b15"
      },
      "execution_count": null,
      "outputs": [
        {
          "output_type": "stream",
          "name": "stdout",
          "text": [
            "1.08\n",
            "1.08\n",
            "1.08\n"
          ]
        }
      ]
    },
    {
      "cell_type": "code",
      "source": [
        "# Class method can be used as alternative constractor \n",
        "# what I mean \n",
        "\n",
        "class Empolyee():\n",
        "  AMOUNT = 1.05\n",
        "  EMPOLYEE_NUMBER = 0\n",
        "  def __init__(self,first_name,last_name,pay):\n",
        "    self.first_name = first_name\n",
        "    self.last_name = last_name \n",
        "    self.pay = int(pay) \n",
        "    self.email = first_name+\"_\"+last_name+ '@pomx.com'\n",
        "\n",
        "\n",
        "    Empolyee.EMPOLYEE_NUMBER += 1 \n",
        "\n",
        "  def fullname(self):\n",
        "    return ('{} {}'.format(self.first_name,self.last_name))\n",
        "\n",
        "  def raise_amount(self):\n",
        "    self.pay = int(self.pay * self.AMOUNT)\n",
        "  \n",
        "  @classmethod\n",
        "  def set_raise_amount(cls,amount):\n",
        "    cls.AMOUNT = amount"
      ],
      "metadata": {
        "id": "oRvFdgTDgXar"
      },
      "execution_count": null,
      "outputs": []
    },
    {
      "cell_type": "code",
      "source": [
        "str_name_emp1 = 'Ali-Saleh-2000'\n",
        "str_name_emp2 = 'Amal-Mohammed-9000'\n",
        "str_name_emp3 = 'Reem-Khald-6000'\n"
      ],
      "metadata": {
        "id": "ySURZW_akC0I"
      },
      "execution_count": null,
      "outputs": []
    },
    {
      "cell_type": "code",
      "source": [
        "first_name, last_name, pay = str_name_emp1.split(\"-\")"
      ],
      "metadata": {
        "id": "n1envpbBkYwZ"
      },
      "execution_count": null,
      "outputs": []
    },
    {
      "cell_type": "code",
      "source": [
        "stra_name_emp1 = Empolyee(first_name,last_name,pay)"
      ],
      "metadata": {
        "id": "0aAE9MgVkmOE"
      },
      "execution_count": null,
      "outputs": []
    },
    {
      "cell_type": "code",
      "source": [
        "e2 = Empolyee(\"mohammed\",\"ali\",20000)"
      ],
      "metadata": {
        "id": "U54MGMa3kvOZ"
      },
      "execution_count": null,
      "outputs": []
    },
    {
      "cell_type": "code",
      "source": [
        "stra_name_emp1.fullname()"
      ],
      "metadata": {
        "colab": {
          "base_uri": "https://localhost:8080/",
          "height": 35
        },
        "id": "jmHKQAnRlSEo",
        "outputId": "7e6bc580-6824-4794-8aed-a6b39387c8a9"
      },
      "execution_count": null,
      "outputs": [
        {
          "output_type": "execute_result",
          "data": {
            "text/plain": [
              "'Ali Saleh'"
            ],
            "application/vnd.google.colaboratory.intrinsic+json": {
              "type": "string"
            }
          },
          "metadata": {},
          "execution_count": 50
        }
      ]
    },
    {
      "cell_type": "code",
      "source": [
        "# Class method can be used as alternative constractor \n",
        "# what I mean \n",
        "\n",
        "class Empolyee():\n",
        "  AMOUNT = 1.05\n",
        "  EMPOLYEE_NUMBER = 0\n",
        "  def __init__(self,first_name,last_name,pay):\n",
        "    self.first_name = first_name\n",
        "    self.last_name = last_name \n",
        "    self.pay = int(pay) \n",
        "    self.email = first_name+\"_\"+last_name+ '@pomx.com'\n",
        "\n",
        "\n",
        "    Empolyee.EMPOLYEE_NUMBER += 1 \n",
        "\n",
        "  def fullname(self):\n",
        "    return ('{} {}'.format(self.first_name,self.last_name))\n",
        "\n",
        "  def raise_amount(self):\n",
        "    self.pay = int(self.pay * self.AMOUNT)\n",
        "  \n",
        "  @classmethod\n",
        "  def set_raise_amount(cls,amount):\n",
        "    cls.AMOUNT = amount\n",
        "  \n",
        "  @classmethod \n",
        "  def from_string(cls,str_name_emp):\n",
        "    first_name,last_name, pay = str_name_emp.split(\"-\")\n",
        "    return cls(first_name,last_name,pay)"
      ],
      "metadata": {
        "id": "VZcQo3VFlsB4"
      },
      "execution_count": null,
      "outputs": []
    },
    {
      "cell_type": "code",
      "source": [
        "str_name_emp1 = 'Ali-Saleh-2000'\n",
        "str_name_emp2 = 'Amal-Mohammed-9000'\n",
        "str_name_emp3 = 'Reem-Khald-6000'"
      ],
      "metadata": {
        "id": "XWme8U6-n7u-"
      },
      "execution_count": null,
      "outputs": []
    },
    {
      "cell_type": "code",
      "source": [
        "str_emp1 = Empolyee.from_string(str_name_emp1) \n",
        "str_emp2 = Empolyee.from_string(str_name_emp2) \n",
        "str_emp3 = Empolyee.from_string(str_name_emp3) "
      ],
      "metadata": {
        "id": "4Dalt_nWoAtn"
      },
      "execution_count": null,
      "outputs": []
    },
    {
      "cell_type": "code",
      "source": [
        "print(str_emp1.fullname())\n",
        "print(str_emp2.fullname())\n",
        "print(str_emp3.fullname())"
      ],
      "metadata": {
        "colab": {
          "base_uri": "https://localhost:8080/"
        },
        "id": "2FEReFDaoV09",
        "outputId": "940c334d-3eac-4fb7-8f6d-11948bb9d24c"
      },
      "execution_count": null,
      "outputs": [
        {
          "output_type": "stream",
          "name": "stdout",
          "text": [
            "Ali Saleh\n",
            "Amal Mohammed\n",
            "Reem Khald\n"
          ]
        }
      ]
    },
    {
      "cell_type": "markdown",
      "source": [
        "# Static Method binding to nothing \n",
        "* To use static method when you don't pass self or cls in the method \n",
        "* then this is a static method"
      ],
      "metadata": {
        "id": "GUQAB6wlooqL"
      }
    },
    {
      "cell_type": "code",
      "source": [
        "@staticmethod\n",
        "def notbinding():\n",
        "  return 9*9"
      ],
      "metadata": {
        "id": "DD4Zh7HmoYWJ"
      },
      "execution_count": null,
      "outputs": []
    },
    {
      "cell_type": "code",
      "source": [
        "class Empolyee():\n",
        "  AMOUNT = 1.05\n",
        "  EMPOLYEE_NUMBER = 0\n",
        "  def __init__(self,first_name,last_name,pay):\n",
        "    self.first_name = first_name\n",
        "    self.last_name = last_name \n",
        "    self.pay = int(pay) \n",
        "    self.email = first_name+\"_\"+last_name+ '@pomx.com'\n",
        "\n",
        "\n",
        "    Empolyee.EMPOLYEE_NUMBER += 1 \n",
        "\n",
        "  def fullname(self):\n",
        "    return ('{} {}'.format(self.first_name,self.last_name))\n",
        "\n",
        "  def raise_amount(self):\n",
        "    self.pay = int(self.pay * self.AMOUNT)\n",
        "  \n",
        "  @classmethod\n",
        "  def set_raise_amount(cls,amount):\n",
        "    cls.AMOUNT = amount\n",
        "  \n",
        "  @classmethod \n",
        "  def from_string(cls,str_name_emp):\n",
        "    first_name,last_name, pay = str_name_emp.split(\"-\")\n",
        "    return cls(first_name,last_name,pay)\n",
        "\n",
        "  @staticmethod\n",
        "  def today(day):\n",
        "    if day == 4 or day == 5:\n",
        "      print(\"it is holiday\")\n",
        "    else:\n",
        "      print(\"work day\")"
      ],
      "metadata": {
        "id": "gag5unAMo_hY"
      },
      "execution_count": null,
      "outputs": []
    },
    {
      "cell_type": "code",
      "source": [
        "emp1 = Empolyee(\"foo\",\"bar\",8000)"
      ],
      "metadata": {
        "id": "Z8YNiY2VpXRh"
      },
      "execution_count": null,
      "outputs": []
    },
    {
      "cell_type": "code",
      "source": [
        "emp1.today(4)"
      ],
      "metadata": {
        "colab": {
          "base_uri": "https://localhost:8080/"
        },
        "id": "fLjTKwrTpdZq",
        "outputId": "42509f36-779f-46f0-c7b8-73f39a716e79"
      },
      "execution_count": null,
      "outputs": [
        {
          "output_type": "stream",
          "name": "stdout",
          "text": [
            "it is holidy\n"
          ]
        }
      ]
    },
    {
      "cell_type": "code",
      "source": [
        "# Instance Method --> binding the instance --> self word\n",
        "# class method --> binding to the calss --> keyword (cls)\n",
        "# static method --> binding to the nothing "
      ],
      "metadata": {
        "id": "lwsT8fmWpf4e"
      },
      "execution_count": null,
      "outputs": []
    },
    {
      "cell_type": "markdown",
      "source": [
        "# Inheritence \n",
        "* Single inheritence. \n",
        "* Multi inheritence. \n",
        "* Chain inheritence."
      ],
      "metadata": {
        "id": "2En0q2qvqWam"
      }
    },
    {
      "cell_type": "code",
      "source": [
        "class Empolyee():\n",
        "  AMOUNT = 1.05\n",
        "  EMPOLYEE_NUMBER = 0\n",
        "  def __init__(self,first_name,last_name,pay):\n",
        "    self.first_name = first_name\n",
        "    self.last_name = last_name \n",
        "    self.pay = int(pay) \n",
        "    self.email = first_name+\"_\"+last_name+ '@pomx.com'\n",
        "\n",
        "\n",
        "    Empolyee.EMPOLYEE_NUMBER += 1 \n",
        "\n",
        "  def fullname(self):\n",
        "    return ('{} {}'.format(self.first_name,self.last_name))\n",
        "\n",
        "  def raise_amount(self):\n",
        "    return self.pay * self.AMOUNT"
      ],
      "metadata": {
        "id": "x0NxeGZLqsV1"
      },
      "execution_count": null,
      "outputs": []
    },
    {
      "cell_type": "markdown",
      "source": [
        "# Creating a class inheret from Empolyee class \n",
        " * Developers\n",
        " * Managers"
      ],
      "metadata": {
        "id": "vPowaOIT6yEa"
      }
    },
    {
      "cell_type": "code",
      "source": [
        "class Developer(Empolyee):\n",
        "  pass"
      ],
      "metadata": {
        "id": "HwiVHnK96q4r"
      },
      "execution_count": null,
      "outputs": []
    },
    {
      "cell_type": "code",
      "source": [
        "dev1 = Developer(\"Mohammed\",\"Hassan\",9000)"
      ],
      "metadata": {
        "id": "lLkEbvZk7FIB"
      },
      "execution_count": null,
      "outputs": []
    },
    {
      "cell_type": "code",
      "source": [
        "dev1.fullname()"
      ],
      "metadata": {
        "colab": {
          "base_uri": "https://localhost:8080/",
          "height": 35
        },
        "id": "4n6W-Guc7cGI",
        "outputId": "24d17c89-460c-402a-d0ed-53e5de8d3c39"
      },
      "execution_count": null,
      "outputs": [
        {
          "output_type": "execute_result",
          "data": {
            "text/plain": [
              "'Mohammed Hassan'"
            ],
            "application/vnd.google.colaboratory.intrinsic+json": {
              "type": "string"
            }
          },
          "metadata": {},
          "execution_count": 78
        }
      ]
    },
    {
      "cell_type": "code",
      "source": [
        "Developer.__dict__"
      ],
      "metadata": {
        "colab": {
          "base_uri": "https://localhost:8080/"
        },
        "id": "a2eEHDMY7dos",
        "outputId": "8a0c21c7-339b-4a3e-bf25-25f8971efd50"
      },
      "execution_count": null,
      "outputs": [
        {
          "output_type": "execute_result",
          "data": {
            "text/plain": [
              "mappingproxy({'__module__': '__main__', '__doc__': None})"
            ]
          },
          "metadata": {},
          "execution_count": 79
        }
      ]
    },
    {
      "cell_type": "code",
      "source": [
        "class Developer(Empolyee):\n",
        "  AMOUNT = 1.09"
      ],
      "metadata": {
        "id": "YrR1Fr7N7mPB"
      },
      "execution_count": null,
      "outputs": []
    },
    {
      "cell_type": "code",
      "source": [
        "dev2 = Developer(\"Mohammed\",\"Hassan\",9000)"
      ],
      "metadata": {
        "id": "AqfAehhP7zVV"
      },
      "execution_count": null,
      "outputs": []
    },
    {
      "cell_type": "code",
      "source": [
        "(dev2.raise_amount())"
      ],
      "metadata": {
        "colab": {
          "base_uri": "https://localhost:8080/"
        },
        "id": "7vKSU3oW72vr",
        "outputId": "bb600b47-be50-4812-a3f0-14bcb4bf94b1"
      },
      "execution_count": null,
      "outputs": [
        {
          "output_type": "execute_result",
          "data": {
            "text/plain": [
              "9810.0"
            ]
          },
          "metadata": {},
          "execution_count": 83
        }
      ]
    },
    {
      "cell_type": "code",
      "source": [
        "Developer.__dict__"
      ],
      "metadata": {
        "colab": {
          "base_uri": "https://localhost:8080/"
        },
        "id": "lhvLOmfM74Iy",
        "outputId": "1729783f-6b76-4bc6-d06c-93063d693477"
      },
      "execution_count": null,
      "outputs": [
        {
          "output_type": "execute_result",
          "data": {
            "text/plain": [
              "mappingproxy({'__module__': '__main__', 'AMOUNT': 1.09, '__doc__': None})"
            ]
          },
          "metadata": {},
          "execution_count": 84
        }
      ]
    },
    {
      "cell_type": "code",
      "source": [
        "class Developer(Empolyee):\n",
        "  AMOUNT = 1.09\n",
        "  def __init__(self, first_name, last_name, pay,prog_lang):\n",
        "    super().__init__(first_name, last_name, pay)\n",
        "    self.prog_lang = prog_lang"
      ],
      "metadata": {
        "id": "O0YZ_9cp8RMi"
      },
      "execution_count": null,
      "outputs": []
    },
    {
      "cell_type": "code",
      "source": [
        "dev2 = Developer(\"Mohammed\",\"Hassan\",9000,\"Python\")"
      ],
      "metadata": {
        "id": "guQvixpL8khb"
      },
      "execution_count": null,
      "outputs": []
    },
    {
      "cell_type": "code",
      "source": [
        "dev2.prog_lang"
      ],
      "metadata": {
        "colab": {
          "base_uri": "https://localhost:8080/",
          "height": 35
        },
        "id": "PBQyxln68q2D",
        "outputId": "1016c3e2-96ab-4231-dca2-ad7fdbefd88d"
      },
      "execution_count": null,
      "outputs": [
        {
          "output_type": "execute_result",
          "data": {
            "text/plain": [
              "'Python'"
            ],
            "application/vnd.google.colaboratory.intrinsic+json": {
              "type": "string"
            }
          },
          "metadata": {},
          "execution_count": 87
        }
      ]
    },
    {
      "cell_type": "code",
      "source": [
        "Developer.__dict__"
      ],
      "metadata": {
        "colab": {
          "base_uri": "https://localhost:8080/"
        },
        "id": "UJSyUqKF8tp2",
        "outputId": "a6854966-4cfd-4348-b27f-4375e717272b"
      },
      "execution_count": null,
      "outputs": [
        {
          "output_type": "execute_result",
          "data": {
            "text/plain": [
              "mappingproxy({'__module__': '__main__',\n",
              "              'AMOUNT': 1.09,\n",
              "              '__init__': <function __main__.Developer.__init__(self, first_name, last_name, pay, prog_lang)>,\n",
              "              '__doc__': None})"
            ]
          },
          "metadata": {},
          "execution_count": 88
        }
      ]
    },
    {
      "cell_type": "code",
      "source": [
        "print(help(dev2))"
      ],
      "metadata": {
        "colab": {
          "base_uri": "https://localhost:8080/"
        },
        "id": "rE2wrd-B80N4",
        "outputId": "04b2ac1a-771f-4648-871b-a1e0eb6fa28e"
      },
      "execution_count": null,
      "outputs": [
        {
          "output_type": "stream",
          "name": "stdout",
          "text": [
            "Help on Developer in module __main__ object:\n",
            "\n",
            "class Developer(Empolyee)\n",
            " |  Developer(first_name, last_name, pay, prog_lang)\n",
            " |  \n",
            " |  Method resolution order:\n",
            " |      Developer\n",
            " |      Empolyee\n",
            " |      builtins.object\n",
            " |  \n",
            " |  Methods defined here:\n",
            " |  \n",
            " |  __init__(self, first_name, last_name, pay, prog_lang)\n",
            " |      Initialize self.  See help(type(self)) for accurate signature.\n",
            " |  \n",
            " |  ----------------------------------------------------------------------\n",
            " |  Data and other attributes defined here:\n",
            " |  \n",
            " |  AMOUNT = 1.09\n",
            " |  \n",
            " |  ----------------------------------------------------------------------\n",
            " |  Methods inherited from Empolyee:\n",
            " |  \n",
            " |  fullname(self)\n",
            " |  \n",
            " |  raise_amount(self)\n",
            " |  \n",
            " |  ----------------------------------------------------------------------\n",
            " |  Data descriptors inherited from Empolyee:\n",
            " |  \n",
            " |  __dict__\n",
            " |      dictionary for instance variables (if defined)\n",
            " |  \n",
            " |  __weakref__\n",
            " |      list of weak references to the object (if defined)\n",
            " |  \n",
            " |  ----------------------------------------------------------------------\n",
            " |  Data and other attributes inherited from Empolyee:\n",
            " |  \n",
            " |  EMPOLYEE_NUMBER = 3\n",
            "\n",
            "None\n"
          ]
        }
      ]
    },
    {
      "cell_type": "code",
      "source": [
        "class Developer(Empolyee):\n",
        "  AMOUNT = 1.09\n",
        "  def __init__(self, first_name, last_name, pay,prog_lang,num_proj):\n",
        "    super().__init__(first_name, last_name, pay)\n",
        "    self.prog_lang = prog_lang\n",
        "    self.num_proj = num_proj\n",
        "  def number_of_projects(self):\n",
        "    return self.num_proj"
      ],
      "metadata": {
        "id": "-ENLdpolE260"
      },
      "execution_count": null,
      "outputs": []
    },
    {
      "cell_type": "code",
      "source": [
        "Developer.mro()"
      ],
      "metadata": {
        "colab": {
          "base_uri": "https://localhost:8080/"
        },
        "id": "YFwdcEqR84_L",
        "outputId": "e88ecf0e-72a5-48b5-9c1d-3dd577cf76c0"
      },
      "execution_count": null,
      "outputs": [
        {
          "output_type": "execute_result",
          "data": {
            "text/plain": [
              "[__main__.Developer, __main__.Empolyee, object]"
            ]
          },
          "metadata": {},
          "execution_count": 92
        }
      ]
    },
    {
      "cell_type": "code",
      "source": [
        "class Manager(Empolyee):\n",
        "  def __init__(self, first_name, last_name, pay,employees=None):\n",
        "    super().__init__(first_name, last_name, pay)\n",
        "    if employees is None:\n",
        "      self.employees = []\n",
        "    else :\n",
        "      self.employees = employees\n",
        "  \n",
        "  def add_employee(self,emp):\n",
        "    if emp not in self.employees:\n",
        "      self.employee.append(emp)\n",
        "\n",
        "  def remove_employee(self,emp):\n",
        "    if emp in self.employees:\n",
        "      self.employee.remove(emp)\n",
        "  \n",
        "  def print_emp(self):\n",
        "    for emp in self.employees:\n",
        "      print(\"-->\",emp.fullname())\n",
        "\n",
        "  \n",
        "  def numer_of_employees(self):\n",
        "    print(\"the number of the employee is :\", len(self.employees))\n",
        "    "
      ],
      "metadata": {
        "id": "iy7kvvKz88Du"
      },
      "execution_count": null,
      "outputs": []
    },
    {
      "cell_type": "code",
      "source": [
        "Manager.__dict__"
      ],
      "metadata": {
        "colab": {
          "base_uri": "https://localhost:8080/"
        },
        "id": "mYWImZyUDfv-",
        "outputId": "194f159b-7798-4993-96a5-1c92eb9af4db"
      },
      "execution_count": null,
      "outputs": [
        {
          "output_type": "execute_result",
          "data": {
            "text/plain": [
              "mappingproxy({'__module__': '__main__',\n",
              "              '__init__': <function __main__.Manager.__init__(self, first_name, last_name, pay, employees=None)>,\n",
              "              'add_employee': <function __main__.Manager.add_employee(self, emp)>,\n",
              "              'remove_employee': <function __main__.Manager.remove_employee(self, emp)>,\n",
              "              'print_emp': <function __main__.Manager.print_emp(self)>,\n",
              "              'numer_of_employees': <function __main__.Manager.numer_of_employees(self)>,\n",
              "              '__doc__': None})"
            ]
          },
          "metadata": {},
          "execution_count": 131
        }
      ]
    },
    {
      "cell_type": "code",
      "source": [
        "manger1 = Manager(\"Rehaf\",\"Fasial\",11000,employees=[dev1])"
      ],
      "metadata": {
        "id": "E3kAvt0RBNge"
      },
      "execution_count": null,
      "outputs": []
    },
    {
      "cell_type": "code",
      "source": [
        "manger1.__dict__"
      ],
      "metadata": {
        "colab": {
          "base_uri": "https://localhost:8080/"
        },
        "id": "H_ZA1775BhtR",
        "outputId": "8a37528b-7c0f-48d0-a78f-39453504e414"
      },
      "execution_count": null,
      "outputs": [
        {
          "output_type": "execute_result",
          "data": {
            "text/plain": [
              "{'first_name': 'Rehaf',\n",
              " 'last_name': 'Fasial',\n",
              " 'pay': 11000,\n",
              " 'email': 'Rehaf_Fasial@pomx.com',\n",
              " 'employees': [<__main__.Developer at 0x7f79789b6290>]}"
            ]
          },
          "metadata": {},
          "execution_count": 124
        }
      ]
    },
    {
      "cell_type": "code",
      "source": [
        "manger1.print_emp()"
      ],
      "metadata": {
        "colab": {
          "base_uri": "https://localhost:8080/"
        },
        "id": "XI-Fr2VoBlgM",
        "outputId": "3d9aa021-7332-40d8-a9b9-93b16d387317"
      },
      "execution_count": null,
      "outputs": [
        {
          "output_type": "stream",
          "name": "stdout",
          "text": [
            "--> Mohammed Hassan\n"
          ]
        }
      ]
    },
    {
      "cell_type": "code",
      "source": [
        "manger1.numer_of_employees()"
      ],
      "metadata": {
        "colab": {
          "base_uri": "https://localhost:8080/"
        },
        "id": "Q1GtKImqBtwQ",
        "outputId": "ec7dd680-650b-4688-c9e8-1fa10eb4dd5f"
      },
      "execution_count": null,
      "outputs": [
        {
          "output_type": "stream",
          "name": "stdout",
          "text": [
            "the number of the employee is : 1\n"
          ]
        }
      ]
    },
    {
      "cell_type": "code",
      "source": [],
      "metadata": {
        "colab": {
          "base_uri": "https://localhost:8080/",
          "height": 166
        },
        "id": "bnScI0LlDYAK",
        "outputId": "adeac526-584f-42a3-a368-2fef1d4153e6"
      },
      "execution_count": null,
      "outputs": [
        {
          "output_type": "error",
          "ename": "AttributeError",
          "evalue": "ignored",
          "traceback": [
            "\u001b[0;31m---------------------------------------------------------------------------\u001b[0m",
            "\u001b[0;31mAttributeError\u001b[0m                            Traceback (most recent call last)",
            "\u001b[0;32m<ipython-input-129-23b5453a0ae8>\u001b[0m in \u001b[0;36m<module>\u001b[0;34m\u001b[0m\n\u001b[0;32m----> 1\u001b[0;31m \u001b[0mmanger1\u001b[0m\u001b[0;34m.\u001b[0m\u001b[0mmro\u001b[0m\u001b[0;34m(\u001b[0m\u001b[0;34m)\u001b[0m\u001b[0;34m\u001b[0m\u001b[0;34m\u001b[0m\u001b[0m\n\u001b[0m",
            "\u001b[0;31mAttributeError\u001b[0m: 'Manager' object has no attribute 'mro'"
          ]
        }
      ]
    },
    {
      "cell_type": "markdown",
      "source": [
        "# Inheritance from different class\n",
        "* you can do inheritance from different classes "
      ],
      "metadata": {
        "id": "Aqn8wjHBDKQe"
      }
    },
    {
      "cell_type": "code",
      "source": [
        "class CTOs(Manager,Developer):\n",
        "  pass"
      ],
      "metadata": {
        "id": "sykc66BjCzT_"
      },
      "execution_count": null,
      "outputs": []
    },
    {
      "cell_type": "code",
      "source": [
        "print(help(CTOs))"
      ],
      "metadata": {
        "colab": {
          "base_uri": "https://localhost:8080/"
        },
        "id": "Z6G1P0J7EyNh",
        "outputId": "e5ca4df4-bf0b-4f50-b91f-de23933fc94f"
      },
      "execution_count": null,
      "outputs": [
        {
          "output_type": "stream",
          "name": "stdout",
          "text": [
            "Help on class CTOs in module __main__:\n",
            "\n",
            "class CTOs(Manager, Developer)\n",
            " |  CTOs(first_name, last_name, pay, employees=None)\n",
            " |  \n",
            " |  Method resolution order:\n",
            " |      CTOs\n",
            " |      Manager\n",
            " |      Developer\n",
            " |      Empolyee\n",
            " |      builtins.object\n",
            " |  \n",
            " |  Methods inherited from Manager:\n",
            " |  \n",
            " |  __init__(self, first_name, last_name, pay, employees=None)\n",
            " |      Initialize self.  See help(type(self)) for accurate signature.\n",
            " |  \n",
            " |  add_employee(self, emp)\n",
            " |  \n",
            " |  numer_of_employees(self)\n",
            " |  \n",
            " |  print_emp(self)\n",
            " |  \n",
            " |  remove_employee(self, emp)\n",
            " |  \n",
            " |  ----------------------------------------------------------------------\n",
            " |  Methods inherited from Developer:\n",
            " |  \n",
            " |  number_of_projects(self)\n",
            " |  \n",
            " |  ----------------------------------------------------------------------\n",
            " |  Data and other attributes inherited from Developer:\n",
            " |  \n",
            " |  AMOUNT = 1.09\n",
            " |  \n",
            " |  ----------------------------------------------------------------------\n",
            " |  Methods inherited from Empolyee:\n",
            " |  \n",
            " |  fullname(self)\n",
            " |  \n",
            " |  raise_amount(self)\n",
            " |  \n",
            " |  ----------------------------------------------------------------------\n",
            " |  Data descriptors inherited from Empolyee:\n",
            " |  \n",
            " |  __dict__\n",
            " |      dictionary for instance variables (if defined)\n",
            " |  \n",
            " |  __weakref__\n",
            " |      list of weak references to the object (if defined)\n",
            " |  \n",
            " |  ----------------------------------------------------------------------\n",
            " |  Data and other attributes inherited from Empolyee:\n",
            " |  \n",
            " |  EMPOLYEE_NUMBER = 11\n",
            "\n",
            "None\n"
          ]
        }
      ]
    },
    {
      "cell_type": "code",
      "source": [
        "class CTOs(Manager,Developer):\n",
        "  def __init__(self, first_name, last_name, pay,prog_lang,num_proj,employees=None):\n",
        "    super().Manager(first_name, last_name, pay, employees)\n",
        "    super().Developer(first_name,last_name.pay,prog_lang,num_proj)"
      ],
      "metadata": {
        "id": "_rSnGJKFFb2R"
      },
      "execution_count": null,
      "outputs": []
    },
    {
      "cell_type": "markdown",
      "source": [
        "# Magic && Dunder methods \n",
        "* __str__\n",
        "* __repr__\n",
        "* ___add__\n",
        "* ___lt__"
      ],
      "metadata": {
        "id": "yLAoYpwRHrU2"
      }
    },
    {
      "cell_type": "code",
      "source": [
        "class Empolyee():\n",
        "  Amount = 1.05\n",
        "  def __init__(self,first_name,last_name,pay):\n",
        "    self.first_name = first_name\n",
        "    self.last_name = last_name \n",
        "    self.pay = pay \n",
        "    self.email = first_name+\"_\"+last_name+ '@pomx.com'\n",
        "\n",
        "  def fullname(self):\n",
        "    return ('{} {}'.format(self.first_name,self.last_name))\n",
        "\n",
        "  def raise_amount(self):\n",
        "    return self.pay * Empolyee.Amount"
      ],
      "metadata": {
        "id": "hu9nYhukHqgq"
      },
      "execution_count": 1,
      "outputs": []
    },
    {
      "cell_type": "code",
      "source": [
        "emp1 = Empolyee(\"Mohammed\",\"DAER\",9000)"
      ],
      "metadata": {
        "id": "kpmhMaMrWaOo"
      },
      "execution_count": 2,
      "outputs": []
    },
    {
      "cell_type": "code",
      "source": [
        "print(emp1)"
      ],
      "metadata": {
        "colab": {
          "base_uri": "https://localhost:8080/"
        },
        "id": "WXINtH_BXDJQ",
        "outputId": "92d669fa-b92b-40fa-d3db-3c64656999c2"
      },
      "execution_count": 4,
      "outputs": [
        {
          "output_type": "stream",
          "name": "stdout",
          "text": [
            "<__main__.Empolyee object at 0x7fa51407e3d0>\n"
          ]
        }
      ]
    },
    {
      "cell_type": "code",
      "source": [
        "emp1.__str__"
      ],
      "metadata": {
        "colab": {
          "base_uri": "https://localhost:8080/"
        },
        "id": "Ju8uVwuhXEpR",
        "outputId": "4bc6ef6a-ae83-42c4-ee22-2f725ad148e9"
      },
      "execution_count": 5,
      "outputs": [
        {
          "output_type": "execute_result",
          "data": {
            "text/plain": [
              "<method-wrapper '__str__' of Empolyee object at 0x7fa51407e3d0>"
            ]
          },
          "metadata": {},
          "execution_count": 5
        }
      ]
    },
    {
      "cell_type": "code",
      "source": [
        "emp1.__repr__"
      ],
      "metadata": {
        "colab": {
          "base_uri": "https://localhost:8080/"
        },
        "id": "3v8dCqwJXJwA",
        "outputId": "193cfd2f-8453-44b2-e0a5-f6804102cbc1"
      },
      "execution_count": 6,
      "outputs": [
        {
          "output_type": "execute_result",
          "data": {
            "text/plain": [
              "<method-wrapper '__repr__' of Empolyee object at 0x7fa51407e3d0>"
            ]
          },
          "metadata": {},
          "execution_count": 6
        }
      ]
    },
    {
      "cell_type": "code",
      "source": [
        "class Empolyee():\n",
        "  Amount = 1.05\n",
        "  def __init__(self,first_name,last_name,pay):\n",
        "    self.first_name = first_name\n",
        "    self.last_name = last_name \n",
        "    self.pay = pay \n",
        "    self.email = first_name+\"_\"+last_name+ '@pomx.com'\n",
        "\n",
        "  def fullname(self):\n",
        "    return ('{} {}'.format(self.first_name,self.last_name))\n",
        "\n",
        "  def raise_amount(self):\n",
        "    return self.pay * Empolyee.Amount\n",
        "\n",
        "  def __repr__(self) -> str:\n",
        "    return \"Empoloyee is {} {} and his email is {}\".format(self.first_name,\n",
        "                                                            self.last_name,\n",
        "                                                            self.email)"
      ],
      "metadata": {
        "id": "pH2STUcSXMpR"
      },
      "execution_count": 10,
      "outputs": []
    },
    {
      "cell_type": "code",
      "source": [
        "emp1 = Empolyee(\"Mohammed\",\"DAER\",9000)"
      ],
      "metadata": {
        "id": "56CF-Y9jXrVo"
      },
      "execution_count": 8,
      "outputs": []
    },
    {
      "cell_type": "code",
      "source": [
        "print(emp1)"
      ],
      "metadata": {
        "colab": {
          "base_uri": "https://localhost:8080/"
        },
        "id": "W-9JIWVtXvop",
        "outputId": "de3ace7a-8e0c-4f7d-d903-7efef1675877"
      },
      "execution_count": 9,
      "outputs": [
        {
          "output_type": "stream",
          "name": "stdout",
          "text": [
            "Empoloyee is Mohammed, DAER and his email is Mohammed_DAER@pomx.com\n"
          ]
        }
      ]
    },
    {
      "cell_type": "code",
      "source": [
        "class Empolyee():\n",
        "  Amount = 1.05\n",
        "  def __init__(self,first_name,last_name,pay):\n",
        "    self.first_name = first_name\n",
        "    self.last_name = last_name \n",
        "    self.pay = pay \n",
        "    self.email = first_name+\"_\"+last_name+ '@pomx.com'\n",
        "\n",
        "  def fullname(self):\n",
        "    return ('{} {}'.format(self.first_name,self.last_name))\n",
        "\n",
        "  def raise_amount(self):\n",
        "    return self.pay * Empolyee.Amount\n",
        "\n",
        "  def __repr__(self) -> str:\n",
        "    return \"Empoloyee is {} {} and his email is {}\".format(self.first_name,\n",
        "                                                            self.last_name,\n",
        "                                                            self.email)\n",
        "  def __str__(self) -> str:\n",
        "    return \"I am in dunder string and my name is {} {}\".format(self.first_name,\n",
        "                                                               self.last_name)"
      ],
      "metadata": {
        "id": "Y6lIIQCAXw7T"
      },
      "execution_count": 11,
      "outputs": []
    },
    {
      "cell_type": "code",
      "source": [
        "emp3 = Empolyee(\"Mohammedx\",\"DAERx\",6000)"
      ],
      "metadata": {
        "id": "fEt1JK7hYJvU"
      },
      "execution_count": 12,
      "outputs": []
    },
    {
      "cell_type": "code",
      "source": [
        "print(emp3)"
      ],
      "metadata": {
        "colab": {
          "base_uri": "https://localhost:8080/"
        },
        "id": "07TZvPoUYTqQ",
        "outputId": "dbb70e3c-0cb3-48c1-a488-5d4bd8d84c28"
      },
      "execution_count": 13,
      "outputs": [
        {
          "output_type": "stream",
          "name": "stdout",
          "text": [
            "I am in dunder string and my name is Mohammedx DAERx\n"
          ]
        }
      ]
    },
    {
      "cell_type": "code",
      "source": [
        "(2+4)"
      ],
      "metadata": {
        "colab": {
          "base_uri": "https://localhost:8080/"
        },
        "id": "geoN0b0oYWQQ",
        "outputId": "44bbbf3f-0b22-46fb-8787-ac4dfdbead7d"
      },
      "execution_count": 14,
      "outputs": [
        {
          "output_type": "execute_result",
          "data": {
            "text/plain": [
              "6"
            ]
          },
          "metadata": {},
          "execution_count": 14
        }
      ]
    },
    {
      "cell_type": "code",
      "source": [
        "int.__add__(2,4)"
      ],
      "metadata": {
        "colab": {
          "base_uri": "https://localhost:8080/"
        },
        "id": "k_evd5QpaJyD",
        "outputId": "b4c4f141-d4b3-4420-87c5-419e778a4c79"
      },
      "execution_count": 15,
      "outputs": [
        {
          "output_type": "execute_result",
          "data": {
            "text/plain": [
              "6"
            ]
          },
          "metadata": {},
          "execution_count": 15
        }
      ]
    },
    {
      "cell_type": "code",
      "source": [
        "(\"s\"+\"r\")"
      ],
      "metadata": {
        "colab": {
          "base_uri": "https://localhost:8080/",
          "height": 35
        },
        "id": "pOuRTgLRaN6b",
        "outputId": "cbf28329-2bd8-428a-ccbe-9e0c33d51d74"
      },
      "execution_count": 16,
      "outputs": [
        {
          "output_type": "execute_result",
          "data": {
            "text/plain": [
              "'sr'"
            ],
            "application/vnd.google.colaboratory.intrinsic+json": {
              "type": "string"
            }
          },
          "metadata": {},
          "execution_count": 16
        }
      ]
    },
    {
      "cell_type": "code",
      "source": [
        "str.__add__(\"s\",\"r\")"
      ],
      "metadata": {
        "colab": {
          "base_uri": "https://localhost:8080/",
          "height": 35
        },
        "id": "VzHIeC2LaTtK",
        "outputId": "6f3d1318-b3ab-4f46-c39f-e97b66d9dff7"
      },
      "execution_count": 17,
      "outputs": [
        {
          "output_type": "execute_result",
          "data": {
            "text/plain": [
              "'sr'"
            ],
            "application/vnd.google.colaboratory.intrinsic+json": {
              "type": "string"
            }
          },
          "metadata": {},
          "execution_count": 17
        }
      ]
    },
    {
      "cell_type": "code",
      "source": [
        "emp1 = Empolyee(\"Ali\",\"Yazan\",2000)\n",
        "emp2 = Empolyee(\"Mohammed\",\"Tariq\",6000)"
      ],
      "metadata": {
        "id": "PAPdMbMmaZIg"
      },
      "execution_count": 19,
      "outputs": []
    },
    {
      "cell_type": "code",
      "source": [
        "emp1+emp2"
      ],
      "metadata": {
        "colab": {
          "base_uri": "https://localhost:8080/",
          "height": 169
        },
        "id": "EvO1392oatwn",
        "outputId": "b2395e22-61dd-4df0-a347-53668e4ea5ba"
      },
      "execution_count": 20,
      "outputs": [
        {
          "output_type": "error",
          "ename": "TypeError",
          "evalue": "ignored",
          "traceback": [
            "\u001b[0;31m---------------------------------------------------------------------------\u001b[0m",
            "\u001b[0;31mTypeError\u001b[0m                                 Traceback (most recent call last)",
            "\u001b[0;32m<ipython-input-20-e076a3540acb>\u001b[0m in \u001b[0;36m<module>\u001b[0;34m\u001b[0m\n\u001b[0;32m----> 1\u001b[0;31m \u001b[0memp1\u001b[0m\u001b[0;34m+\u001b[0m\u001b[0memp2\u001b[0m\u001b[0;34m\u001b[0m\u001b[0;34m\u001b[0m\u001b[0m\n\u001b[0m",
            "\u001b[0;31mTypeError\u001b[0m: unsupported operand type(s) for +: 'Empolyee' and 'Empolyee'"
          ]
        }
      ]
    },
    {
      "cell_type": "code",
      "source": [
        "class Empolyee():\n",
        "  Amount = 1.05\n",
        "  def __init__(self,first_name,last_name,pay):\n",
        "    self.first_name = first_name\n",
        "    self.last_name = last_name \n",
        "    self.pay = pay \n",
        "    self.email = first_name+\"_\"+last_name+ '@pomx.com'\n",
        "\n",
        "  def fullname(self):\n",
        "    return ('{} {}'.format(self.first_name,self.last_name))\n",
        "\n",
        "  def raise_amount(self):\n",
        "    return self.pay * Empolyee.Amount\n",
        "\n",
        "  def __repr__(self) -> str:\n",
        "    return \"Empoloyee is {} {} and his email is {}\".format(self.first_name,\n",
        "                                                            self.last_name,\n",
        "                                                            self.email)\n",
        "  def __str__(self) -> str:\n",
        "    return \"I am in dunder string and my name is {} {}\".format(self.first_name,\n",
        "                                                               self.last_name)\n",
        "\n",
        "\n",
        "  def __add__(self,other) :\n",
        "    return self.pay + other.pay"
      ],
      "metadata": {
        "id": "zqgJvMwaawXF"
      },
      "execution_count": 21,
      "outputs": []
    },
    {
      "cell_type": "code",
      "source": [
        "emp1 = Empolyee(\"Ali\",\"Yazan\",2000)\n",
        "emp2 = Empolyee(\"Mohammed\",\"Tariq\",6000)"
      ],
      "metadata": {
        "id": "jkGWJOLcbIoz"
      },
      "execution_count": 22,
      "outputs": []
    },
    {
      "cell_type": "code",
      "source": [
        "emp1+emp2"
      ],
      "metadata": {
        "colab": {
          "base_uri": "https://localhost:8080/"
        },
        "id": "1b2rkcs8bLZ5",
        "outputId": "29763237-e55a-4b0f-b0ad-05bb04ec0336"
      },
      "execution_count": 23,
      "outputs": [
        {
          "output_type": "execute_result",
          "data": {
            "text/plain": [
              "8000"
            ]
          },
          "metadata": {},
          "execution_count": 23
        }
      ]
    },
    {
      "cell_type": "code",
      "source": [
        "len(\"Mohammed\")"
      ],
      "metadata": {
        "colab": {
          "base_uri": "https://localhost:8080/"
        },
        "id": "PFWP6YslbM87",
        "outputId": "a3884889-3303-49a2-c077-48e509363ea1"
      },
      "execution_count": 24,
      "outputs": [
        {
          "output_type": "execute_result",
          "data": {
            "text/plain": [
              "8"
            ]
          },
          "metadata": {},
          "execution_count": 24
        }
      ]
    },
    {
      "cell_type": "code",
      "source": [
        "str.__len__(\"Mohammed\")"
      ],
      "metadata": {
        "colab": {
          "base_uri": "https://localhost:8080/"
        },
        "id": "ghStobY5bXWG",
        "outputId": "aff393ec-ff1b-4519-9ae7-8804e130cd5f"
      },
      "execution_count": 25,
      "outputs": [
        {
          "output_type": "execute_result",
          "data": {
            "text/plain": [
              "8"
            ]
          },
          "metadata": {},
          "execution_count": 25
        }
      ]
    },
    {
      "cell_type": "code",
      "source": [
        "len(emp1)"
      ],
      "metadata": {
        "colab": {
          "base_uri": "https://localhost:8080/",
          "height": 169
        },
        "id": "7EomD5aCbcLs",
        "outputId": "2f220320-0e56-4f30-d651-5569eff7ef6c"
      },
      "execution_count": 26,
      "outputs": [
        {
          "output_type": "error",
          "ename": "TypeError",
          "evalue": "ignored",
          "traceback": [
            "\u001b[0;31m---------------------------------------------------------------------------\u001b[0m",
            "\u001b[0;31mTypeError\u001b[0m                                 Traceback (most recent call last)",
            "\u001b[0;32m<ipython-input-26-39b170ae81ae>\u001b[0m in \u001b[0;36m<module>\u001b[0;34m\u001b[0m\n\u001b[0;32m----> 1\u001b[0;31m \u001b[0mlen\u001b[0m\u001b[0;34m(\u001b[0m\u001b[0memp1\u001b[0m\u001b[0;34m)\u001b[0m\u001b[0;34m\u001b[0m\u001b[0;34m\u001b[0m\u001b[0m\n\u001b[0m",
            "\u001b[0;31mTypeError\u001b[0m: object of type 'Empolyee' has no len()"
          ]
        }
      ]
    },
    {
      "cell_type": "code",
      "source": [
        "class Empolyee():\n",
        "  Amount = 1.05\n",
        "  def __init__(self,first_name,last_name,pay):\n",
        "    self.first_name = first_name\n",
        "    self.last_name = last_name \n",
        "    self.pay = pay \n",
        "    self.email = first_name+\"_\"+last_name+ '@pomx.com'\n",
        "\n",
        "  def fullname(self):\n",
        "    return ('{} {}'.format(self.first_name,self.last_name))\n",
        "\n",
        "  def raise_amount(self):\n",
        "    return self.pay * Empolyee.Amount\n",
        "\n",
        "  def __repr__(self) -> str:\n",
        "    return \"Empoloyee is {} {} and his email is {}\".format(self.first_name,\n",
        "                                                            self.last_name,\n",
        "                                                            self.email)\n",
        "  def __str__(self) -> str:\n",
        "    return \"I am in dunder string and my name is {} {}\".format(self.first_name,\n",
        "                                                               self.last_name)\n",
        "\n",
        "\n",
        "  def __add__(self,other) :\n",
        "    return self.pay + other.pay\n",
        "  \n",
        "  def __len__(self):\n",
        "    return len(self.first_name+self.last_name)"
      ],
      "metadata": {
        "id": "ZomDmtVvbdnb"
      },
      "execution_count": 27,
      "outputs": []
    },
    {
      "cell_type": "code",
      "source": [
        "emp1 = Empolyee(\"Ali\",\"Yazan\",2000)\n",
        "emp2 = Empolyee(\"Mohammed\",\"Tariq\",6000)"
      ],
      "metadata": {
        "id": "etVdj1n4dyXT"
      },
      "execution_count": 28,
      "outputs": []
    },
    {
      "cell_type": "code",
      "source": [
        "len(emp1)"
      ],
      "metadata": {
        "colab": {
          "base_uri": "https://localhost:8080/"
        },
        "id": "P25fCGDwd2gx",
        "outputId": "169a5015-86d5-4627-feb9-52878e373664"
      },
      "execution_count": 29,
      "outputs": [
        {
          "output_type": "execute_result",
          "data": {
            "text/plain": [
              "8"
            ]
          },
          "metadata": {},
          "execution_count": 29
        }
      ]
    },
    {
      "cell_type": "markdown",
      "source": [
        "# Property Decorators & others"
      ],
      "metadata": {
        "id": "6PxDSwbug702"
      }
    },
    {
      "cell_type": "code",
      "source": [
        "class Empolyee():\n",
        "  Amount = 1.05\n",
        "  def __init__(self,first_name,last_name,pay):\n",
        "    self.first_name = first_name\n",
        "    self.last_name = last_name \n",
        "    self.pay = pay \n",
        "    self.email = first_name+\"_\"+last_name+ '@pomx.com'\n",
        "\n",
        "  def fullname(self):\n",
        "    return ('{} {}'.format(self.first_name,self.last_name))\n",
        "\n",
        "  def raise_amount(self):\n",
        "    return self.pay * Empolyee.Amount"
      ],
      "metadata": {
        "id": "dhWsFcNmd417"
      },
      "execution_count": 38,
      "outputs": []
    },
    {
      "cell_type": "code",
      "source": [
        "emp1 = Empolyee(\"Ali\",\"Yazan\",2000)"
      ],
      "metadata": {
        "id": "2UTjq1IHhM-n"
      },
      "execution_count": 39,
      "outputs": []
    },
    {
      "cell_type": "code",
      "source": [
        "print(emp1.first_name)\n",
        "print(emp1.last_name)\n",
        "print(emp1.fullname())\n",
        "print(emp1.email)"
      ],
      "metadata": {
        "colab": {
          "base_uri": "https://localhost:8080/"
        },
        "id": "fCG88_SChTh4",
        "outputId": "d195f32f-abb8-46ba-bc95-fcbdc9ffa949"
      },
      "execution_count": 40,
      "outputs": [
        {
          "output_type": "stream",
          "name": "stdout",
          "text": [
            "Ali\n",
            "Yazan\n",
            "Ali Yazan\n",
            "Ali_Yazan@pomx.com\n"
          ]
        }
      ]
    },
    {
      "cell_type": "code",
      "source": [
        "emp1.first_name = \"Mohammed\""
      ],
      "metadata": {
        "id": "2_Usbz9QhWCL"
      },
      "execution_count": 41,
      "outputs": []
    },
    {
      "cell_type": "code",
      "source": [
        "print(emp1.first_name)\n",
        "print(emp1.last_name)\n",
        "print(emp1.fullname())\n",
        "print(emp1.email)"
      ],
      "metadata": {
        "colab": {
          "base_uri": "https://localhost:8080/"
        },
        "id": "hoiFpwBOiiBk",
        "outputId": "592a7845-10c3-409b-e766-a4ccb997bc28"
      },
      "execution_count": 42,
      "outputs": [
        {
          "output_type": "stream",
          "name": "stdout",
          "text": [
            "Mohammed\n",
            "Yazan\n",
            "Mohammed Yazan\n",
            "Ali_Yazan@pomx.com\n"
          ]
        }
      ]
    },
    {
      "cell_type": "code",
      "source": [
        "class Empolyee():\n",
        "  Amount = 1.05\n",
        "  def __init__(self,first_name,last_name,pay):\n",
        "    self.first_name = first_name\n",
        "    self.last_name = last_name \n",
        "    self.pay = pay \n",
        "\n",
        "  def email(self):\n",
        "    return ('{}.{}@pomx.com'.format(self.first_name,self.last_name))\n",
        "\n",
        "  def fullname(self):\n",
        "    return ('{} {}'.format(self.first_name,self.last_name))\n",
        "\n",
        "  def raise_amount(self):\n",
        "    return self.pay * Empolyee.Amount"
      ],
      "metadata": {
        "id": "e7-y-_7JimDk"
      },
      "execution_count": 43,
      "outputs": []
    },
    {
      "cell_type": "code",
      "source": [
        "emp1 = Empolyee(\"Ali\",\"Yazan\",2000)"
      ],
      "metadata": {
        "id": "okZZSPSei9bD"
      },
      "execution_count": 44,
      "outputs": []
    },
    {
      "cell_type": "code",
      "source": [
        "print(emp1.first_name)\n",
        "print(emp1.last_name)\n",
        "print(emp1.fullname())\n",
        "print(emp1.email())"
      ],
      "metadata": {
        "colab": {
          "base_uri": "https://localhost:8080/"
        },
        "id": "Ntu4TwcIjAE2",
        "outputId": "ae535dfa-ba78-4d72-b646-a2276dfe47e4"
      },
      "execution_count": 46,
      "outputs": [
        {
          "output_type": "stream",
          "name": "stdout",
          "text": [
            "Ali\n",
            "Yazan\n",
            "Ali Yazan\n",
            "Ali.Yazan@pomx.com\n"
          ]
        }
      ]
    },
    {
      "cell_type": "code",
      "source": [
        "emp1.first_name = \"Mohammed\""
      ],
      "metadata": {
        "id": "if9ZGjOyjCzc"
      },
      "execution_count": 47,
      "outputs": []
    },
    {
      "cell_type": "code",
      "source": [
        "print(emp1.first_name)\n",
        "print(emp1.last_name)\n",
        "print(emp1.fullname())\n",
        "print(emp1.email())"
      ],
      "metadata": {
        "colab": {
          "base_uri": "https://localhost:8080/"
        },
        "id": "dqrKMSy_jHuH",
        "outputId": "5ddc5a3b-6c35-47f2-899f-7786ee5f7b5c"
      },
      "execution_count": 48,
      "outputs": [
        {
          "output_type": "stream",
          "name": "stdout",
          "text": [
            "Mohammed\n",
            "Yazan\n",
            "Mohammed Yazan\n",
            "Mohammed.Yazan@pomx.com\n"
          ]
        }
      ]
    },
    {
      "cell_type": "code",
      "source": [
        "class Empolyee():\n",
        "  Amount = 1.05\n",
        "  def __init__(self,first_name,last_name,pay):\n",
        "    self.first_name = first_name\n",
        "    self.last_name = last_name \n",
        "    self.pay = pay\n",
        "\n",
        "  @property\n",
        "  def email(self):\n",
        "    return ('{}.{}@pomx.com'.format(self.first_name,self.last_name))\n",
        "  @property\n",
        "  def fullname(self):\n",
        "    return ('{} {}'.format(self.first_name,self.last_name))\n",
        "\n",
        "  def raise_amount(self):\n",
        "    return self.pay * Empolyee.Amount"
      ],
      "metadata": {
        "id": "f5MLEs3HjJXc"
      },
      "execution_count": 49,
      "outputs": []
    },
    {
      "cell_type": "code",
      "source": [
        "emp1 = Empolyee(\"Ali\",\"Yazan\",2000)"
      ],
      "metadata": {
        "id": "AvUUnElbjUQq"
      },
      "execution_count": 50,
      "outputs": []
    },
    {
      "cell_type": "code",
      "source": [
        "print(emp1.first_name)\n",
        "print(emp1.last_name)\n",
        "print(emp1.fullname)\n",
        "print(emp1.email)"
      ],
      "metadata": {
        "colab": {
          "base_uri": "https://localhost:8080/"
        },
        "id": "XsWBL90QjWj2",
        "outputId": "ecc32bf3-8ff0-431f-f6fd-f36f6c617d96"
      },
      "execution_count": 52,
      "outputs": [
        {
          "output_type": "stream",
          "name": "stdout",
          "text": [
            "Ali\n",
            "Yazan\n",
            "Ali Yazan\n",
            "Ali.Yazan@pomx.com\n"
          ]
        }
      ]
    },
    {
      "cell_type": "code",
      "source": [
        "emp1.first_name = \"Mohammed\""
      ],
      "metadata": {
        "id": "Q-ePYiSijZXx"
      },
      "execution_count": 53,
      "outputs": []
    },
    {
      "cell_type": "code",
      "source": [
        "print(emp1.first_name)\n",
        "print(emp1.last_name)\n",
        "print(emp1.fullname)\n",
        "print(emp1.email)"
      ],
      "metadata": {
        "colab": {
          "base_uri": "https://localhost:8080/"
        },
        "id": "Ov3WhEJXjdVU",
        "outputId": "3e5b9003-e9b5-4061-c288-a78e5746d0ba"
      },
      "execution_count": 54,
      "outputs": [
        {
          "output_type": "stream",
          "name": "stdout",
          "text": [
            "Mohammed\n",
            "Yazan\n",
            "Mohammed Yazan\n",
            "Mohammed.Yazan@pomx.com\n"
          ]
        }
      ]
    },
    {
      "cell_type": "code",
      "source": [
        "emp1.fullname "
      ],
      "metadata": {
        "colab": {
          "base_uri": "https://localhost:8080/",
          "height": 35
        },
        "id": "-NEzy6N9jfoW",
        "outputId": "1f2ff1e5-cc1b-4898-ebd0-5484f120383c"
      },
      "execution_count": 55,
      "outputs": [
        {
          "output_type": "execute_result",
          "data": {
            "text/plain": [
              "'Mohammed Yazan'"
            ],
            "application/vnd.google.colaboratory.intrinsic+json": {
              "type": "string"
            }
          },
          "metadata": {},
          "execution_count": 55
        }
      ]
    },
    {
      "cell_type": "code",
      "source": [
        "emp1.fullname = \"Ali Abduallah\""
      ],
      "metadata": {
        "colab": {
          "base_uri": "https://localhost:8080/",
          "height": 169
        },
        "id": "aUFgYM0xllwN",
        "outputId": "4b1eff82-7d0c-495d-9697-eff352f96228"
      },
      "execution_count": 56,
      "outputs": [
        {
          "output_type": "error",
          "ename": "AttributeError",
          "evalue": "ignored",
          "traceback": [
            "\u001b[0;31m---------------------------------------------------------------------------\u001b[0m",
            "\u001b[0;31mAttributeError\u001b[0m                            Traceback (most recent call last)",
            "\u001b[0;32m<ipython-input-56-0da180f743c6>\u001b[0m in \u001b[0;36m<module>\u001b[0;34m\u001b[0m\n\u001b[0;32m----> 1\u001b[0;31m \u001b[0memp1\u001b[0m\u001b[0;34m.\u001b[0m\u001b[0mfullname\u001b[0m \u001b[0;34m=\u001b[0m \u001b[0;34m\"Ali Abduallah\"\u001b[0m\u001b[0;34m\u001b[0m\u001b[0;34m\u001b[0m\u001b[0m\n\u001b[0m",
            "\u001b[0;31mAttributeError\u001b[0m: can't set attribute"
          ]
        }
      ]
    },
    {
      "cell_type": "code",
      "source": [
        "class Empolyee():\n",
        "  Amount = 1.05\n",
        "  def __init__(self,first_name,last_name,pay):\n",
        "    self.first_name = first_name\n",
        "    self.last_name = last_name \n",
        "    self.pay = pay\n",
        "\n",
        "  @property\n",
        "  def email(self):\n",
        "    return ('{}.{}@pomx.com'.format(self.first_name,self.last_name))\n",
        "  @property\n",
        "  def fullname(self):\n",
        "    return ('{} {}'.format(self.first_name,self.last_name))\n",
        "  \n",
        "  @fullname.setter\n",
        "  def fullname(self,name):\n",
        "    first,last = name.split(\" \")\n",
        "    self.first_name = first\n",
        "    self.last_name = last \n",
        "\n",
        "  def raise_amount(self):\n",
        "    return self.pay * Empolyee.Amount"
      ],
      "metadata": {
        "id": "mRj5lLtblqLG"
      },
      "execution_count": 57,
      "outputs": []
    },
    {
      "cell_type": "code",
      "source": [
        "emp1 = Empolyee(\"Ali\",\"Yazan\",2000)"
      ],
      "metadata": {
        "id": "-nidLkLHmHYM"
      },
      "execution_count": 60,
      "outputs": []
    },
    {
      "cell_type": "code",
      "source": [
        "emp1.fullname "
      ],
      "metadata": {
        "colab": {
          "base_uri": "https://localhost:8080/",
          "height": 35
        },
        "id": "tvFbp6QPl_KF",
        "outputId": "7b8194e5-eaf0-47af-a488-54941897faf6"
      },
      "execution_count": 61,
      "outputs": [
        {
          "output_type": "execute_result",
          "data": {
            "text/plain": [
              "'Ali Yazan'"
            ],
            "application/vnd.google.colaboratory.intrinsic+json": {
              "type": "string"
            }
          },
          "metadata": {},
          "execution_count": 61
        }
      ]
    },
    {
      "cell_type": "code",
      "source": [
        "emp1.fullname = \"Ali Abduallah\""
      ],
      "metadata": {
        "id": "i9MmNPj9mBmj"
      },
      "execution_count": 62,
      "outputs": []
    },
    {
      "cell_type": "code",
      "source": [
        "emp1.fullname"
      ],
      "metadata": {
        "colab": {
          "base_uri": "https://localhost:8080/",
          "height": 35
        },
        "id": "dv5PlCFDmDa2",
        "outputId": "0b0be7da-dbcb-4ed0-fdd2-3d82bc3f5cdf"
      },
      "execution_count": 63,
      "outputs": [
        {
          "output_type": "execute_result",
          "data": {
            "text/plain": [
              "'Ali Abduallah'"
            ],
            "application/vnd.google.colaboratory.intrinsic+json": {
              "type": "string"
            }
          },
          "metadata": {},
          "execution_count": 63
        }
      ]
    },
    {
      "cell_type": "code",
      "source": [
        "class Empolyee():\n",
        "  Amount = 1.05\n",
        "  def __init__(self,first_name,last_name,pay):\n",
        "    self.first_name = first_name\n",
        "    self.last_name = last_name \n",
        "    self.pay = pay\n",
        "\n",
        "  @property\n",
        "  def email(self):\n",
        "    return ('{}.{}@pomx.com'.format(self.first_name,self.last_name))\n",
        "  @property\n",
        "  def fullname(self):\n",
        "    return ('{} {}'.format(self.first_name,self.last_name))\n",
        "  \n",
        "  @fullname.setter\n",
        "  def fullname(self,name):\n",
        "    first,last = name.split(\" \")\n",
        "    self.first_name = first\n",
        "    self.last_name = last \n",
        "\n",
        "  @fullname.deleter\n",
        "  def fullname(self):\n",
        "    print(\"Delete Name!\")\n",
        "    self.first_name = None\n",
        "    self.last_name = None \n",
        "\n",
        "\n",
        "  def raise_amount(self):\n",
        "    return self.pay * Empolyee.Amount"
      ],
      "metadata": {
        "id": "Ph24iIrdmLLO"
      },
      "execution_count": 65,
      "outputs": []
    },
    {
      "cell_type": "markdown",
      "source": [
        "# Polymorphism \n",
        "Polymorphism in Python is the ability of an object to take many forms. In simple words, polymorphism allows us to perform the same action in many different ways.\n",
        "\n",
        "For example, Jessa acts as an employee when she is at the office. However, when she is at home, she acts like a wife. Also, she represents herself differently in different places. Therefore, the same person takes different forms as per the situation.\n",
        "\n",
        "\n",
        "![polymorphic_len_function.webp](data:image/webp;base64,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)"
      ],
      "metadata": {
        "id": "OHYuRUFZm_8O"
      }
    },
    {
      "cell_type": "code",
      "source": [
        "len(\"Mohammed\")"
      ],
      "metadata": {
        "colab": {
          "base_uri": "https://localhost:8080/"
        },
        "id": "1vlk3rl3m0d0",
        "outputId": "80bba990-d8bd-4c8b-d4cc-011eab4722c0"
      },
      "execution_count": 66,
      "outputs": [
        {
          "output_type": "execute_result",
          "data": {
            "text/plain": [
              "8"
            ]
          },
          "metadata": {},
          "execution_count": 66
        }
      ]
    },
    {
      "cell_type": "code",
      "source": [
        "len([\"mohammed\",\"maha\",\"amal\",\"nouf\",\"ranad\",\"Khalad\"])"
      ],
      "metadata": {
        "colab": {
          "base_uri": "https://localhost:8080/"
        },
        "id": "okBcCc2EnLA1",
        "outputId": "90c00cf2-f4e5-49af-ff6e-0c1c0a78fd89"
      },
      "execution_count": 67,
      "outputs": [
        {
          "output_type": "execute_result",
          "data": {
            "text/plain": [
              "6"
            ]
          },
          "metadata": {},
          "execution_count": 67
        }
      ]
    },
    {
      "cell_type": "code",
      "source": [
        "len(str.__dict__)"
      ],
      "metadata": {
        "colab": {
          "base_uri": "https://localhost:8080/"
        },
        "id": "3Y-YlRtenUz-",
        "outputId": "d372f0b3-274c-4092-ce9c-34f87e3690f6"
      },
      "execution_count": 70,
      "outputs": [
        {
          "output_type": "execute_result",
          "data": {
            "text/plain": [
              "69"
            ]
          },
          "metadata": {},
          "execution_count": 70
        }
      ]
    },
    {
      "cell_type": "code",
      "source": [
        "9+6"
      ],
      "metadata": {
        "colab": {
          "base_uri": "https://localhost:8080/"
        },
        "id": "6IC1JLNanrfa",
        "outputId": "866bbe1b-8248-48a1-aa23-38e6519f6227"
      },
      "execution_count": 71,
      "outputs": [
        {
          "output_type": "execute_result",
          "data": {
            "text/plain": [
              "15"
            ]
          },
          "metadata": {},
          "execution_count": 71
        }
      ]
    },
    {
      "cell_type": "code",
      "source": [
        "\"Mohammed\" + \"ALi\""
      ],
      "metadata": {
        "colab": {
          "base_uri": "https://localhost:8080/",
          "height": 35
        },
        "id": "gEG9qFdaoJWR",
        "outputId": "320932cf-8cef-4d7b-d7a2-5e87e8d34d0e"
      },
      "execution_count": 72,
      "outputs": [
        {
          "output_type": "execute_result",
          "data": {
            "text/plain": [
              "'MohammedALi'"
            ],
            "application/vnd.google.colaboratory.intrinsic+json": {
              "type": "string"
            }
          },
          "metadata": {},
          "execution_count": 72
        }
      ]
    },
    {
      "cell_type": "code",
      "source": [
        "9*5"
      ],
      "metadata": {
        "colab": {
          "base_uri": "https://localhost:8080/"
        },
        "id": "Yt5sHHkzoLdN",
        "outputId": "4def970c-8f49-4468-c287-093c6a92c13b"
      },
      "execution_count": 73,
      "outputs": [
        {
          "output_type": "execute_result",
          "data": {
            "text/plain": [
              "45"
            ]
          },
          "metadata": {},
          "execution_count": 73
        }
      ]
    },
    {
      "cell_type": "code",
      "source": [
        "9*\" Ali\""
      ],
      "metadata": {
        "colab": {
          "base_uri": "https://localhost:8080/",
          "height": 35
        },
        "id": "ifmJPCdjoOUm",
        "outputId": "52985f8b-ed85-4e55-c841-270d228c198c"
      },
      "execution_count": 75,
      "outputs": [
        {
          "output_type": "execute_result",
          "data": {
            "text/plain": [
              "' Ali Ali Ali Ali Ali Ali Ali Ali Ali'"
            ],
            "application/vnd.google.colaboratory.intrinsic+json": {
              "type": "string"
            }
          },
          "metadata": {},
          "execution_count": 75
        }
      ]
    },
    {
      "cell_type": "code",
      "source": [],
      "metadata": {
        "id": "dw7onlTEoP5u"
      },
      "execution_count": null,
      "outputs": []
    }
  ]
}