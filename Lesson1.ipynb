{
  "nbformat": 4,
  "nbformat_minor": 0,
  "metadata": {
    "colab": {
      "provenance": [],
      "authorship_tag": "ABX9TyMVfYK4bckpMRt6vYhzhaHJ",
      "include_colab_link": true
    },
    "kernelspec": {
      "name": "python3",
      "display_name": "Python 3"
    },
    "language_info": {
      "name": "python"
    }
  },
  "cells": [
    {
      "cell_type": "markdown",
      "metadata": {
        "id": "view-in-github",
        "colab_type": "text"
      },
      "source": [
        "<a href=\"https://colab.research.google.com/github/Mohammed-Alnemari/Workshop_Python/blob/main/Lesson1.ipynb\" target=\"_parent\"><img src=\"https://colab.research.google.com/assets/colab-badge.svg\" alt=\"Open In Colab\"/></a>"
      ]
    },
    {
      "cell_type": "markdown",
      "source": [
        "# Python DataType \n",
        "\n",
        "\n",
        "1.   Integers -> int --> 3,4,5,6\n",
        "2.   Floating point -> float --> 2.3,3.4,100.0\n",
        "3.   Strings --> str --> \"Mohamed\", \"90\", \"يايثون\"\n",
        "4.   Lists --> list --> order sequnce of objects [101,\"Saudi\",111.222]\n",
        "4.   Dictionaries --> dict --> Unorder key:Value pairs{\"Key\":\"value\",\"name\": \"Mohammed\"}\n",
        "5.   Tuples --> tup -- > order immutable sequence of objects (10,\"tabuk\",2220)\n",
        "6.   Sets --> set --> unorder collection of unique objects {\"a\",\"c\"}\n",
        "7.   Booleans --> bool --> logical values True or False "
      ],
      "metadata": {
        "id": "iejcCigtsbme"
      }
    },
    {
      "cell_type": "markdown",
      "source": [
        "# Numbering Data Type"
      ],
      "metadata": {
        "id": "vD4Jmn77L6ha"
      }
    },
    {
      "cell_type": "markdown",
      "source": [
        "In this workshop the focus to use integers and floating from numeric data type. \n",
        "\n",
        "Exampels  | Numbers \"Type\" \n",
        "-------------------|------------------\n",
        "1, 2, -5, 10000       | Intgers \n",
        "1.2, 2e55, 0.5E3       | Floating-point numbers \n",
        "1j,0.5j,2j             | Complex Number"
      ],
      "metadata": {
        "id": "xzFhVRU28e6I"
      }
    },
    {
      "cell_type": "markdown",
      "source": [
        "# Basic Arthimetic"
      ],
      "metadata": {
        "id": "p9v68Pdk-bfB"
      }
    },
    {
      "cell_type": "code",
      "execution_count": null,
      "metadata": {
        "colab": {
          "base_uri": "https://localhost:8080/"
        },
        "id": "XTDjLvXIsWQz",
        "outputId": "5cb027a0-82e3-482f-ca3b-278c9fdb4f9f"
      },
      "outputs": [
        {
          "output_type": "stream",
          "name": "stdout",
          "text": [
            "3\n",
            "<class 'int'>\n"
          ]
        }
      ],
      "source": [
        "# Int + Int \n",
        "add = 2+1\n",
        "print(add)\n",
        "print(type(add))"
      ]
    },
    {
      "cell_type": "code",
      "source": [
        "# Int - Int \n",
        "sub = 2-1\n",
        "print(sub)\n",
        "print(type(sub))"
      ],
      "metadata": {
        "colab": {
          "base_uri": "https://localhost:8080/"
        },
        "id": "VhYuGP6Y9-2n",
        "outputId": "8c75c2a9-547e-47ea-cb61-14a9c3d7beef"
      },
      "execution_count": null,
      "outputs": [
        {
          "output_type": "stream",
          "name": "stdout",
          "text": [
            "1\n",
            "<class 'int'>\n"
          ]
        }
      ]
    },
    {
      "cell_type": "code",
      "source": [
        "# Int * Int \n",
        "mult = 5*2\n",
        "print(mult)\n",
        "print(type(mult))"
      ],
      "metadata": {
        "colab": {
          "base_uri": "https://localhost:8080/"
        },
        "id": "Od0lWddC-0aw",
        "outputId": "d6652b5f-cf81-4c62-a644-72c87b556e73"
      },
      "execution_count": null,
      "outputs": [
        {
          "output_type": "stream",
          "name": "stdout",
          "text": [
            "10\n",
            "<class 'int'>\n"
          ]
        }
      ]
    },
    {
      "cell_type": "code",
      "source": [
        "# Int / Int >  \n",
        "div = 10/5\n",
        "print(div)\n",
        "print(type(div))"
      ],
      "metadata": {
        "colab": {
          "base_uri": "https://localhost:8080/"
        },
        "id": "uQv0LQI9_EPq",
        "outputId": "3a543d1d-0c89-41bf-eff2-a12a10073d99"
      },
      "execution_count": null,
      "outputs": [
        {
          "output_type": "stream",
          "name": "stdout",
          "text": [
            "2.0\n",
            "<class 'float'>\n"
          ]
        }
      ]
    },
    {
      "cell_type": "code",
      "source": [
        "# floor division \n",
        "floor = 70//22\n",
        "print(floor)\n",
        "print(type(floor))"
      ],
      "metadata": {
        "colab": {
          "base_uri": "https://localhost:8080/"
        },
        "id": "cXJ8F6Ro_Srb",
        "outputId": "b7647456-ebd7-4f46-b877-04c4d42115d9"
      },
      "execution_count": null,
      "outputs": [
        {
          "output_type": "stream",
          "name": "stdout",
          "text": [
            "3\n",
            "<class 'int'>\n"
          ]
        }
      ]
    },
    {
      "cell_type": "code",
      "source": [
        "# module \n",
        "mod = 7%4\n",
        "print(mod)\n",
        "print(type(mod))"
      ],
      "metadata": {
        "colab": {
          "base_uri": "https://localhost:8080/"
        },
        "id": "qXIUmUTz_iBW",
        "outputId": "6ab3e74d-5ac2-4571-9bf2-e981f0f036d8"
      },
      "execution_count": null,
      "outputs": [
        {
          "output_type": "stream",
          "name": "stdout",
          "text": [
            "3\n",
            "<class 'int'>\n"
          ]
        }
      ]
    },
    {
      "cell_type": "code",
      "source": [
        "# what about the power \n",
        "2**3"
      ],
      "metadata": {
        "colab": {
          "base_uri": "https://localhost:8080/"
        },
        "id": "rHIbhAiZ_3L0",
        "outputId": "fa356dec-22fc-4977-82ca-a33a2451cfd6"
      },
      "execution_count": null,
      "outputs": [
        {
          "output_type": "execute_result",
          "data": {
            "text/plain": [
              "8"
            ]
          },
          "metadata": {},
          "execution_count": 13
        }
      ]
    },
    {
      "cell_type": "code",
      "source": [
        "# what about the squre roots \n",
        "4**0.5"
      ],
      "metadata": {
        "colab": {
          "base_uri": "https://localhost:8080/"
        },
        "id": "zwLQm7H6AeGS",
        "outputId": "43313d94-c72d-48e6-e20a-5f267752b8e7"
      },
      "execution_count": null,
      "outputs": [
        {
          "output_type": "execute_result",
          "data": {
            "text/plain": [
              "2.0"
            ]
          },
          "metadata": {},
          "execution_count": 14
        }
      ]
    },
    {
      "cell_type": "markdown",
      "source": [
        "# Order of Operations \n",
        "1. Parentheses ()\n",
        "2. exponents ** \n",
        "3. multiplication * & division /  \n",
        "4. add + & sub -  \n",
        "\n"
      ],
      "metadata": {
        "id": "0QMqvI-iBA4M"
      }
    },
    {
      "cell_type": "code",
      "source": [
        "2+10 * 10 +30 "
      ],
      "metadata": {
        "colab": {
          "base_uri": "https://localhost:8080/"
        },
        "id": "V7vheGo0AkdK",
        "outputId": "40e75270-025b-4320-b1f7-5dcd4b20ce3b"
      },
      "execution_count": null,
      "outputs": [
        {
          "output_type": "execute_result",
          "data": {
            "text/plain": [
              "132"
            ]
          },
          "metadata": {},
          "execution_count": 15
        }
      ]
    },
    {
      "cell_type": "code",
      "source": [
        "(2+10) * (10+30)"
      ],
      "metadata": {
        "colab": {
          "base_uri": "https://localhost:8080/"
        },
        "id": "WKDDYw_jD4KV",
        "outputId": "b5f2976d-5fed-48c3-b4a8-100d9ab2da88"
      },
      "execution_count": null,
      "outputs": [
        {
          "output_type": "execute_result",
          "data": {
            "text/plain": [
              "480"
            ]
          },
          "metadata": {},
          "execution_count": 16
        }
      ]
    },
    {
      "cell_type": "code",
      "source": [
        "2**2 * 2**5"
      ],
      "metadata": {
        "colab": {
          "base_uri": "https://localhost:8080/"
        },
        "id": "44CJ9_6KEA76",
        "outputId": "ab2ad10f-e955-4a7a-ce79-1f3db2836c3f"
      },
      "execution_count": null,
      "outputs": [
        {
          "output_type": "execute_result",
          "data": {
            "text/plain": [
              "128"
            ]
          },
          "metadata": {},
          "execution_count": 17
        }
      ]
    },
    {
      "cell_type": "code",
      "source": [
        "2*2**2*5"
      ],
      "metadata": {
        "colab": {
          "base_uri": "https://localhost:8080/"
        },
        "id": "0ClNGwSJEJv3",
        "outputId": "b9ef2808-b3fa-4886-ef53-64eb68ce531d"
      },
      "execution_count": null,
      "outputs": [
        {
          "output_type": "execute_result",
          "data": {
            "text/plain": [
              "40"
            ]
          },
          "metadata": {},
          "execution_count": 18
        }
      ]
    },
    {
      "cell_type": "code",
      "source": [
        "(2*2)**(2*5)"
      ],
      "metadata": {
        "colab": {
          "base_uri": "https://localhost:8080/"
        },
        "id": "HYyC9w4gEQ-J",
        "outputId": "9e3905bc-7b90-44ab-cfd2-8dbf3b5da130"
      },
      "execution_count": null,
      "outputs": [
        {
          "output_type": "execute_result",
          "data": {
            "text/plain": [
              "1048576"
            ]
          },
          "metadata": {},
          "execution_count": 19
        }
      ]
    },
    {
      "cell_type": "code",
      "source": [
        "4**10"
      ],
      "metadata": {
        "colab": {
          "base_uri": "https://localhost:8080/"
        },
        "id": "R0cTdXYwEWii",
        "outputId": "972934eb-b197-4b3a-afc1-36ddba149f14"
      },
      "execution_count": null,
      "outputs": [
        {
          "output_type": "execute_result",
          "data": {
            "text/plain": [
              "1048576"
            ]
          },
          "metadata": {},
          "execution_count": 23
        }
      ]
    },
    {
      "cell_type": "markdown",
      "source": [
        "# Quiz of the Numbers "
      ],
      "metadata": {
        "id": "YVSv5YsAE_a0"
      }
    },
    {
      "cell_type": "code",
      "source": [
        "# use two different operation to output the number 256 ?\n",
        "\n",
        "'''\n",
        "Start your Answer here \n",
        "'''"
      ],
      "metadata": {
        "colab": {
          "base_uri": "https://localhost:8080/",
          "height": 35
        },
        "id": "plKzK_dnEaTb",
        "outputId": "57a8095d-ba1c-4ec5-9efd-6780be8975e1"
      },
      "execution_count": null,
      "outputs": [
        {
          "output_type": "execute_result",
          "data": {
            "text/plain": [
              "'\\nStart your Answer here \\n'"
            ],
            "application/vnd.google.colaboratory.intrinsic+json": {
              "type": "string"
            }
          },
          "metadata": {},
          "execution_count": 25
        }
      ]
    },
    {
      "cell_type": "code",
      "source": [
        "# Use one operation to output the number 4096 ?\n",
        "'''\n",
        "Start your Answer here \n",
        "'''"
      ],
      "metadata": {
        "colab": {
          "base_uri": "https://localhost:8080/",
          "height": 35
        },
        "id": "jTWjxcy2I765",
        "outputId": "ac770697-01a5-4f2b-a426-d9dcf28aaf64"
      },
      "execution_count": null,
      "outputs": [
        {
          "output_type": "execute_result",
          "data": {
            "text/plain": [
              "'\\nStart your Answer here \\n'"
            ],
            "application/vnd.google.colaboratory.intrinsic+json": {
              "type": "string"
            }
          },
          "metadata": {},
          "execution_count": 26
        }
      ]
    },
    {
      "cell_type": "code",
      "source": [
        "# use the order of the operations to find out these 3 numbers (24),(32),(65544)?\n",
        "# Hint only number 2 seven times   \n",
        "'''\n",
        "Write your code here \n",
        "'''"
      ],
      "metadata": {
        "colab": {
          "base_uri": "https://localhost:8080/",
          "height": 35
        },
        "id": "FarAfX1fJMe3",
        "outputId": "44ad7181-7839-40c8-c0ad-be337990cf91"
      },
      "execution_count": null,
      "outputs": [
        {
          "output_type": "execute_result",
          "data": {
            "text/plain": [
              "'\\n\\n'"
            ],
            "application/vnd.google.colaboratory.intrinsic+json": {
              "type": "string"
            }
          },
          "metadata": {},
          "execution_count": 27
        }
      ]
    },
    {
      "cell_type": "code",
      "source": [],
      "metadata": {
        "id": "ipjcsPw5Jp5w"
      },
      "execution_count": null,
      "outputs": []
    },
    {
      "cell_type": "markdown",
      "source": [
        "# Depth Numering System \n",
        "1. Integral (integers,boolean).\n",
        "2. NonIntegral (Float,Complex,decimal,fraction).\n",
        "3. Integers (Datat Type, operations, Constractors and Bases).\n",
        "4. Rational Numbers (Datat Typle,operation).\n",
        "5. float Numbers (internal representation + Testing + related to integers + Rouding).\n",
        "6. Decimals (constructors ).\n",
        "7. Math operation on Decimals + performance. \n",
        "8. Complex Number (math operation + performance).\n",
        "9. Booleans (Truth Values).\n",
        "10. Booleans (precedence + short circuiting + operators).\n",
        "11. Number system (Floating,Int8,Int16,Int4).\n",
        "12. Computer Architecture and Compilar with numering system dig deep.\n",
        "\n",
        "\n",
        "if you are interested to learn about these will take between 10-15 hours with practicing. email me mnemari@ut.edu.sa \n"
      ],
      "metadata": {
        "id": "ZPbDl-YHMhCx"
      }
    },
    {
      "cell_type": "code",
      "source": [],
      "metadata": {
        "colab": {
          "base_uri": "https://localhost:8080/"
        },
        "id": "7uzpBxBWJyQ6",
        "outputId": "131ba2ee-3411-4285-c0e6-130cd39317f6"
      },
      "execution_count": null,
      "outputs": [
        {
          "output_type": "execute_result",
          "data": {
            "text/plain": [
              "65536"
            ]
          },
          "metadata": {},
          "execution_count": 34
        }
      ]
    },
    {
      "cell_type": "code",
      "source": [],
      "metadata": {
        "id": "cGnlQs4sKaR6"
      },
      "execution_count": null,
      "outputs": []
    }
  ]
}