{
  "nbformat": 4,
  "nbformat_minor": 0,
  "metadata": {
    "colab": {
      "provenance": [],
      "authorship_tag": "ABX9TyMiKcMOKQFvM0grTOxPNOEu",
      "include_colab_link": true
    },
    "kernelspec": {
      "name": "python3",
      "display_name": "Python 3"
    },
    "language_info": {
      "name": "python"
    }
  },
  "cells": [
    {
      "cell_type": "markdown",
      "metadata": {
        "id": "view-in-github",
        "colab_type": "text"
      },
      "source": [
        "<a href=\"https://colab.research.google.com/github/Mohammed-Alnemari/Workshop_Python/blob/main/Lesson5.ipynb\" target=\"_parent\"><img src=\"https://colab.research.google.com/assets/colab-badge.svg\" alt=\"Open In Colab\"/></a>"
      ]
    },
    {
      "cell_type": "markdown",
      "source": [
        "# Dictionary \n",
        "* Similar to the list in man aspects \n",
        "* Both are mutable \n",
        "* Both are dynamic \n",
        "* Both can be nested \n",
        "\n",
        "* different in elemets are accesse by their postion in the list viaindexing \n",
        "* dictonary elements are acessed via keys \n",
        "\n"
      ],
      "metadata": {
        "id": "mDnAh8PUWk3i"
      }
    },
    {
      "cell_type": "code",
      "execution_count": null,
      "metadata": {
        "id": "8iCsjHoBU22O"
      },
      "outputs": [],
      "source": [
        "# dictionary in python \n",
        "d = {'key1':'value1','key2':'value2','key3':'value3','key4':'value4'}"
      ]
    },
    {
      "cell_type": "code",
      "source": [
        "# another to define it \n",
        "d1 = dict([\n",
        "    ('key1','value1'),\n",
        "    ('key2','value2'),\n",
        "    ('key3','value3'),\n",
        "    ('key4','value4'),\n",
        "    ('key5','value5')\n",
        "    ])"
      ],
      "metadata": {
        "id": "zxETNwkyW_XV"
      },
      "execution_count": null,
      "outputs": []
    },
    {
      "cell_type": "code",
      "source": [
        "d2 = dict(\n",
        "    key1='value1',\n",
        "    key2='value2',\n",
        "    key3='value3',\n",
        "    key4='value4',\n",
        "    key5='value5'\n",
        "    )"
      ],
      "metadata": {
        "id": "uSmA8sctXrv-"
      },
      "execution_count": null,
      "outputs": []
    },
    {
      "cell_type": "code",
      "source": [
        "# access the value via the key \n",
        "d['key1']\n",
        "#change the value \n",
        "d['key1'] ='Mohammed'\n",
        "#remove key3 \n",
        "del d['key3']"
      ],
      "metadata": {
        "id": "Icl1LszUYEwf"
      },
      "execution_count": null,
      "outputs": []
    },
    {
      "cell_type": "code",
      "source": [
        "type(d)"
      ],
      "metadata": {
        "colab": {
          "base_uri": "https://localhost:8080/"
        },
        "id": "Lx4BNBOPZNyR",
        "outputId": "6c68dce2-694f-49d6-8d8e-09aeab9b7391"
      },
      "execution_count": null,
      "outputs": [
        {
          "output_type": "execute_result",
          "data": {
            "text/plain": [
              "dict"
            ]
          },
          "metadata": {},
          "execution_count": 16
        }
      ]
    },
    {
      "cell_type": "code",
      "source": [
        "d[-1]"
      ],
      "metadata": {
        "colab": {
          "base_uri": "https://localhost:8080/",
          "height": 166
        },
        "id": "X47InxkzZOmF",
        "outputId": "91671f4d-8c16-4ca0-d7ae-723ba03e9115"
      },
      "execution_count": null,
      "outputs": [
        {
          "output_type": "error",
          "ename": "KeyError",
          "evalue": "ignored",
          "traceback": [
            "\u001b[0;31m---------------------------------------------------------------------------\u001b[0m",
            "\u001b[0;31mKeyError\u001b[0m                                  Traceback (most recent call last)",
            "\u001b[0;32m<ipython-input-17-1bab3c6dc314>\u001b[0m in \u001b[0;36m<module>\u001b[0;34m\u001b[0m\n\u001b[0;32m----> 1\u001b[0;31m \u001b[0md\u001b[0m\u001b[0;34m[\u001b[0m\u001b[0;34m-\u001b[0m\u001b[0;36m1\u001b[0m\u001b[0;34m]\u001b[0m\u001b[0;34m\u001b[0m\u001b[0;34m\u001b[0m\u001b[0m\n\u001b[0m",
            "\u001b[0;31mKeyError\u001b[0m: -1"
          ]
        }
      ]
    },
    {
      "cell_type": "code",
      "source": [
        "d[0:2]"
      ],
      "metadata": {
        "colab": {
          "base_uri": "https://localhost:8080/",
          "height": 166
        },
        "id": "BzTrX6pQZr46",
        "outputId": "d4c7f25b-2056-4741-fe1c-bf784bf44521"
      },
      "execution_count": null,
      "outputs": [
        {
          "output_type": "error",
          "ename": "TypeError",
          "evalue": "ignored",
          "traceback": [
            "\u001b[0;31m---------------------------------------------------------------------------\u001b[0m",
            "\u001b[0;31mTypeError\u001b[0m                                 Traceback (most recent call last)",
            "\u001b[0;32m<ipython-input-18-6c29bbc86102>\u001b[0m in \u001b[0;36m<module>\u001b[0;34m\u001b[0m\n\u001b[0;32m----> 1\u001b[0;31m \u001b[0md\u001b[0m\u001b[0;34m[\u001b[0m\u001b[0;36m0\u001b[0m\u001b[0;34m:\u001b[0m\u001b[0;36m2\u001b[0m\u001b[0;34m]\u001b[0m\u001b[0;34m\u001b[0m\u001b[0;34m\u001b[0m\u001b[0m\n\u001b[0m",
            "\u001b[0;31mTypeError\u001b[0m: unhashable type: 'slice'"
          ]
        }
      ]
    },
    {
      "cell_type": "code",
      "source": [
        "datasets = {}"
      ],
      "metadata": {
        "id": "5HyTyHzIZuZo"
      },
      "execution_count": null,
      "outputs": []
    },
    {
      "cell_type": "code",
      "source": [
        "type(datasets)"
      ],
      "metadata": {
        "colab": {
          "base_uri": "https://localhost:8080/"
        },
        "id": "RHj_NO_iasl-",
        "outputId": "21da77c2-f83c-47f9-9347-b482928c46e4"
      },
      "execution_count": null,
      "outputs": [
        {
          "output_type": "execute_result",
          "data": {
            "text/plain": [
              "dict"
            ]
          },
          "metadata": {},
          "execution_count": 22
        }
      ]
    },
    {
      "cell_type": "code",
      "source": [
        "# I want to define name, number of items, size in mb, need_clean , first_five_names \n",
        "# type_of_images << using dict \n",
        "# datasets[name] = \n",
        "'''\n",
        "Finish the writing \n",
        "'''"
      ],
      "metadata": {
        "colab": {
          "base_uri": "https://localhost:8080/",
          "height": 35
        },
        "id": "bYxKrOyAaus4",
        "outputId": "dce94f0a-cf7f-4c8b-f980-6843561fa1e7"
      },
      "execution_count": null,
      "outputs": [
        {
          "output_type": "execute_result",
          "data": {
            "text/plain": [
              "'\\nFinish the writing \\n'"
            ],
            "application/vnd.google.colaboratory.intrinsic+json": {
              "type": "string"
            }
          },
          "metadata": {},
          "execution_count": 23
        }
      ]
    },
    {
      "cell_type": "code",
      "source": [
        "# Build in dictionary methods \n",
        "d.clear()"
      ],
      "metadata": {
        "id": "kBhpTIPFbreS"
      },
      "execution_count": null,
      "outputs": []
    },
    {
      "cell_type": "code",
      "source": [
        "d"
      ],
      "metadata": {
        "colab": {
          "base_uri": "https://localhost:8080/"
        },
        "id": "pfTWsxJ5dvWX",
        "outputId": "f597f5dd-5e63-4220-d2f0-57fb58835fd8"
      },
      "execution_count": null,
      "outputs": [
        {
          "output_type": "execute_result",
          "data": {
            "text/plain": [
              "{}"
            ]
          },
          "metadata": {},
          "execution_count": 25
        }
      ]
    },
    {
      "cell_type": "code",
      "source": [
        "d2.get('key1')"
      ],
      "metadata": {
        "colab": {
          "base_uri": "https://localhost:8080/",
          "height": 35
        },
        "id": "oo8XLUE0dv7T",
        "outputId": "11c279be-3078-49f9-a3fe-5c46ec8916fc"
      },
      "execution_count": null,
      "outputs": [
        {
          "output_type": "execute_result",
          "data": {
            "text/plain": [
              "'value1'"
            ],
            "application/vnd.google.colaboratory.intrinsic+json": {
              "type": "string"
            }
          },
          "metadata": {},
          "execution_count": 26
        }
      ]
    },
    {
      "cell_type": "code",
      "source": [
        "print(d2.get('keyz'))"
      ],
      "metadata": {
        "colab": {
          "base_uri": "https://localhost:8080/"
        },
        "id": "wFDoza6Fd7ao",
        "outputId": "d290fd46-36b2-460f-fc68-5c562ab62d62"
      },
      "execution_count": null,
      "outputs": [
        {
          "output_type": "stream",
          "name": "stdout",
          "text": [
            "None\n"
          ]
        }
      ]
    },
    {
      "cell_type": "code",
      "source": [
        "d1.items()"
      ],
      "metadata": {
        "colab": {
          "base_uri": "https://localhost:8080/"
        },
        "id": "s_QeI8UZeC44",
        "outputId": "ed9cb30e-b2fb-4cea-c628-d36b915dbc98"
      },
      "execution_count": null,
      "outputs": [
        {
          "output_type": "execute_result",
          "data": {
            "text/plain": [
              "dict_items([('key1', 'value1'), ('key2', 'value2'), ('key3', 'value3'), ('key4', 'value4'), ('key5', 'value5')])"
            ]
          },
          "metadata": {},
          "execution_count": 29
        }
      ]
    },
    {
      "cell_type": "code",
      "source": [
        "d1.keys()"
      ],
      "metadata": {
        "colab": {
          "base_uri": "https://localhost:8080/"
        },
        "id": "fKGDpy-MeJnf",
        "outputId": "c9428308-2f18-4f93-9860-92965072475a"
      },
      "execution_count": null,
      "outputs": [
        {
          "output_type": "execute_result",
          "data": {
            "text/plain": [
              "dict_keys(['key1', 'key2', 'key3', 'key4', 'key5'])"
            ]
          },
          "metadata": {},
          "execution_count": 30
        }
      ]
    },
    {
      "cell_type": "code",
      "source": [
        "d1.values()"
      ],
      "metadata": {
        "colab": {
          "base_uri": "https://localhost:8080/"
        },
        "id": "pc0pDSy2eNd1",
        "outputId": "85cfde9f-5185-4e7d-9c6d-839cae4f23cb"
      },
      "execution_count": null,
      "outputs": [
        {
          "output_type": "execute_result",
          "data": {
            "text/plain": [
              "dict_values(['value1', 'value2', 'value3', 'value4', 'value5'])"
            ]
          },
          "metadata": {},
          "execution_count": 31
        }
      ]
    },
    {
      "cell_type": "code",
      "source": [
        "# how to convert to a list \n",
        "list(d1.values())"
      ],
      "metadata": {
        "colab": {
          "base_uri": "https://localhost:8080/"
        },
        "id": "uiCkvxAieO99",
        "outputId": "b075acb7-1cfd-4b5a-dd40-dece27e06205"
      },
      "execution_count": null,
      "outputs": [
        {
          "output_type": "execute_result",
          "data": {
            "text/plain": [
              "['value1', 'value2', 'value3', 'value4', 'value5']"
            ]
          },
          "metadata": {},
          "execution_count": 32
        }
      ]
    },
    {
      "cell_type": "code",
      "source": [
        "#pop\n",
        "#d.pop(<key>,)\n",
        "#pop_itme << remove the last-key value pair added from d and return it as a tuple \n"
      ],
      "metadata": {
        "id": "kMj_JTfTedaD"
      },
      "execution_count": null,
      "outputs": []
    },
    {
      "cell_type": "code",
      "source": [
        "#d.update << marge a dictonary woth another dictoanry or with oterable of kay value pair\n",
        "dx = {'a':10,'b':20,'c':30}\n",
        "dy = {'b':200,'e':300}"
      ],
      "metadata": {
        "id": "VilMdaWCgAgb"
      },
      "execution_count": null,
      "outputs": []
    },
    {
      "cell_type": "code",
      "source": [
        "dx.update(dy)"
      ],
      "metadata": {
        "id": "WVeLUEk-hIP6"
      },
      "execution_count": null,
      "outputs": []
    },
    {
      "cell_type": "code",
      "source": [
        "dx"
      ],
      "metadata": {
        "colab": {
          "base_uri": "https://localhost:8080/"
        },
        "id": "gvIIMZ48hKcQ",
        "outputId": "13fdfc6a-d895-49a6-96ae-56e476a100d7"
      },
      "execution_count": null,
      "outputs": [
        {
          "output_type": "execute_result",
          "data": {
            "text/plain": [
              "{'a': 10, 'b': 200, 'c': 30, 'e': 300}"
            ]
          },
          "metadata": {},
          "execution_count": 36
        }
      ]
    },
    {
      "cell_type": "code",
      "source": [
        "dy.update(b=333,e=444,f=555)"
      ],
      "metadata": {
        "id": "N1Qr8hnMhK63"
      },
      "execution_count": null,
      "outputs": []
    },
    {
      "cell_type": "code",
      "source": [
        "dy"
      ],
      "metadata": {
        "colab": {
          "base_uri": "https://localhost:8080/"
        },
        "id": "WFlOs2BGhX9c",
        "outputId": "100070ec-b091-46e7-e267-f6b61414555e"
      },
      "execution_count": null,
      "outputs": [
        {
          "output_type": "execute_result",
          "data": {
            "text/plain": [
              "{'b': 333, 'e': 444, 'f': 555}"
            ]
          },
          "metadata": {},
          "execution_count": 42
        }
      ]
    },
    {
      "cell_type": "code",
      "source": [
        "gx = {'a':25,('a','d'):[55,33]}"
      ],
      "metadata": {
        "id": "3rIpqmcRhYqS"
      },
      "execution_count": null,
      "outputs": []
    },
    {
      "cell_type": "code",
      "source": [
        "gx"
      ],
      "metadata": {
        "colab": {
          "base_uri": "https://localhost:8080/"
        },
        "id": "4fnKf8VZh_We",
        "outputId": "d7451c02-b344-4fd9-ca14-c31684e8e2e7"
      },
      "execution_count": null,
      "outputs": [
        {
          "output_type": "execute_result",
          "data": {
            "text/plain": [
              "{'a': 25, ('a', 'd'): [55, 33]}"
            ]
          },
          "metadata": {},
          "execution_count": 45
        }
      ]
    },
    {
      "cell_type": "markdown",
      "source": [
        "# Quiz for Dictionary "
      ],
      "metadata": {
        "id": "af06F_-DkvqM"
      }
    },
    {
      "cell_type": "code",
      "source": [
        "# q1. you have this data structure  x, Write the expressioin to access 30 ? \n",
        "\n",
        "x = [\n",
        "    'a',\n",
        "    'b',\n",
        "    {\n",
        "        'foo': 1,\n",
        "        'bar':\n",
        "        {\n",
        "            'x' : 10,\n",
        "            'y' : 20,\n",
        "            'z' : 30\n",
        "        },\n",
        "        'baz': 3\n",
        "    },\n",
        "    'c',\n",
        "    'd'\n",
        "]"
      ],
      "metadata": {
        "id": "psJqoUqEiEFa"
      },
      "execution_count": null,
      "outputs": []
    },
    {
      "cell_type": "code",
      "source": [
        "'''\n",
        "Your Answer should be here \n",
        "\n",
        "'''"
      ],
      "metadata": {
        "colab": {
          "base_uri": "https://localhost:8080/"
        },
        "id": "qg4hxQffi39D",
        "outputId": "a5deb15b-6f07-4abb-c6e2-a29947d5afc7"
      },
      "execution_count": null,
      "outputs": [
        {
          "output_type": "execute_result",
          "data": {
            "text/plain": [
              "30"
            ]
          },
          "metadata": {},
          "execution_count": 50
        }
      ]
    },
    {
      "cell_type": "code",
      "source": [
        "#q2. You have a dictonary called dbox create a copy of dbox called dboz using three different ways to do this ? \n"
      ],
      "metadata": {
        "colab": {
          "base_uri": "https://localhost:8080/"
        },
        "id": "S3wRnn0djA6G",
        "outputId": "96d5e6e4-a45a-4549-a531-550f6f06bbe5"
      },
      "execution_count": null,
      "outputs": [
        {
          "output_type": "execute_result",
          "data": {
            "text/plain": [
              "True"
            ]
          },
          "metadata": {},
          "execution_count": 55
        }
      ]
    },
    {
      "cell_type": "code",
      "source": [
        "dc = {}"
      ],
      "metadata": {
        "id": "Q6BNBEHnjlzn"
      },
      "execution_count": null,
      "outputs": []
    }
  ]
}